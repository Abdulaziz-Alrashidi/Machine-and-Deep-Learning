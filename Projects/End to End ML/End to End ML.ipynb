{
 "cells": [
  {
   "cell_type": "markdown",
   "id": "83d41058-7ad0-4b1d-b19a-fbb129420322",
   "metadata": {},
   "source": [
    "\n",
    "## **End-to-End Classification**\n",
    "*Feature Engineering and Model Comparison on High-Cardinality Data*"
   ]
  },
  {
   "cell_type": "markdown",
   "id": "87b4d2e7-841e-4649-ad3a-d7210c61d4e5",
   "metadata": {
    "jp-MarkdownHeadingCollapsed": true
   },
   "source": [
    "### **1 - Overview and Goal** "
   ]
  },
  {
   "cell_type": "markdown",
   "id": "759f9459-0ec3-4956-8c56-8762bfd89dd5",
   "metadata": {},
   "source": [
    "This notebook demonstrates a careful, data-driven approach to modeling using a classical dataset with high-cardinality categorical features, emphasizing manual feature engineering and thoughtful feature while systematically examines each feature, reduces cardinality where appropriate, merges semantically similar categories, and preserves meaningful signals while minimizing redundancy. It presents an end-to-end workflow, from data preparation to model evaluation\n",
    "\n",
    "The [Adult Income Census](https://www.kaggle.com/datasets/uciml/adult-census-income) dataset will be used, which contains demographic and employment information collected from individuals across the United States. The goal is to predict whether a person earns more than $50K per year based on these features.\n",
    "\n",
    "The notebook is organized in a step-by-step style and includes:\n",
    "\n",
    "- Data Overview and Preparation: Understanding the dataset, handling missing values, and preparing features for modeling.\n",
    "- Modeling and Evaluation: Training multiple classification models, evaluating their performance, and comparing results to identify the most effective approach."
   ]
  },
  {
   "cell_type": "markdown",
   "id": "6cbe8acc-c47b-4700-b6a9-50674f12b88e",
   "metadata": {},
   "source": [
    "### **2 - Data Overview, Preparation**"
   ]
  },
  {
   "cell_type": "markdown",
   "id": "e9376ac7-a1a8-4c14-83e2-c998d00b5e59",
   "metadata": {},
   "source": [
    "#### **2.1 - Data Loading and Preliminary Analysis and Preparation**"
   ]
  },
  {
   "cell_type": "markdown",
   "id": "00b161ae-8e8d-4143-823b-9c8c32a9a5d6",
   "metadata": {},
   "source": [
    "First, the necessary libraries for data manipulation, visualization, preprocessing, and modeling will be imported."
   ]
  },
  {
   "cell_type": "code",
   "execution_count": 7,
   "id": "7224cc8d-3f23-4810-88a1-a043a1628fa7",
   "metadata": {},
   "outputs": [],
   "source": [
    "import pandas as pd\n",
    "import seaborn as sns\n",
    "import matplotlib.pyplot as plt\n",
    "import numpy as np\n",
    "import time\n",
    "from sklearn.model_selection import train_test_split\n",
    "from sklearn.preprocessing import StandardScaler\n",
    "from sklearn.pipeline import Pipeline\n",
    "from sklearn.metrics import accuracy_score, precision_score, recall_score, f1_score\n",
    "from sklearn.linear_model import LogisticRegression\n",
    "from catboost import CatBoostClassifier"
   ]
  },
  {
   "cell_type": "markdown",
   "id": "1a920339-b447-434c-993a-1b2311d8bd16",
   "metadata": {},
   "source": [
    "Next, the dataset will be loaded and briefly explored to understand its structure and key characteristics."
   ]
  },
  {
   "cell_type": "code",
   "execution_count": 9,
   "id": "188be22f-1524-4ca8-8b99-fc5220f47d72",
   "metadata": {},
   "outputs": [],
   "source": [
    "data = pd.read_csv(\"adult.csv\")"
   ]
  },
  {
   "cell_type": "code",
   "execution_count": 10,
   "id": "597e3d4c-ba07-4831-a3db-4b70d78f4d51",
   "metadata": {},
   "outputs": [
    {
     "data": {
      "text/html": [
       "<div>\n",
       "<style scoped>\n",
       "    .dataframe tbody tr th:only-of-type {\n",
       "        vertical-align: middle;\n",
       "    }\n",
       "\n",
       "    .dataframe tbody tr th {\n",
       "        vertical-align: top;\n",
       "    }\n",
       "\n",
       "    .dataframe thead th {\n",
       "        text-align: right;\n",
       "    }\n",
       "</style>\n",
       "<table border=\"1\" class=\"dataframe\">\n",
       "  <thead>\n",
       "    <tr style=\"text-align: right;\">\n",
       "      <th></th>\n",
       "      <th>age</th>\n",
       "      <th>workclass</th>\n",
       "      <th>fnlwgt</th>\n",
       "      <th>education</th>\n",
       "      <th>education.num</th>\n",
       "      <th>marital.status</th>\n",
       "      <th>occupation</th>\n",
       "      <th>relationship</th>\n",
       "      <th>race</th>\n",
       "      <th>sex</th>\n",
       "      <th>capital.gain</th>\n",
       "      <th>capital.loss</th>\n",
       "      <th>hours.per.week</th>\n",
       "      <th>native.country</th>\n",
       "      <th>income</th>\n",
       "    </tr>\n",
       "  </thead>\n",
       "  <tbody>\n",
       "    <tr>\n",
       "      <th>0</th>\n",
       "      <td>90</td>\n",
       "      <td>?</td>\n",
       "      <td>77053</td>\n",
       "      <td>HS-grad</td>\n",
       "      <td>9</td>\n",
       "      <td>Widowed</td>\n",
       "      <td>?</td>\n",
       "      <td>Not-in-family</td>\n",
       "      <td>White</td>\n",
       "      <td>Female</td>\n",
       "      <td>0</td>\n",
       "      <td>4356</td>\n",
       "      <td>40</td>\n",
       "      <td>United-States</td>\n",
       "      <td>&lt;=50K</td>\n",
       "    </tr>\n",
       "    <tr>\n",
       "      <th>1</th>\n",
       "      <td>82</td>\n",
       "      <td>Private</td>\n",
       "      <td>132870</td>\n",
       "      <td>HS-grad</td>\n",
       "      <td>9</td>\n",
       "      <td>Widowed</td>\n",
       "      <td>Exec-managerial</td>\n",
       "      <td>Not-in-family</td>\n",
       "      <td>White</td>\n",
       "      <td>Female</td>\n",
       "      <td>0</td>\n",
       "      <td>4356</td>\n",
       "      <td>18</td>\n",
       "      <td>United-States</td>\n",
       "      <td>&lt;=50K</td>\n",
       "    </tr>\n",
       "    <tr>\n",
       "      <th>2</th>\n",
       "      <td>66</td>\n",
       "      <td>?</td>\n",
       "      <td>186061</td>\n",
       "      <td>Some-college</td>\n",
       "      <td>10</td>\n",
       "      <td>Widowed</td>\n",
       "      <td>?</td>\n",
       "      <td>Unmarried</td>\n",
       "      <td>Black</td>\n",
       "      <td>Female</td>\n",
       "      <td>0</td>\n",
       "      <td>4356</td>\n",
       "      <td>40</td>\n",
       "      <td>United-States</td>\n",
       "      <td>&lt;=50K</td>\n",
       "    </tr>\n",
       "    <tr>\n",
       "      <th>3</th>\n",
       "      <td>54</td>\n",
       "      <td>Private</td>\n",
       "      <td>140359</td>\n",
       "      <td>7th-8th</td>\n",
       "      <td>4</td>\n",
       "      <td>Divorced</td>\n",
       "      <td>Machine-op-inspct</td>\n",
       "      <td>Unmarried</td>\n",
       "      <td>White</td>\n",
       "      <td>Female</td>\n",
       "      <td>0</td>\n",
       "      <td>3900</td>\n",
       "      <td>40</td>\n",
       "      <td>United-States</td>\n",
       "      <td>&lt;=50K</td>\n",
       "    </tr>\n",
       "    <tr>\n",
       "      <th>4</th>\n",
       "      <td>41</td>\n",
       "      <td>Private</td>\n",
       "      <td>264663</td>\n",
       "      <td>Some-college</td>\n",
       "      <td>10</td>\n",
       "      <td>Separated</td>\n",
       "      <td>Prof-specialty</td>\n",
       "      <td>Own-child</td>\n",
       "      <td>White</td>\n",
       "      <td>Female</td>\n",
       "      <td>0</td>\n",
       "      <td>3900</td>\n",
       "      <td>40</td>\n",
       "      <td>United-States</td>\n",
       "      <td>&lt;=50K</td>\n",
       "    </tr>\n",
       "  </tbody>\n",
       "</table>\n",
       "</div>"
      ],
      "text/plain": [
       "   age workclass  fnlwgt     education  education.num marital.status  \\\n",
       "0   90         ?   77053       HS-grad              9        Widowed   \n",
       "1   82   Private  132870       HS-grad              9        Widowed   \n",
       "2   66         ?  186061  Some-college             10        Widowed   \n",
       "3   54   Private  140359       7th-8th              4       Divorced   \n",
       "4   41   Private  264663  Some-college             10      Separated   \n",
       "\n",
       "          occupation   relationship   race     sex  capital.gain  \\\n",
       "0                  ?  Not-in-family  White  Female             0   \n",
       "1    Exec-managerial  Not-in-family  White  Female             0   \n",
       "2                  ?      Unmarried  Black  Female             0   \n",
       "3  Machine-op-inspct      Unmarried  White  Female             0   \n",
       "4     Prof-specialty      Own-child  White  Female             0   \n",
       "\n",
       "   capital.loss  hours.per.week native.country income  \n",
       "0          4356              40  United-States  <=50K  \n",
       "1          4356              18  United-States  <=50K  \n",
       "2          4356              40  United-States  <=50K  \n",
       "3          3900              40  United-States  <=50K  \n",
       "4          3900              40  United-States  <=50K  "
      ]
     },
     "execution_count": 10,
     "metadata": {},
     "output_type": "execute_result"
    }
   ],
   "source": [
    "data.head()"
   ]
  },
  {
   "cell_type": "code",
   "execution_count": 11,
   "id": "0a851ad6-084d-4a9d-9b83-57b085322b55",
   "metadata": {},
   "outputs": [
    {
     "data": {
      "text/plain": [
       "(32561, 15)"
      ]
     },
     "execution_count": 11,
     "metadata": {},
     "output_type": "execute_result"
    }
   ],
   "source": [
    "data.shape"
   ]
  },
  {
   "cell_type": "code",
   "execution_count": 12,
   "id": "2bc06b61-a44c-410a-a1e0-f4174b4fc3f8",
   "metadata": {},
   "outputs": [
    {
     "name": "stdout",
     "output_type": "stream",
     "text": [
      "<class 'pandas.core.frame.DataFrame'>\n",
      "RangeIndex: 32561 entries, 0 to 32560\n",
      "Data columns (total 15 columns):\n",
      " #   Column          Non-Null Count  Dtype \n",
      "---  ------          --------------  ----- \n",
      " 0   age             32561 non-null  int64 \n",
      " 1   workclass       32561 non-null  object\n",
      " 2   fnlwgt          32561 non-null  int64 \n",
      " 3   education       32561 non-null  object\n",
      " 4   education.num   32561 non-null  int64 \n",
      " 5   marital.status  32561 non-null  object\n",
      " 6   occupation      32561 non-null  object\n",
      " 7   relationship    32561 non-null  object\n",
      " 8   race            32561 non-null  object\n",
      " 9   sex             32561 non-null  object\n",
      " 10  capital.gain    32561 non-null  int64 \n",
      " 11  capital.loss    32561 non-null  int64 \n",
      " 12  hours.per.week  32561 non-null  int64 \n",
      " 13  native.country  32561 non-null  object\n",
      " 14  income          32561 non-null  object\n",
      "dtypes: int64(6), object(9)\n",
      "memory usage: 3.7+ MB\n"
     ]
    }
   ],
   "source": [
    "data.info()"
   ]
  },
  {
   "cell_type": "markdown",
   "id": "abeb2c9a-ad1b-4d16-9f7d-4b10470e9865",
   "metadata": {},
   "source": [
    "The dataset contains 32561 samples and 15 features, comprising a mix of categorical and numerical variables. These features represent various demographic, employment, and financial details of each individual in the dataset.\n",
    "\n",
    "The meaning of each feature is generally as follows[$^1$](https://minds.wisconsin.edu/bitstream/handle/1793/82299/TR1869%20Junda%20Chen%203.pdf?sequence=1&isAllowed=y) and will be explored in more detail later:\n",
    "\n",
    "- **age**: Age of the individual\n",
    "- **workclass**: Sector or organizational type of employment\n",
    "- **fnlwgt**: A statistical weighting value that estimates how much each row represents a subset of the actual population. This column will be excluded from analysis and modeling as it does not provide predictive insight. \n",
    "- **education**: Type of education\n",
    "- **education.num**: Number representing the level of education the individual has received\n",
    "- **marital.status**: Marital status of the individual\n",
    "- **occupation**: Specific occupation type\n",
    "- **relationship**: Type of relationship the individual has (e.g., spouse, husband)\n",
    "- **race**: Race of the individual\n",
    "- **sex**: Sex of the individual\n",
    "- **capital.gain**: Capital gain in dollars\n",
    "- **capital.loss**: Capital loss in dollars\n",
    "- **hours.per.week**: Number of hours worked per week\n",
    "- **native.country**: Native country of the individual\n",
    "- **income**: Target variable indicating whether the individual earns `<=50K` or `>50K` per year in dollars"
   ]
  },
  {
   "cell_type": "code",
   "execution_count": 14,
   "id": "ce8b9e19-f21c-41ad-bc35-bd590c975669",
   "metadata": {},
   "outputs": [],
   "source": [
    "data = data.drop(columns=[\"fnlwgt\"])"
   ]
  },
  {
   "cell_type": "code",
   "execution_count": 15,
   "id": "73caec29-12c0-4880-947a-bd26108b5cf6",
   "metadata": {},
   "outputs": [],
   "source": [
    "columns = data.select_dtypes(include=\"object\").columns"
   ]
  },
  {
   "cell_type": "code",
   "execution_count": 16,
   "id": "d27a6c69-9c51-4a5d-bc69-17f2f795f556",
   "metadata": {
    "scrolled": true
   },
   "outputs": [
    {
     "name": "stdout",
     "output_type": "stream",
     "text": [
      "['?' 'Private' 'State-gov' 'Federal-gov' 'Self-emp-not-inc' 'Self-emp-inc'\n",
      " 'Local-gov' 'Without-pay' 'Never-worked']\n",
      "workclass\n",
      "Private             22696\n",
      "Self-emp-not-inc     2541\n",
      "Local-gov            2093\n",
      "?                    1836\n",
      "State-gov            1298\n",
      "Self-emp-inc         1116\n",
      "Federal-gov           960\n",
      "Without-pay            14\n",
      "Never-worked            7\n",
      "Name: count, dtype: int64\n",
      "['HS-grad' 'Some-college' '7th-8th' '10th' 'Doctorate' 'Prof-school'\n",
      " 'Bachelors' 'Masters' '11th' 'Assoc-acdm' 'Assoc-voc' '1st-4th' '5th-6th'\n",
      " '12th' '9th' 'Preschool']\n",
      "education\n",
      "HS-grad         10501\n",
      "Some-college     7291\n",
      "Bachelors        5355\n",
      "Masters          1723\n",
      "Assoc-voc        1382\n",
      "11th             1175\n",
      "Assoc-acdm       1067\n",
      "10th              933\n",
      "7th-8th           646\n",
      "Prof-school       576\n",
      "9th               514\n",
      "12th              433\n",
      "Doctorate         413\n",
      "5th-6th           333\n",
      "1st-4th           168\n",
      "Preschool          51\n",
      "Name: count, dtype: int64\n",
      "['Widowed' 'Divorced' 'Separated' 'Never-married' 'Married-civ-spouse'\n",
      " 'Married-spouse-absent' 'Married-AF-spouse']\n",
      "marital.status\n",
      "Married-civ-spouse       14976\n",
      "Never-married            10683\n",
      "Divorced                  4443\n",
      "Separated                 1025\n",
      "Widowed                    993\n",
      "Married-spouse-absent      418\n",
      "Married-AF-spouse           23\n",
      "Name: count, dtype: int64\n",
      "['?' 'Exec-managerial' 'Machine-op-inspct' 'Prof-specialty'\n",
      " 'Other-service' 'Adm-clerical' 'Craft-repair' 'Transport-moving'\n",
      " 'Handlers-cleaners' 'Sales' 'Farming-fishing' 'Tech-support'\n",
      " 'Protective-serv' 'Armed-Forces' 'Priv-house-serv']\n",
      "occupation\n",
      "Prof-specialty       4140\n",
      "Craft-repair         4099\n",
      "Exec-managerial      4066\n",
      "Adm-clerical         3770\n",
      "Sales                3650\n",
      "Other-service        3295\n",
      "Machine-op-inspct    2002\n",
      "?                    1843\n",
      "Transport-moving     1597\n",
      "Handlers-cleaners    1370\n",
      "Farming-fishing       994\n",
      "Tech-support          928\n",
      "Protective-serv       649\n",
      "Priv-house-serv       149\n",
      "Armed-Forces            9\n",
      "Name: count, dtype: int64\n",
      "['Not-in-family' 'Unmarried' 'Own-child' 'Other-relative' 'Husband' 'Wife']\n",
      "relationship\n",
      "Husband           13193\n",
      "Not-in-family      8305\n",
      "Own-child          5068\n",
      "Unmarried          3446\n",
      "Wife               1568\n",
      "Other-relative      981\n",
      "Name: count, dtype: int64\n",
      "['White' 'Black' 'Asian-Pac-Islander' 'Other' 'Amer-Indian-Eskimo']\n",
      "race\n",
      "White                 27816\n",
      "Black                  3124\n",
      "Asian-Pac-Islander     1039\n",
      "Amer-Indian-Eskimo      311\n",
      "Other                   271\n",
      "Name: count, dtype: int64\n",
      "['Female' 'Male']\n",
      "sex\n",
      "Male      21790\n",
      "Female    10771\n",
      "Name: count, dtype: int64\n",
      "['United-States' '?' 'Mexico' 'Greece' 'Vietnam' 'China' 'Taiwan' 'India'\n",
      " 'Philippines' 'Trinadad&Tobago' 'Canada' 'South' 'Holand-Netherlands'\n",
      " 'Puerto-Rico' 'Poland' 'Iran' 'England' 'Germany' 'Italy' 'Japan' 'Hong'\n",
      " 'Honduras' 'Cuba' 'Ireland' 'Cambodia' 'Peru' 'Nicaragua'\n",
      " 'Dominican-Republic' 'Haiti' 'El-Salvador' 'Hungary' 'Columbia'\n",
      " 'Guatemala' 'Jamaica' 'Ecuador' 'France' 'Yugoslavia' 'Scotland'\n",
      " 'Portugal' 'Laos' 'Thailand' 'Outlying-US(Guam-USVI-etc)']\n",
      "native.country\n",
      "United-States                 29170\n",
      "Mexico                          643\n",
      "?                               583\n",
      "Philippines                     198\n",
      "Germany                         137\n",
      "Canada                          121\n",
      "Puerto-Rico                     114\n",
      "El-Salvador                     106\n",
      "India                           100\n",
      "Cuba                             95\n",
      "England                          90\n",
      "Jamaica                          81\n",
      "South                            80\n",
      "China                            75\n",
      "Italy                            73\n",
      "Dominican-Republic               70\n",
      "Vietnam                          67\n",
      "Guatemala                        64\n",
      "Japan                            62\n",
      "Poland                           60\n",
      "Columbia                         59\n",
      "Taiwan                           51\n",
      "Haiti                            44\n",
      "Iran                             43\n",
      "Portugal                         37\n",
      "Nicaragua                        34\n",
      "Peru                             31\n",
      "Greece                           29\n",
      "France                           29\n",
      "Ecuador                          28\n",
      "Ireland                          24\n",
      "Hong                             20\n",
      "Cambodia                         19\n",
      "Trinadad&Tobago                  19\n",
      "Laos                             18\n",
      "Thailand                         18\n",
      "Yugoslavia                       16\n",
      "Outlying-US(Guam-USVI-etc)       14\n",
      "Hungary                          13\n",
      "Honduras                         13\n",
      "Scotland                         12\n",
      "Holand-Netherlands                1\n",
      "Name: count, dtype: int64\n",
      "['<=50K' '>50K']\n",
      "income\n",
      "<=50K    24720\n",
      ">50K      7841\n",
      "Name: count, dtype: int64\n"
     ]
    }
   ],
   "source": [
    "for col in columns:\n",
    "    print(data[col].unique())\n",
    "    print(data[col].value_counts())"
   ]
  },
  {
   "cell_type": "markdown",
   "id": "5926e387-bfbd-4200-8895-aafcf7d3b99a",
   "metadata": {},
   "source": [
    "There is a clear class imbalance across many features, notably in the target feature.\n",
    "\n",
    "The missing values in the dataset are consistently represented by the symbol \"?\". \n",
    "\n",
    "There are no noticeable inconsistencies in category naming. However, the dataset suffers from high cardinality, as most of the features are categorical and contain a large number of unique categories.\n",
    "\n",
    "To make things clearer and easier to process, the missing values will be replaced with `NaN`."
   ]
  },
  {
   "cell_type": "code",
   "execution_count": 18,
   "id": "d16d6a67-ec73-4642-a494-157ac85a5143",
   "metadata": {},
   "outputs": [],
   "source": [
    "data = data.replace(\"?\", np.nan)"
   ]
  },
  {
   "cell_type": "code",
   "execution_count": 19,
   "id": "c2a37960-c420-46a5-b632-e5f9445b7a9f",
   "metadata": {},
   "outputs": [
    {
     "name": "stdout",
     "output_type": "stream",
     "text": [
      "age                  0\n",
      "workclass         1836\n",
      "education            0\n",
      "education.num        0\n",
      "marital.status       0\n",
      "occupation        1843\n",
      "relationship         0\n",
      "race                 0\n",
      "sex                  0\n",
      "capital.gain         0\n",
      "capital.loss         0\n",
      "hours.per.week       0\n",
      "native.country     583\n",
      "income               0\n",
      "dtype: int64\n",
      "Total missing values: 2399, and it constitutes 7.37%\n"
     ]
    }
   ],
   "source": [
    "print(data.isna().sum())\n",
    "print(f\"Total missing values: {data.isna().any(axis=1).sum()}, and it constitutes {((data.isna().any(axis=1).sum())/data.shape[0] * 100):.2f}%\")"
   ]
  },
  {
   "cell_type": "code",
   "execution_count": 20,
   "id": "9ffbcdad-a1f2-4fee-bbd1-2565c7b471de",
   "metadata": {},
   "outputs": [
    {
     "data": {
      "text/plain": [
       "1836"
      ]
     },
     "execution_count": 20,
     "metadata": {},
     "output_type": "execute_result"
    }
   ],
   "source": [
    "(data[\"workclass\"].isna() & data[\"occupation\"].isna()).sum()"
   ]
  },
  {
   "cell_type": "code",
   "execution_count": 21,
   "id": "62475b5c-f326-47f6-9b46-aad591b12c2f",
   "metadata": {},
   "outputs": [],
   "source": [
    "nan_row = data.isna().sum(axis=1)"
   ]
  },
  {
   "cell_type": "code",
   "execution_count": 22,
   "id": "e9ac7e67-d1ca-4da8-96e2-13a6dee36cdf",
   "metadata": {},
   "outputs": [
    {
     "data": {
      "text/plain": [
       "0    30162\n",
       "2     1809\n",
       "1      563\n",
       "3       27\n",
       "Name: count, dtype: int64"
      ]
     },
     "execution_count": 22,
     "metadata": {},
     "output_type": "execute_result"
    }
   ],
   "source": [
    "nan_row.value_counts()"
   ]
  },
  {
   "cell_type": "markdown",
   "id": "da10220e-f9ad-42e7-85eb-a6b33579ef6b",
   "metadata": {},
   "source": [
    "\n",
    "The rows that have at least one missing value are 2,399, which constitute about 7% of the data. Most of the samples with missing values have two missing fields. The missingness is not random: 1,836 samples have missing values in both workclass and occupation, suggesting a systematic pattern.\n",
    "\n",
    "Thus, all rows with missing values will be dropped because:\n",
    "\n",
    "- The missinginess is not random, and any form of imputation could introduce a systematic bias to the model.\n",
    "- The missing values are in categorical features.\n",
    "- Categorical features inherently carry unique information, so imputing them implies certainty, which may shift the decision boundaries of the model.\n",
    "- Classification models often make hard splits based on categories, and categorical entropy is highly sensitive to errors, so imputation could negatively affect model's integiry.\n",
    "- The total missingingness is mild, approximatly 7% of data.\n"
   ]
  },
  {
   "cell_type": "code",
   "execution_count": 24,
   "id": "ee01eb1e-1f73-4514-ade7-e6acf250494f",
   "metadata": {},
   "outputs": [],
   "source": [
    "data = data.dropna()"
   ]
  },
  {
   "cell_type": "code",
   "execution_count": 25,
   "id": "b70951a3-18ed-42f9-83e6-988d704debc9",
   "metadata": {},
   "outputs": [
    {
     "data": {
      "text/html": [
       "<div>\n",
       "<style scoped>\n",
       "    .dataframe tbody tr th:only-of-type {\n",
       "        vertical-align: middle;\n",
       "    }\n",
       "\n",
       "    .dataframe tbody tr th {\n",
       "        vertical-align: top;\n",
       "    }\n",
       "\n",
       "    .dataframe thead th {\n",
       "        text-align: right;\n",
       "    }\n",
       "</style>\n",
       "<table border=\"1\" class=\"dataframe\">\n",
       "  <thead>\n",
       "    <tr style=\"text-align: right;\">\n",
       "      <th></th>\n",
       "      <th>age</th>\n",
       "      <th>workclass</th>\n",
       "      <th>education</th>\n",
       "      <th>education.num</th>\n",
       "      <th>marital.status</th>\n",
       "      <th>occupation</th>\n",
       "      <th>relationship</th>\n",
       "      <th>race</th>\n",
       "      <th>sex</th>\n",
       "      <th>capital.gain</th>\n",
       "      <th>capital.loss</th>\n",
       "      <th>hours.per.week</th>\n",
       "      <th>native.country</th>\n",
       "      <th>income</th>\n",
       "    </tr>\n",
       "  </thead>\n",
       "  <tbody>\n",
       "    <tr>\n",
       "      <th>1</th>\n",
       "      <td>82</td>\n",
       "      <td>Private</td>\n",
       "      <td>HS-grad</td>\n",
       "      <td>9</td>\n",
       "      <td>Widowed</td>\n",
       "      <td>Exec-managerial</td>\n",
       "      <td>Not-in-family</td>\n",
       "      <td>White</td>\n",
       "      <td>Female</td>\n",
       "      <td>0</td>\n",
       "      <td>4356</td>\n",
       "      <td>18</td>\n",
       "      <td>United-States</td>\n",
       "      <td>&lt;=50K</td>\n",
       "    </tr>\n",
       "    <tr>\n",
       "      <th>3</th>\n",
       "      <td>54</td>\n",
       "      <td>Private</td>\n",
       "      <td>7th-8th</td>\n",
       "      <td>4</td>\n",
       "      <td>Divorced</td>\n",
       "      <td>Machine-op-inspct</td>\n",
       "      <td>Unmarried</td>\n",
       "      <td>White</td>\n",
       "      <td>Female</td>\n",
       "      <td>0</td>\n",
       "      <td>3900</td>\n",
       "      <td>40</td>\n",
       "      <td>United-States</td>\n",
       "      <td>&lt;=50K</td>\n",
       "    </tr>\n",
       "    <tr>\n",
       "      <th>4</th>\n",
       "      <td>41</td>\n",
       "      <td>Private</td>\n",
       "      <td>Some-college</td>\n",
       "      <td>10</td>\n",
       "      <td>Separated</td>\n",
       "      <td>Prof-specialty</td>\n",
       "      <td>Own-child</td>\n",
       "      <td>White</td>\n",
       "      <td>Female</td>\n",
       "      <td>0</td>\n",
       "      <td>3900</td>\n",
       "      <td>40</td>\n",
       "      <td>United-States</td>\n",
       "      <td>&lt;=50K</td>\n",
       "    </tr>\n",
       "    <tr>\n",
       "      <th>5</th>\n",
       "      <td>34</td>\n",
       "      <td>Private</td>\n",
       "      <td>HS-grad</td>\n",
       "      <td>9</td>\n",
       "      <td>Divorced</td>\n",
       "      <td>Other-service</td>\n",
       "      <td>Unmarried</td>\n",
       "      <td>White</td>\n",
       "      <td>Female</td>\n",
       "      <td>0</td>\n",
       "      <td>3770</td>\n",
       "      <td>45</td>\n",
       "      <td>United-States</td>\n",
       "      <td>&lt;=50K</td>\n",
       "    </tr>\n",
       "    <tr>\n",
       "      <th>6</th>\n",
       "      <td>38</td>\n",
       "      <td>Private</td>\n",
       "      <td>10th</td>\n",
       "      <td>6</td>\n",
       "      <td>Separated</td>\n",
       "      <td>Adm-clerical</td>\n",
       "      <td>Unmarried</td>\n",
       "      <td>White</td>\n",
       "      <td>Male</td>\n",
       "      <td>0</td>\n",
       "      <td>3770</td>\n",
       "      <td>40</td>\n",
       "      <td>United-States</td>\n",
       "      <td>&lt;=50K</td>\n",
       "    </tr>\n",
       "  </tbody>\n",
       "</table>\n",
       "</div>"
      ],
      "text/plain": [
       "   age workclass     education  education.num marital.status  \\\n",
       "1   82   Private       HS-grad              9        Widowed   \n",
       "3   54   Private       7th-8th              4       Divorced   \n",
       "4   41   Private  Some-college             10      Separated   \n",
       "5   34   Private       HS-grad              9       Divorced   \n",
       "6   38   Private          10th              6      Separated   \n",
       "\n",
       "          occupation   relationship   race     sex  capital.gain  \\\n",
       "1    Exec-managerial  Not-in-family  White  Female             0   \n",
       "3  Machine-op-inspct      Unmarried  White  Female             0   \n",
       "4     Prof-specialty      Own-child  White  Female             0   \n",
       "5      Other-service      Unmarried  White  Female             0   \n",
       "6       Adm-clerical      Unmarried  White    Male             0   \n",
       "\n",
       "   capital.loss  hours.per.week native.country income  \n",
       "1          4356              18  United-States  <=50K  \n",
       "3          3900              40  United-States  <=50K  \n",
       "4          3900              40  United-States  <=50K  \n",
       "5          3770              45  United-States  <=50K  \n",
       "6          3770              40  United-States  <=50K  "
      ]
     },
     "execution_count": 25,
     "metadata": {},
     "output_type": "execute_result"
    }
   ],
   "source": [
    "data.head()"
   ]
  },
  {
   "cell_type": "code",
   "execution_count": 26,
   "id": "75e61783-e936-461a-859a-29632d2887c3",
   "metadata": {
    "scrolled": true
   },
   "outputs": [
    {
     "name": "stdout",
     "output_type": "stream",
     "text": [
      "age               0\n",
      "workclass         0\n",
      "education         0\n",
      "education.num     0\n",
      "marital.status    0\n",
      "occupation        0\n",
      "relationship      0\n",
      "race              0\n",
      "sex               0\n",
      "capital.gain      0\n",
      "capital.loss      0\n",
      "hours.per.week    0\n",
      "native.country    0\n",
      "income            0\n",
      "dtype: int64\n",
      "<class 'pandas.core.frame.DataFrame'>\n",
      "Index: 30162 entries, 1 to 32560\n",
      "Data columns (total 14 columns):\n",
      " #   Column          Non-Null Count  Dtype \n",
      "---  ------          --------------  ----- \n",
      " 0   age             30162 non-null  int64 \n",
      " 1   workclass       30162 non-null  object\n",
      " 2   education       30162 non-null  object\n",
      " 3   education.num   30162 non-null  int64 \n",
      " 4   marital.status  30162 non-null  object\n",
      " 5   occupation      30162 non-null  object\n",
      " 6   relationship    30162 non-null  object\n",
      " 7   race            30162 non-null  object\n",
      " 8   sex             30162 non-null  object\n",
      " 9   capital.gain    30162 non-null  int64 \n",
      " 10  capital.loss    30162 non-null  int64 \n",
      " 11  hours.per.week  30162 non-null  int64 \n",
      " 12  native.country  30162 non-null  object\n",
      " 13  income          30162 non-null  object\n",
      "dtypes: int64(5), object(9)\n",
      "memory usage: 3.5+ MB\n",
      "None\n"
     ]
    }
   ],
   "source": [
    "print(data.isna().sum())\n",
    "print(data.info())"
   ]
  },
  {
   "cell_type": "markdown",
   "id": "e588e132-903b-4c90-9d31-b864789ecce5",
   "metadata": {},
   "source": [
    "#### **2.2 - Design and Methodology**"
   ]
  },
  {
   "cell_type": "code",
   "execution_count": 28,
   "id": "8e8c8195-525e-44e5-918b-a6a3f8b6eb54",
   "metadata": {
    "scrolled": true
   },
   "outputs": [
    {
     "name": "stdout",
     "output_type": "stream",
     "text": [
      "['Private' 'State-gov' 'Federal-gov' 'Self-emp-not-inc' 'Self-emp-inc'\n",
      " 'Local-gov' 'Without-pay']\n",
      "workclass\n",
      "Private             22286\n",
      "Self-emp-not-inc     2499\n",
      "Local-gov            2067\n",
      "State-gov            1279\n",
      "Self-emp-inc         1074\n",
      "Federal-gov           943\n",
      "Without-pay            14\n",
      "Name: count, dtype: int64\n",
      "['HS-grad' '7th-8th' 'Some-college' '10th' 'Doctorate' 'Prof-school'\n",
      " 'Bachelors' 'Masters' '11th' 'Assoc-voc' '1st-4th' '5th-6th' 'Assoc-acdm'\n",
      " '12th' '9th' 'Preschool']\n",
      "education\n",
      "HS-grad         9840\n",
      "Some-college    6678\n",
      "Bachelors       5044\n",
      "Masters         1627\n",
      "Assoc-voc       1307\n",
      "11th            1048\n",
      "Assoc-acdm      1008\n",
      "10th             820\n",
      "7th-8th          557\n",
      "Prof-school      542\n",
      "9th              455\n",
      "12th             377\n",
      "Doctorate        375\n",
      "5th-6th          288\n",
      "1st-4th          151\n",
      "Preschool         45\n",
      "Name: count, dtype: int64\n",
      "['Widowed' 'Divorced' 'Separated' 'Never-married' 'Married-civ-spouse'\n",
      " 'Married-spouse-absent' 'Married-AF-spouse']\n",
      "marital.status\n",
      "Married-civ-spouse       14065\n",
      "Never-married             9726\n",
      "Divorced                  4214\n",
      "Separated                  939\n",
      "Widowed                    827\n",
      "Married-spouse-absent      370\n",
      "Married-AF-spouse           21\n",
      "Name: count, dtype: int64\n",
      "['Exec-managerial' 'Machine-op-inspct' 'Prof-specialty' 'Other-service'\n",
      " 'Adm-clerical' 'Transport-moving' 'Sales' 'Craft-repair'\n",
      " 'Farming-fishing' 'Tech-support' 'Protective-serv' 'Handlers-cleaners'\n",
      " 'Armed-Forces' 'Priv-house-serv']\n",
      "occupation\n",
      "Prof-specialty       4038\n",
      "Craft-repair         4030\n",
      "Exec-managerial      3992\n",
      "Adm-clerical         3721\n",
      "Sales                3584\n",
      "Other-service        3212\n",
      "Machine-op-inspct    1966\n",
      "Transport-moving     1572\n",
      "Handlers-cleaners    1350\n",
      "Farming-fishing       989\n",
      "Tech-support          912\n",
      "Protective-serv       644\n",
      "Priv-house-serv       143\n",
      "Armed-Forces            9\n",
      "Name: count, dtype: int64\n",
      "['Not-in-family' 'Unmarried' 'Own-child' 'Other-relative' 'Husband' 'Wife']\n",
      "relationship\n",
      "Husband           12463\n",
      "Not-in-family      7726\n",
      "Own-child          4466\n",
      "Unmarried          3212\n",
      "Wife               1406\n",
      "Other-relative      889\n",
      "Name: count, dtype: int64\n",
      "['White' 'Black' 'Asian-Pac-Islander' 'Other' 'Amer-Indian-Eskimo']\n",
      "race\n",
      "White                 25933\n",
      "Black                  2817\n",
      "Asian-Pac-Islander      895\n",
      "Amer-Indian-Eskimo      286\n",
      "Other                   231\n",
      "Name: count, dtype: int64\n",
      "['Female' 'Male']\n",
      "sex\n",
      "Male      20380\n",
      "Female     9782\n",
      "Name: count, dtype: int64\n",
      "['United-States' 'Mexico' 'Greece' 'Vietnam' 'China' 'Taiwan' 'India'\n",
      " 'Philippines' 'Trinadad&Tobago' 'Canada' 'South' 'Holand-Netherlands'\n",
      " 'Puerto-Rico' 'Poland' 'Iran' 'England' 'Germany' 'Italy' 'Japan' 'Hong'\n",
      " 'Honduras' 'Cuba' 'Ireland' 'Cambodia' 'Peru' 'Nicaragua'\n",
      " 'Dominican-Republic' 'Haiti' 'Hungary' 'Columbia' 'Guatemala'\n",
      " 'El-Salvador' 'Jamaica' 'Ecuador' 'France' 'Yugoslavia' 'Portugal' 'Laos'\n",
      " 'Thailand' 'Outlying-US(Guam-USVI-etc)' 'Scotland']\n",
      "native.country\n",
      "United-States                 27504\n",
      "Mexico                          610\n",
      "Philippines                     188\n",
      "Germany                         128\n",
      "Puerto-Rico                     109\n",
      "Canada                          107\n",
      "El-Salvador                     100\n",
      "India                           100\n",
      "Cuba                             92\n",
      "England                          86\n",
      "Jamaica                          80\n",
      "South                            71\n",
      "Italy                            68\n",
      "China                            68\n",
      "Dominican-Republic               67\n",
      "Vietnam                          64\n",
      "Guatemala                        63\n",
      "Japan                            59\n",
      "Poland                           56\n",
      "Columbia                         56\n",
      "Iran                             42\n",
      "Taiwan                           42\n",
      "Haiti                            42\n",
      "Portugal                         34\n",
      "Nicaragua                        33\n",
      "Peru                             30\n",
      "Greece                           29\n",
      "Ecuador                          27\n",
      "France                           27\n",
      "Ireland                          24\n",
      "Hong                             19\n",
      "Cambodia                         18\n",
      "Trinadad&Tobago                  18\n",
      "Thailand                         17\n",
      "Laos                             17\n",
      "Yugoslavia                       16\n",
      "Outlying-US(Guam-USVI-etc)       14\n",
      "Hungary                          13\n",
      "Honduras                         12\n",
      "Scotland                         11\n",
      "Holand-Netherlands                1\n",
      "Name: count, dtype: int64\n",
      "['<=50K' '>50K']\n",
      "income\n",
      "<=50K    22654\n",
      ">50K      7508\n",
      "Name: count, dtype: int64\n"
     ]
    }
   ],
   "source": [
    "for col in columns:\n",
    "    print(data[col].unique())\n",
    "    print(data[col].value_counts())"
   ]
  },
  {
   "cell_type": "code",
   "execution_count": 29,
   "id": "5d0f75ca-2246-474c-b2f7-ac62dca0050c",
   "metadata": {},
   "outputs": [
    {
     "name": "stdout",
     "output_type": "stream",
     "text": [
      "workclass          7\n",
      "education         16\n",
      "marital.status     7\n",
      "occupation        14\n",
      "relationship       6\n",
      "race               5\n",
      "sex                2\n",
      "native.country    41\n",
      "income             2\n",
      "dtype: int64\n",
      "The total number of unique values across all categories is: 100\n"
     ]
    }
   ],
   "source": [
    "print(data[columns].nunique())\n",
    "print(f\"The total number of unique values across all categories is: {data[columns].nunique().sum()}\")"
   ]
  },
  {
   "cell_type": "markdown",
   "id": "b2cd898b-2c56-494d-9f16-9b91c7ca20c0",
   "metadata": {},
   "source": [
    "\n",
    "It was mentioned earlier that this dataset has high cardinality, which occurs when features contain many unique categories. Modeling with categorical features can be approached in two ways:\n",
    "1. Encoding the categories so they can be represented numerically, or\n",
    "2. Using models that natively support categorical features, both approaches will be tested in this notebook.\n",
    "\n",
    "From a universal modeling and system engineering perspective, the first approach (encoding) is often preferred, as it produces more consistent, explainable, and portable models.\n",
    "\n",
    "The main challenge with high cardinality is that encoding can substantially increase the feature space, leading to more complex models and a higher risk of overfitting during training. For this dataset, if all categorical features are encoded, the model will have around 100 features.\n",
    "Thus, the following approach will be adopted: three copies of the dataset will be created and tested using three different methodologies, which will later be compared:\n",
    "\n",
    "- data_preprocessed – categorical features will be feature-engineered to reduce cardinality and simplify the data.\n",
    "- data_full_encoding – all categorical features will be one-hot encoded.\n",
    "- data_robust – no encoding will be applied. This represents the raw dataset, which will be used with the CatBoost model that natively supports categorical features and does not require feature scaling.\n"
   ]
  },
  {
   "cell_type": "markdown",
   "id": "373e80b0-e6ad-4b14-80de-3c72e5747a29",
   "metadata": {},
   "source": [
    "#### **2.3 - Data Analysis and Preparation**"
   ]
  },
  {
   "cell_type": "markdown",
   "id": "9829d96d-5983-41c1-a47d-f1c0c4a6f8e5",
   "metadata": {},
   "source": [
    "First, three copies will be created, and each will be processed and discussed separately"
   ]
  },
  {
   "cell_type": "code",
   "execution_count": 33,
   "id": "37baffd6-8cc1-46b8-88c7-2ef9582a78f1",
   "metadata": {},
   "outputs": [],
   "source": [
    "data_preprocessed = data.copy()\n",
    "data_full_encoding = data.copy()\n",
    "data_robust = data.copy()"
   ]
  },
  {
   "cell_type": "markdown",
   "id": "c705abfe-2d29-4a4e-968e-506a7f7c3532",
   "metadata": {},
   "source": [
    "##### **2.3.1 - Feature Engineering (data_preprocessed)**"
   ]
  },
  {
   "cell_type": "code",
   "execution_count": 35,
   "id": "48f7ef71-b00c-42f2-b87c-a0fa444220fc",
   "metadata": {
    "scrolled": true
   },
   "outputs": [
    {
     "name": "stdout",
     "output_type": "stream",
     "text": [
      "['Private' 'State-gov' 'Federal-gov' 'Self-emp-not-inc' 'Self-emp-inc'\n",
      " 'Local-gov' 'Without-pay']\n",
      "workclass\n",
      "Private             22286\n",
      "Self-emp-not-inc     2499\n",
      "Local-gov            2067\n",
      "State-gov            1279\n",
      "Self-emp-inc         1074\n",
      "Federal-gov           943\n",
      "Without-pay            14\n",
      "Name: count, dtype: int64\n",
      "['HS-grad' '7th-8th' 'Some-college' '10th' 'Doctorate' 'Prof-school'\n",
      " 'Bachelors' 'Masters' '11th' 'Assoc-voc' '1st-4th' '5th-6th' 'Assoc-acdm'\n",
      " '12th' '9th' 'Preschool']\n",
      "education\n",
      "HS-grad         9840\n",
      "Some-college    6678\n",
      "Bachelors       5044\n",
      "Masters         1627\n",
      "Assoc-voc       1307\n",
      "11th            1048\n",
      "Assoc-acdm      1008\n",
      "10th             820\n",
      "7th-8th          557\n",
      "Prof-school      542\n",
      "9th              455\n",
      "12th             377\n",
      "Doctorate        375\n",
      "5th-6th          288\n",
      "1st-4th          151\n",
      "Preschool         45\n",
      "Name: count, dtype: int64\n",
      "['Widowed' 'Divorced' 'Separated' 'Never-married' 'Married-civ-spouse'\n",
      " 'Married-spouse-absent' 'Married-AF-spouse']\n",
      "marital.status\n",
      "Married-civ-spouse       14065\n",
      "Never-married             9726\n",
      "Divorced                  4214\n",
      "Separated                  939\n",
      "Widowed                    827\n",
      "Married-spouse-absent      370\n",
      "Married-AF-spouse           21\n",
      "Name: count, dtype: int64\n",
      "['Exec-managerial' 'Machine-op-inspct' 'Prof-specialty' 'Other-service'\n",
      " 'Adm-clerical' 'Transport-moving' 'Sales' 'Craft-repair'\n",
      " 'Farming-fishing' 'Tech-support' 'Protective-serv' 'Handlers-cleaners'\n",
      " 'Armed-Forces' 'Priv-house-serv']\n",
      "occupation\n",
      "Prof-specialty       4038\n",
      "Craft-repair         4030\n",
      "Exec-managerial      3992\n",
      "Adm-clerical         3721\n",
      "Sales                3584\n",
      "Other-service        3212\n",
      "Machine-op-inspct    1966\n",
      "Transport-moving     1572\n",
      "Handlers-cleaners    1350\n",
      "Farming-fishing       989\n",
      "Tech-support          912\n",
      "Protective-serv       644\n",
      "Priv-house-serv       143\n",
      "Armed-Forces            9\n",
      "Name: count, dtype: int64\n",
      "['Not-in-family' 'Unmarried' 'Own-child' 'Other-relative' 'Husband' 'Wife']\n",
      "relationship\n",
      "Husband           12463\n",
      "Not-in-family      7726\n",
      "Own-child          4466\n",
      "Unmarried          3212\n",
      "Wife               1406\n",
      "Other-relative      889\n",
      "Name: count, dtype: int64\n",
      "['White' 'Black' 'Asian-Pac-Islander' 'Other' 'Amer-Indian-Eskimo']\n",
      "race\n",
      "White                 25933\n",
      "Black                  2817\n",
      "Asian-Pac-Islander      895\n",
      "Amer-Indian-Eskimo      286\n",
      "Other                   231\n",
      "Name: count, dtype: int64\n",
      "['Female' 'Male']\n",
      "sex\n",
      "Male      20380\n",
      "Female     9782\n",
      "Name: count, dtype: int64\n",
      "['United-States' 'Mexico' 'Greece' 'Vietnam' 'China' 'Taiwan' 'India'\n",
      " 'Philippines' 'Trinadad&Tobago' 'Canada' 'South' 'Holand-Netherlands'\n",
      " 'Puerto-Rico' 'Poland' 'Iran' 'England' 'Germany' 'Italy' 'Japan' 'Hong'\n",
      " 'Honduras' 'Cuba' 'Ireland' 'Cambodia' 'Peru' 'Nicaragua'\n",
      " 'Dominican-Republic' 'Haiti' 'Hungary' 'Columbia' 'Guatemala'\n",
      " 'El-Salvador' 'Jamaica' 'Ecuador' 'France' 'Yugoslavia' 'Portugal' 'Laos'\n",
      " 'Thailand' 'Outlying-US(Guam-USVI-etc)' 'Scotland']\n",
      "native.country\n",
      "United-States                 27504\n",
      "Mexico                          610\n",
      "Philippines                     188\n",
      "Germany                         128\n",
      "Puerto-Rico                     109\n",
      "Canada                          107\n",
      "El-Salvador                     100\n",
      "India                           100\n",
      "Cuba                             92\n",
      "England                          86\n",
      "Jamaica                          80\n",
      "South                            71\n",
      "Italy                            68\n",
      "China                            68\n",
      "Dominican-Republic               67\n",
      "Vietnam                          64\n",
      "Guatemala                        63\n",
      "Japan                            59\n",
      "Poland                           56\n",
      "Columbia                         56\n",
      "Iran                             42\n",
      "Taiwan                           42\n",
      "Haiti                            42\n",
      "Portugal                         34\n",
      "Nicaragua                        33\n",
      "Peru                             30\n",
      "Greece                           29\n",
      "Ecuador                          27\n",
      "France                           27\n",
      "Ireland                          24\n",
      "Hong                             19\n",
      "Cambodia                         18\n",
      "Trinadad&Tobago                  18\n",
      "Thailand                         17\n",
      "Laos                             17\n",
      "Yugoslavia                       16\n",
      "Outlying-US(Guam-USVI-etc)       14\n",
      "Hungary                          13\n",
      "Honduras                         12\n",
      "Scotland                         11\n",
      "Holand-Netherlands                1\n",
      "Name: count, dtype: int64\n",
      "['<=50K' '>50K']\n",
      "income\n",
      "<=50K    22654\n",
      ">50K      7508\n",
      "Name: count, dtype: int64\n"
     ]
    }
   ],
   "source": [
    "for col in columns:\n",
    "    print(data_preprocessed[col].unique())\n",
    "    print(data_preprocessed[col].value_counts())"
   ]
  },
  {
   "cell_type": "code",
   "execution_count": 36,
   "id": "ee380443-094a-4353-bb09-12038e2aef6d",
   "metadata": {},
   "outputs": [
    {
     "data": {
      "text/plain": [
       "Index(['age', 'education.num', 'capital.gain', 'capital.loss',\n",
       "       'hours.per.week'],\n",
       "      dtype='object')"
      ]
     },
     "execution_count": 36,
     "metadata": {},
     "output_type": "execute_result"
    }
   ],
   "source": [
    "data_preprocessed.select_dtypes(include=\"int64\").columns"
   ]
  },
  {
   "cell_type": "markdown",
   "id": "956028e9-9cc3-4283-91ea-525e76107cc4",
   "metadata": {},
   "source": [
    "---\n",
    "Each feature will be examined and analyzed individually, and decisions will be made based on the observations.\n",
    "First, the categorical features will be analyzed for distribution, cardinality, and potential transformations.\n",
    "Afterwards, the numerical features will be explored and processed as needed.\n",
    "\n",
    "First, lets start with `workclass`."
   ]
  },
  {
   "cell_type": "code",
   "execution_count": 38,
   "id": "002a11b0-166b-4639-8cb7-22ce66c76e80",
   "metadata": {},
   "outputs": [
    {
     "data": {
      "image/png": "[encoded data removed]",
      "text/plain": [
       "<Figure size 640x480 with 1 Axes>"
      ]
     },
     "metadata": {},
     "output_type": "display_data"
    }
   ],
   "source": [
    "sns.countplot(data=data_preprocessed, x=\"income\", hue=\"workclass\")\n",
    "plt.show()"
   ]
  },
  {
   "cell_type": "code",
   "execution_count": 39,
   "id": "fa20d2d0-1c6d-4450-a441-28ec72b6a1f2",
   "metadata": {},
   "outputs": [
    {
     "data": {
      "text/html": [
       "<div>\n",
       "<style scoped>\n",
       "    .dataframe tbody tr th:only-of-type {\n",
       "        vertical-align: middle;\n",
       "    }\n",
       "\n",
       "    .dataframe tbody tr th {\n",
       "        vertical-align: top;\n",
       "    }\n",
       "\n",
       "    .dataframe thead th {\n",
       "        text-align: right;\n",
       "    }\n",
       "</style>\n",
       "<table border=\"1\" class=\"dataframe\">\n",
       "  <thead>\n",
       "    <tr style=\"text-align: right;\">\n",
       "      <th>income</th>\n",
       "      <th>&lt;=50K</th>\n",
       "      <th>&gt;50K</th>\n",
       "    </tr>\n",
       "    <tr>\n",
       "      <th>workclass</th>\n",
       "      <th></th>\n",
       "      <th></th>\n",
       "    </tr>\n",
       "  </thead>\n",
       "  <tbody>\n",
       "    <tr>\n",
       "      <th>Federal-gov</th>\n",
       "      <td>578</td>\n",
       "      <td>365</td>\n",
       "    </tr>\n",
       "    <tr>\n",
       "      <th>Local-gov</th>\n",
       "      <td>1458</td>\n",
       "      <td>609</td>\n",
       "    </tr>\n",
       "    <tr>\n",
       "      <th>Private</th>\n",
       "      <td>17410</td>\n",
       "      <td>4876</td>\n",
       "    </tr>\n",
       "    <tr>\n",
       "      <th>Self-emp-inc</th>\n",
       "      <td>474</td>\n",
       "      <td>600</td>\n",
       "    </tr>\n",
       "    <tr>\n",
       "      <th>Self-emp-not-inc</th>\n",
       "      <td>1785</td>\n",
       "      <td>714</td>\n",
       "    </tr>\n",
       "    <tr>\n",
       "      <th>State-gov</th>\n",
       "      <td>935</td>\n",
       "      <td>344</td>\n",
       "    </tr>\n",
       "    <tr>\n",
       "      <th>Without-pay</th>\n",
       "      <td>14</td>\n",
       "      <td>0</td>\n",
       "    </tr>\n",
       "  </tbody>\n",
       "</table>\n",
       "</div>"
      ],
      "text/plain": [
       "income            <=50K  >50K\n",
       "workclass                    \n",
       "Federal-gov         578   365\n",
       "Local-gov          1458   609\n",
       "Private           17410  4876\n",
       "Self-emp-inc        474   600\n",
       "Self-emp-not-inc   1785   714\n",
       "State-gov           935   344\n",
       "Without-pay          14     0"
      ]
     },
     "execution_count": 39,
     "metadata": {},
     "output_type": "execute_result"
    }
   ],
   "source": [
    "pd.crosstab(data_preprocessed[\"workclass\"], data_preprocessed[\"income\"])"
   ]
  },
  {
   "cell_type": "code",
   "execution_count": 40,
   "id": "2b20eee8-05bc-4fb9-8b89-d116c80616cd",
   "metadata": {},
   "outputs": [
    {
     "data": {
      "text/html": [
       "<div>\n",
       "<style scoped>\n",
       "    .dataframe tbody tr th:only-of-type {\n",
       "        vertical-align: middle;\n",
       "    }\n",
       "\n",
       "    .dataframe tbody tr th {\n",
       "        vertical-align: top;\n",
       "    }\n",
       "\n",
       "    .dataframe thead th {\n",
       "        text-align: right;\n",
       "    }\n",
       "</style>\n",
       "<table border=\"1\" class=\"dataframe\">\n",
       "  <thead>\n",
       "    <tr style=\"text-align: right;\">\n",
       "      <th>income</th>\n",
       "      <th>&lt;=50K</th>\n",
       "      <th>&gt;50K</th>\n",
       "    </tr>\n",
       "    <tr>\n",
       "      <th>workclass</th>\n",
       "      <th></th>\n",
       "      <th></th>\n",
       "    </tr>\n",
       "  </thead>\n",
       "  <tbody>\n",
       "    <tr>\n",
       "      <th>Federal-gov</th>\n",
       "      <td>0.612937</td>\n",
       "      <td>0.387063</td>\n",
       "    </tr>\n",
       "    <tr>\n",
       "      <th>Local-gov</th>\n",
       "      <td>0.705370</td>\n",
       "      <td>0.294630</td>\n",
       "    </tr>\n",
       "    <tr>\n",
       "      <th>Private</th>\n",
       "      <td>0.781208</td>\n",
       "      <td>0.218792</td>\n",
       "    </tr>\n",
       "    <tr>\n",
       "      <th>Self-emp-inc</th>\n",
       "      <td>0.441341</td>\n",
       "      <td>0.558659</td>\n",
       "    </tr>\n",
       "    <tr>\n",
       "      <th>Self-emp-not-inc</th>\n",
       "      <td>0.714286</td>\n",
       "      <td>0.285714</td>\n",
       "    </tr>\n",
       "    <tr>\n",
       "      <th>State-gov</th>\n",
       "      <td>0.731040</td>\n",
       "      <td>0.268960</td>\n",
       "    </tr>\n",
       "    <tr>\n",
       "      <th>Without-pay</th>\n",
       "      <td>1.000000</td>\n",
       "      <td>0.000000</td>\n",
       "    </tr>\n",
       "  </tbody>\n",
       "</table>\n",
       "</div>"
      ],
      "text/plain": [
       "income               <=50K      >50K\n",
       "workclass                           \n",
       "Federal-gov       0.612937  0.387063\n",
       "Local-gov         0.705370  0.294630\n",
       "Private           0.781208  0.218792\n",
       "Self-emp-inc      0.441341  0.558659\n",
       "Self-emp-not-inc  0.714286  0.285714\n",
       "State-gov         0.731040  0.268960\n",
       "Without-pay       1.000000  0.000000"
      ]
     },
     "execution_count": 40,
     "metadata": {},
     "output_type": "execute_result"
    }
   ],
   "source": [
    "pd.crosstab(data_preprocessed[\"workclass\"], data_preprocessed[\"income\"], normalize=\"index\")"
   ]
  },
  {
   "cell_type": "code",
   "execution_count": 41,
   "id": "5d86ffb0-be05-4a52-8aa9-5e03eaf48236",
   "metadata": {},
   "outputs": [
    {
     "data": {
      "text/plain": [
       "workclass\n",
       "Private             22286\n",
       "Self-emp-not-inc     2499\n",
       "Local-gov            2067\n",
       "State-gov            1279\n",
       "Self-emp-inc         1074\n",
       "Federal-gov           943\n",
       "Without-pay            14\n",
       "Name: count, dtype: int64"
      ]
     },
     "execution_count": 41,
     "metadata": {},
     "output_type": "execute_result"
    }
   ],
   "source": [
    "data_preprocessed[\"workclass\"].value_counts()"
   ]
  },
  {
   "cell_type": "code",
   "execution_count": 42,
   "id": "5b6b42eb-8ba8-424d-9e54-e1d1531feb26",
   "metadata": {},
   "outputs": [
    {
     "data": {
      "text/plain": [
       "workclass\n",
       "Private             73.887673\n",
       "Self-emp-not-inc     8.285260\n",
       "Local-gov            6.852994\n",
       "State-gov            4.240435\n",
       "Self-emp-inc         3.560772\n",
       "Federal-gov          3.126451\n",
       "Without-pay          0.046416\n",
       "Name: proportion, dtype: float64"
      ]
     },
     "execution_count": 42,
     "metadata": {},
     "output_type": "execute_result"
    }
   ],
   "source": [
    "data_preprocessed[\"workclass\"].value_counts(normalize=True) * 100"
   ]
  },
  {
   "cell_type": "markdown",
   "id": "f3842f0d-82f9-4ced-9056-09281401d101",
   "metadata": {},
   "source": [
    "There are 7 classes, and they are imbalanced, with `Private` being dominant at ~74% of the data. The in-class distribution with `income` is roughly similar across most classes: around ~2:3 earn `<=50K` and ~1:3 earn `>50K`, except for `Self-emp-inc` and `Federal-gov`, which show a moderately different trend. The `Self-emp-inc` group, in particular, has the highest concentration of `>50K` earners. Although it constitutes only ~3.5% of the data, it displays distinct characteristics that are worth preserving.\n",
    "Thus, the general trend in the data will be exploited by combining the classes into three distinct groups: `Private`, `Public`, and `Self-employed`, to simplify the data, help alleviate class disparity, and maintain general semantic consistency and familiarity across the classes. "
   ]
  },
  {
   "cell_type": "code",
   "execution_count": 44,
   "id": "1e453c88-94e9-45b7-86bd-42606741c7ff",
   "metadata": {},
   "outputs": [],
   "source": [
    "data_preprocessed[\"workclass\"] = data_preprocessed[\"workclass\"].replace(\n",
    "    [\"Self-emp-not-inc\",\"Local-gov\",\"State-gov\",\"Federal-gov\",\"Without-pay\"], \"Public\"\n",
    ")\n",
    "data_preprocessed[\"workclass\"] = data_preprocessed[\"workclass\"].replace(\n",
    "    [\"Self-emp-inc\"], \"Self-employed\"\n",
    ")"
   ]
  },
  {
   "cell_type": "code",
   "execution_count": 45,
   "id": "e1c8a424-c131-4926-9236-7099e5922019",
   "metadata": {},
   "outputs": [
    {
     "data": {
      "text/plain": [
       "workclass\n",
       "Private          22286\n",
       "Public            6802\n",
       "Self-employed     1074\n",
       "Name: count, dtype: int64"
      ]
     },
     "execution_count": 45,
     "metadata": {},
     "output_type": "execute_result"
    }
   ],
   "source": [
    "data_preprocessed[\"workclass\"].value_counts()"
   ]
  },
  {
   "cell_type": "markdown",
   "id": "e3e61c0e-756e-47b3-b398-633fce5aeb9a",
   "metadata": {},
   "source": [
    "---\n",
    "Now lets explore `education`."
   ]
  },
  {
   "cell_type": "code",
   "execution_count": 47,
   "id": "886aadd9-69e4-4341-9091-fb5542d149ad",
   "metadata": {},
   "outputs": [
    {
     "data": {
      "image/png": "[encoded data removed]",
      "text/plain": [
       "<Figure size 1400x800 with 1 Axes>"
      ]
     },
     "metadata": {},
     "output_type": "display_data"
    }
   ],
   "source": [
    "plt.figure(figsize=(14, 8))\n",
    "sns.countplot(data=data_preprocessed, x=\"income\", hue=\"education\",palette=\"Set1\")\n",
    "plt.show()"
   ]
  },
  {
   "cell_type": "code",
   "execution_count": 48,
   "id": "9ebd13b1-c183-41f8-99c3-4cd86b661543",
   "metadata": {},
   "outputs": [
    {
     "data": {
      "text/html": [
       "<div>\n",
       "<style scoped>\n",
       "    .dataframe tbody tr th:only-of-type {\n",
       "        vertical-align: middle;\n",
       "    }\n",
       "\n",
       "    .dataframe tbody tr th {\n",
       "        vertical-align: top;\n",
       "    }\n",
       "\n",
       "    .dataframe thead th {\n",
       "        text-align: right;\n",
       "    }\n",
       "</style>\n",
       "<table border=\"1\" class=\"dataframe\">\n",
       "  <thead>\n",
       "    <tr style=\"text-align: right;\">\n",
       "      <th>income</th>\n",
       "      <th>&lt;=50K</th>\n",
       "      <th>&gt;50K</th>\n",
       "    </tr>\n",
       "    <tr>\n",
       "      <th>education</th>\n",
       "      <th></th>\n",
       "      <th></th>\n",
       "    </tr>\n",
       "  </thead>\n",
       "  <tbody>\n",
       "    <tr>\n",
       "      <th>10th</th>\n",
       "      <td>761</td>\n",
       "      <td>59</td>\n",
       "    </tr>\n",
       "    <tr>\n",
       "      <th>11th</th>\n",
       "      <td>989</td>\n",
       "      <td>59</td>\n",
       "    </tr>\n",
       "    <tr>\n",
       "      <th>12th</th>\n",
       "      <td>348</td>\n",
       "      <td>29</td>\n",
       "    </tr>\n",
       "    <tr>\n",
       "      <th>1st-4th</th>\n",
       "      <td>145</td>\n",
       "      <td>6</td>\n",
       "    </tr>\n",
       "    <tr>\n",
       "      <th>5th-6th</th>\n",
       "      <td>276</td>\n",
       "      <td>12</td>\n",
       "    </tr>\n",
       "    <tr>\n",
       "      <th>7th-8th</th>\n",
       "      <td>522</td>\n",
       "      <td>35</td>\n",
       "    </tr>\n",
       "    <tr>\n",
       "      <th>9th</th>\n",
       "      <td>430</td>\n",
       "      <td>25</td>\n",
       "    </tr>\n",
       "    <tr>\n",
       "      <th>Assoc-acdm</th>\n",
       "      <td>752</td>\n",
       "      <td>256</td>\n",
       "    </tr>\n",
       "    <tr>\n",
       "      <th>Assoc-voc</th>\n",
       "      <td>963</td>\n",
       "      <td>344</td>\n",
       "    </tr>\n",
       "    <tr>\n",
       "      <th>Bachelors</th>\n",
       "      <td>2918</td>\n",
       "      <td>2126</td>\n",
       "    </tr>\n",
       "    <tr>\n",
       "      <th>Doctorate</th>\n",
       "      <td>95</td>\n",
       "      <td>280</td>\n",
       "    </tr>\n",
       "    <tr>\n",
       "      <th>HS-grad</th>\n",
       "      <td>8223</td>\n",
       "      <td>1617</td>\n",
       "    </tr>\n",
       "    <tr>\n",
       "      <th>Masters</th>\n",
       "      <td>709</td>\n",
       "      <td>918</td>\n",
       "    </tr>\n",
       "    <tr>\n",
       "      <th>Preschool</th>\n",
       "      <td>45</td>\n",
       "      <td>0</td>\n",
       "    </tr>\n",
       "    <tr>\n",
       "      <th>Prof-school</th>\n",
       "      <td>136</td>\n",
       "      <td>406</td>\n",
       "    </tr>\n",
       "    <tr>\n",
       "      <th>Some-college</th>\n",
       "      <td>5342</td>\n",
       "      <td>1336</td>\n",
       "    </tr>\n",
       "  </tbody>\n",
       "</table>\n",
       "</div>"
      ],
      "text/plain": [
       "income        <=50K  >50K\n",
       "education                \n",
       "10th            761    59\n",
       "11th            989    59\n",
       "12th            348    29\n",
       "1st-4th         145     6\n",
       "5th-6th         276    12\n",
       "7th-8th         522    35\n",
       "9th             430    25\n",
       "Assoc-acdm      752   256\n",
       "Assoc-voc       963   344\n",
       "Bachelors      2918  2126\n",
       "Doctorate        95   280\n",
       "HS-grad        8223  1617\n",
       "Masters         709   918\n",
       "Preschool        45     0\n",
       "Prof-school     136   406\n",
       "Some-college   5342  1336"
      ]
     },
     "execution_count": 48,
     "metadata": {},
     "output_type": "execute_result"
    }
   ],
   "source": [
    "pd.crosstab(data_preprocessed[\"education\"], data_preprocessed[\"income\"])"
   ]
  },
  {
   "cell_type": "code",
   "execution_count": 49,
   "id": "87ef47f5-cc5c-45fd-a074-e605457ff586",
   "metadata": {},
   "outputs": [
    {
     "data": {
      "text/html": [
       "<div>\n",
       "<style scoped>\n",
       "    .dataframe tbody tr th:only-of-type {\n",
       "        vertical-align: middle;\n",
       "    }\n",
       "\n",
       "    .dataframe tbody tr th {\n",
       "        vertical-align: top;\n",
       "    }\n",
       "\n",
       "    .dataframe thead th {\n",
       "        text-align: right;\n",
       "    }\n",
       "</style>\n",
       "<table border=\"1\" class=\"dataframe\">\n",
       "  <thead>\n",
       "    <tr style=\"text-align: right;\">\n",
       "      <th>income</th>\n",
       "      <th>&lt;=50K</th>\n",
       "      <th>&gt;50K</th>\n",
       "    </tr>\n",
       "    <tr>\n",
       "      <th>education</th>\n",
       "      <th></th>\n",
       "      <th></th>\n",
       "    </tr>\n",
       "  </thead>\n",
       "  <tbody>\n",
       "    <tr>\n",
       "      <th>10th</th>\n",
       "      <td>92.804878</td>\n",
       "      <td>7.195122</td>\n",
       "    </tr>\n",
       "    <tr>\n",
       "      <th>11th</th>\n",
       "      <td>94.370229</td>\n",
       "      <td>5.629771</td>\n",
       "    </tr>\n",
       "    <tr>\n",
       "      <th>12th</th>\n",
       "      <td>92.307692</td>\n",
       "      <td>7.692308</td>\n",
       "    </tr>\n",
       "    <tr>\n",
       "      <th>1st-4th</th>\n",
       "      <td>96.026490</td>\n",
       "      <td>3.973510</td>\n",
       "    </tr>\n",
       "    <tr>\n",
       "      <th>5th-6th</th>\n",
       "      <td>95.833333</td>\n",
       "      <td>4.166667</td>\n",
       "    </tr>\n",
       "    <tr>\n",
       "      <th>7th-8th</th>\n",
       "      <td>93.716338</td>\n",
       "      <td>6.283662</td>\n",
       "    </tr>\n",
       "    <tr>\n",
       "      <th>9th</th>\n",
       "      <td>94.505495</td>\n",
       "      <td>5.494505</td>\n",
       "    </tr>\n",
       "    <tr>\n",
       "      <th>Assoc-acdm</th>\n",
       "      <td>74.603175</td>\n",
       "      <td>25.396825</td>\n",
       "    </tr>\n",
       "    <tr>\n",
       "      <th>Assoc-voc</th>\n",
       "      <td>73.680184</td>\n",
       "      <td>26.319816</td>\n",
       "    </tr>\n",
       "    <tr>\n",
       "      <th>Bachelors</th>\n",
       "      <td>57.850912</td>\n",
       "      <td>42.149088</td>\n",
       "    </tr>\n",
       "    <tr>\n",
       "      <th>Doctorate</th>\n",
       "      <td>25.333333</td>\n",
       "      <td>74.666667</td>\n",
       "    </tr>\n",
       "    <tr>\n",
       "      <th>HS-grad</th>\n",
       "      <td>83.567073</td>\n",
       "      <td>16.432927</td>\n",
       "    </tr>\n",
       "    <tr>\n",
       "      <th>Masters</th>\n",
       "      <td>43.577136</td>\n",
       "      <td>56.422864</td>\n",
       "    </tr>\n",
       "    <tr>\n",
       "      <th>Preschool</th>\n",
       "      <td>100.000000</td>\n",
       "      <td>0.000000</td>\n",
       "    </tr>\n",
       "    <tr>\n",
       "      <th>Prof-school</th>\n",
       "      <td>25.092251</td>\n",
       "      <td>74.907749</td>\n",
       "    </tr>\n",
       "    <tr>\n",
       "      <th>Some-college</th>\n",
       "      <td>79.994010</td>\n",
       "      <td>20.005990</td>\n",
       "    </tr>\n",
       "  </tbody>\n",
       "</table>\n",
       "</div>"
      ],
      "text/plain": [
       "income             <=50K       >50K\n",
       "education                          \n",
       "10th           92.804878   7.195122\n",
       "11th           94.370229   5.629771\n",
       "12th           92.307692   7.692308\n",
       "1st-4th        96.026490   3.973510\n",
       "5th-6th        95.833333   4.166667\n",
       "7th-8th        93.716338   6.283662\n",
       "9th            94.505495   5.494505\n",
       "Assoc-acdm     74.603175  25.396825\n",
       "Assoc-voc      73.680184  26.319816\n",
       "Bachelors      57.850912  42.149088\n",
       "Doctorate      25.333333  74.666667\n",
       "HS-grad        83.567073  16.432927\n",
       "Masters        43.577136  56.422864\n",
       "Preschool     100.000000   0.000000\n",
       "Prof-school    25.092251  74.907749\n",
       "Some-college   79.994010  20.005990"
      ]
     },
     "execution_count": 49,
     "metadata": {},
     "output_type": "execute_result"
    }
   ],
   "source": [
    "pd.crosstab(data_preprocessed[\"education\"], data_preprocessed[\"income\"], normalize=\"index\") * 100"
   ]
  },
  {
   "cell_type": "code",
   "execution_count": 50,
   "id": "c36b44ce-da4d-4bd5-b100-e204af12b810",
   "metadata": {},
   "outputs": [
    {
     "data": {
      "text/plain": [
       "education\n",
       "HS-grad         32.623831\n",
       "Some-college    22.140442\n",
       "Bachelors       16.723029\n",
       "Masters          5.394205\n",
       "Assoc-voc        4.333267\n",
       "11th             3.474571\n",
       "Assoc-acdm       3.341953\n",
       "10th             2.718653\n",
       "7th-8th          1.846695\n",
       "Prof-school      1.796963\n",
       "9th              1.508521\n",
       "12th             1.249917\n",
       "Doctorate        1.243286\n",
       "5th-6th          0.954844\n",
       "1st-4th          0.500630\n",
       "Preschool        0.149194\n",
       "Name: proportion, dtype: float64"
      ]
     },
     "execution_count": 50,
     "metadata": {},
     "output_type": "execute_result"
    }
   ],
   "source": [
    "data_preprocessed[\"education\"].value_counts(normalize=True) * 100"
   ]
  },
  {
   "cell_type": "markdown",
   "id": "d0a73c5d-e4d3-4596-b7cd-739ba31668da",
   "metadata": {},
   "source": [
    "There are 16 imbalanced classes; the dominant class is `HS-grad`, followed by `Some-college` and `Bachelors`. The remaining classes are sparse and spread thin. All those who didn’t finish high school have similar in-class income distributions. Those who have associate degrees, academic, or vocational education show similar income patterns. Individuals who completed some college education improved their income slightly compared to high school graduates, yet they earn less than those with associate degrees. In this order: `Bachelors`, `Masters`, `Doctorate`, and `Prof-school` income distributions increase, making them the best earners, especially those with professional school degrees.\n",
    "\n",
    "Thus, the classes will be handled as follows:\n",
    "\n",
    "- All those who did not finish high school will be combined into `Other`.\n",
    "- `HS-grad` will be left untouched.\n",
    "- `Assoc-voc`, `Assoc-acdm`, and `Some-college` will be combined into `Undergrad/Associate`. Although `Some-college` earns less and is a larger group, which might hurt the model’s generalization, this will be accepted to improve familiarity across the classes, as their nearest similar group consists of those with associate degrees.\n",
    "- `Bachelors` and `Masters` will be combined into `Bachelors/Masters`. They are distinct classes and have different patterns of income distribution compared to other classes. This might affect the model’s generalization, but it will be accepted, as they cannot be combined with other classes, and `Masters` is too small to be left separate and doesn’t follow the broader trend of the data.\n",
    "- `Doctorate` and `Prof-school` will be combined into `Prof-school/Doctorate`. Collectively, they comprise about 3% of the data, a small percentage, but they represent the highest earners, which may provide a useful signal to the model."
   ]
  },
  {
   "cell_type": "code",
   "execution_count": 52,
   "id": "73b0327c-56f7-4207-bc26-2d8a4f9b73cd",
   "metadata": {},
   "outputs": [],
   "source": [
    "Other = [\"Preschool\",\"1st-4th\",\"5th-6th\",\"7th-8th\",\"9th\",\"10th\",\"11th\",\"12th\"]\n",
    "Undergrad_Associate = [\"Assoc-voc\",\"Assoc-acdm\",\"Some-college\"]\n",
    "Bacheloars_Masters = [\"Bachelors\",\"Masters\"]\n",
    "Profschool_Doctorate = [\"Prof-school\",\"Doctorate\"]\n",
    "\n",
    "data_preprocessed[\"education\"] = data_preprocessed[\"education\"].replace(Other, \"Other\")\n",
    "data_preprocessed[\"education\"] = data_preprocessed[\"education\"].replace(Undergrad_Associate, \"Undergrad/Associate\")\n",
    "data_preprocessed[\"education\"] = data_preprocessed[\"education\"].replace(Bacheloars_Masters, \"Bacheloars/Masters\")\n",
    "data_preprocessed[\"education\"] = data_preprocessed[\"education\"].replace(Profschool_Doctorate, \"Prof-school/Doctorate\")"
   ]
  },
  {
   "cell_type": "code",
   "execution_count": 53,
   "id": "38c4f81d-ed13-4a5b-ab1a-dbe456e4c3d0",
   "metadata": {
    "scrolled": true
   },
   "outputs": [
    {
     "data": {
      "text/plain": [
       "education\n",
       "HS-grad                  9840\n",
       "Undergrad/Associate      8993\n",
       "Bacheloars/Masters       6671\n",
       "Other                    3741\n",
       "Prof-school/Doctorate     917\n",
       "Name: count, dtype: int64"
      ]
     },
     "execution_count": 53,
     "metadata": {},
     "output_type": "execute_result"
    }
   ],
   "source": [
    "data_preprocessed[\"education\"].value_counts()"
   ]
  },
  {
   "cell_type": "markdown",
   "id": "a7575513-7ec8-40ef-bdc0-5cdf554bbf76",
   "metadata": {},
   "source": [
    "---\n",
    "\n",
    "Next is `marital.status`."
   ]
  },
  {
   "cell_type": "code",
   "execution_count": 55,
   "id": "3b54398e-5a7a-49a2-a9be-d231f02746a1",
   "metadata": {},
   "outputs": [
    {
     "data": {
      "image/png": "[encoded data removed]",
      "text/plain": [
       "<Figure size 640x480 with 1 Axes>"
      ]
     },
     "metadata": {},
     "output_type": "display_data"
    }
   ],
   "source": [
    "sns.countplot(data_preprocessed, x=\"income\", hue=\"marital.status\")\n",
    "plt.show()"
   ]
  },
  {
   "cell_type": "code",
   "execution_count": 56,
   "id": "a7fcef7e-6706-4217-a19d-4042fcbe0f6f",
   "metadata": {},
   "outputs": [
    {
     "data": {
      "text/html": [
       "<div>\n",
       "<style scoped>\n",
       "    .dataframe tbody tr th:only-of-type {\n",
       "        vertical-align: middle;\n",
       "    }\n",
       "\n",
       "    .dataframe tbody tr th {\n",
       "        vertical-align: top;\n",
       "    }\n",
       "\n",
       "    .dataframe thead th {\n",
       "        text-align: right;\n",
       "    }\n",
       "</style>\n",
       "<table border=\"1\" class=\"dataframe\">\n",
       "  <thead>\n",
       "    <tr style=\"text-align: right;\">\n",
       "      <th>income</th>\n",
       "      <th>&lt;=50K</th>\n",
       "      <th>&gt;50K</th>\n",
       "    </tr>\n",
       "    <tr>\n",
       "      <th>marital.status</th>\n",
       "      <th></th>\n",
       "      <th></th>\n",
       "    </tr>\n",
       "  </thead>\n",
       "  <tbody>\n",
       "    <tr>\n",
       "      <th>Divorced</th>\n",
       "      <td>3762</td>\n",
       "      <td>452</td>\n",
       "    </tr>\n",
       "    <tr>\n",
       "      <th>Married-AF-spouse</th>\n",
       "      <td>11</td>\n",
       "      <td>10</td>\n",
       "    </tr>\n",
       "    <tr>\n",
       "      <th>Married-civ-spouse</th>\n",
       "      <td>7666</td>\n",
       "      <td>6399</td>\n",
       "    </tr>\n",
       "    <tr>\n",
       "      <th>Married-spouse-absent</th>\n",
       "      <td>339</td>\n",
       "      <td>31</td>\n",
       "    </tr>\n",
       "    <tr>\n",
       "      <th>Never-married</th>\n",
       "      <td>9256</td>\n",
       "      <td>470</td>\n",
       "    </tr>\n",
       "    <tr>\n",
       "      <th>Separated</th>\n",
       "      <td>873</td>\n",
       "      <td>66</td>\n",
       "    </tr>\n",
       "    <tr>\n",
       "      <th>Widowed</th>\n",
       "      <td>747</td>\n",
       "      <td>80</td>\n",
       "    </tr>\n",
       "  </tbody>\n",
       "</table>\n",
       "</div>"
      ],
      "text/plain": [
       "income                 <=50K  >50K\n",
       "marital.status                    \n",
       "Divorced                3762   452\n",
       "Married-AF-spouse         11    10\n",
       "Married-civ-spouse      7666  6399\n",
       "Married-spouse-absent    339    31\n",
       "Never-married           9256   470\n",
       "Separated                873    66\n",
       "Widowed                  747    80"
      ]
     },
     "execution_count": 56,
     "metadata": {},
     "output_type": "execute_result"
    }
   ],
   "source": [
    "pd.crosstab(data_preprocessed[\"marital.status\"], data_preprocessed[\"income\"])"
   ]
  },
  {
   "cell_type": "code",
   "execution_count": 57,
   "id": "8072113d-169e-41bd-9136-f27535b46377",
   "metadata": {},
   "outputs": [
    {
     "data": {
      "text/html": [
       "<div>\n",
       "<style scoped>\n",
       "    .dataframe tbody tr th:only-of-type {\n",
       "        vertical-align: middle;\n",
       "    }\n",
       "\n",
       "    .dataframe tbody tr th {\n",
       "        vertical-align: top;\n",
       "    }\n",
       "\n",
       "    .dataframe thead th {\n",
       "        text-align: right;\n",
       "    }\n",
       "</style>\n",
       "<table border=\"1\" class=\"dataframe\">\n",
       "  <thead>\n",
       "    <tr style=\"text-align: right;\">\n",
       "      <th>income</th>\n",
       "      <th>&lt;=50K</th>\n",
       "      <th>&gt;50K</th>\n",
       "    </tr>\n",
       "    <tr>\n",
       "      <th>marital.status</th>\n",
       "      <th></th>\n",
       "      <th></th>\n",
       "    </tr>\n",
       "  </thead>\n",
       "  <tbody>\n",
       "    <tr>\n",
       "      <th>Divorced</th>\n",
       "      <td>89.273849</td>\n",
       "      <td>10.726151</td>\n",
       "    </tr>\n",
       "    <tr>\n",
       "      <th>Married-AF-spouse</th>\n",
       "      <td>52.380952</td>\n",
       "      <td>47.619048</td>\n",
       "    </tr>\n",
       "    <tr>\n",
       "      <th>Married-civ-spouse</th>\n",
       "      <td>54.504088</td>\n",
       "      <td>45.495912</td>\n",
       "    </tr>\n",
       "    <tr>\n",
       "      <th>Married-spouse-absent</th>\n",
       "      <td>91.621622</td>\n",
       "      <td>8.378378</td>\n",
       "    </tr>\n",
       "    <tr>\n",
       "      <th>Never-married</th>\n",
       "      <td>95.167592</td>\n",
       "      <td>4.832408</td>\n",
       "    </tr>\n",
       "    <tr>\n",
       "      <th>Separated</th>\n",
       "      <td>92.971246</td>\n",
       "      <td>7.028754</td>\n",
       "    </tr>\n",
       "    <tr>\n",
       "      <th>Widowed</th>\n",
       "      <td>90.326481</td>\n",
       "      <td>9.673519</td>\n",
       "    </tr>\n",
       "  </tbody>\n",
       "</table>\n",
       "</div>"
      ],
      "text/plain": [
       "income                     <=50K       >50K\n",
       "marital.status                             \n",
       "Divorced               89.273849  10.726151\n",
       "Married-AF-spouse      52.380952  47.619048\n",
       "Married-civ-spouse     54.504088  45.495912\n",
       "Married-spouse-absent  91.621622   8.378378\n",
       "Never-married          95.167592   4.832408\n",
       "Separated              92.971246   7.028754\n",
       "Widowed                90.326481   9.673519"
      ]
     },
     "execution_count": 57,
     "metadata": {},
     "output_type": "execute_result"
    }
   ],
   "source": [
    "pd.crosstab(data_preprocessed[\"marital.status\"], data_preprocessed[\"income\"], normalize=\"index\") * 100"
   ]
  },
  {
   "cell_type": "code",
   "execution_count": 58,
   "id": "ea417434-85ee-4ef0-b6f2-ae1fc2eabfa6",
   "metadata": {},
   "outputs": [
    {
     "data": {
      "text/plain": [
       "marital.status\n",
       "Married-civ-spouse       46.631523\n",
       "Never-married            32.245872\n",
       "Divorced                 13.971222\n",
       "Separated                 3.113189\n",
       "Widowed                   2.741861\n",
       "Married-spouse-absent     1.226709\n",
       "Married-AF-spouse         0.069624\n",
       "Name: proportion, dtype: float64"
      ]
     },
     "execution_count": 58,
     "metadata": {},
     "output_type": "execute_result"
    }
   ],
   "source": [
    "data_preprocessed[\"marital.status\"].value_counts(normalize=True) * 100"
   ]
  },
  {
   "cell_type": "markdown",
   "id": "2b2e4a9d-48c1-42f9-9e76-1f6cb621148a",
   "metadata": {},
   "source": [
    "The dominant classes, in order, are `Married-civ-spouse`, `Never-married`, and `Divorced`, with the first two showing polarized patterns. The `Divorced` class shows a similar pattern to `Separated`, `Widowed`, and `Married-spouse-absent`, although the meaning of the latter is somewhat ambiguous. \n",
    "\n",
    "Based on semantics, pattern similarity, and simplicity:\n",
    "- `Married-civ-spouse` and `Married-AF-spouse` will be combined into `Married`.\n",
    "- `Divorced`, `Separated`, `Widowed`, and `Married-spouse-absent` will be combined into `Divorced/Widowed`, since based on this data, an absent spouse behaves statistically similar to divorced or widowed individuals rather than married ones. \n",
    "- `Never-married` will be left untouched."
   ]
  },
  {
   "cell_type": "code",
   "execution_count": 60,
   "id": "f7d82acf-7086-4abe-8b70-4b9af565c7ab",
   "metadata": {},
   "outputs": [],
   "source": [
    "data_preprocessed[\"marital.status\"] = data_preprocessed[\"marital.status\"].replace({\n",
    "    \"Married-civ-spouse\": \"Married\",\n",
    "    \"Married-AF-spouse\": \"Married\",\n",
    "    \"Married-spouse-absent\": \"Divorced/Widowed\",\n",
    "    \"Divorced\": \"Divorced/Widowed\",\n",
    "    \"Separated\": \"Divorced/Widowed\",\n",
    "    \"Widowed\": \"Divorced/Widowed\"\n",
    "})\n"
   ]
  },
  {
   "cell_type": "code",
   "execution_count": 61,
   "id": "fd607393-cfb8-4647-9528-071fbc95972e",
   "metadata": {},
   "outputs": [
    {
     "data": {
      "text/plain": [
       "marital.status\n",
       "Married             14086\n",
       "Never-married        9726\n",
       "Divorced/Widowed     6350\n",
       "Name: count, dtype: int64"
      ]
     },
     "execution_count": 61,
     "metadata": {},
     "output_type": "execute_result"
    }
   ],
   "source": [
    "data_preprocessed[\"marital.status\"].value_counts()"
   ]
  },
  {
   "cell_type": "code",
   "execution_count": 62,
   "id": "13a2ac04-67de-4a8c-ae40-05daa9568521",
   "metadata": {},
   "outputs": [
    {
     "data": {
      "text/plain": [
       "Index(['age', 'workclass', 'education', 'education.num', 'marital.status',\n",
       "       'occupation', 'relationship', 'race', 'sex', 'capital.gain',\n",
       "       'capital.loss', 'hours.per.week', 'native.country', 'income'],\n",
       "      dtype='object')"
      ]
     },
     "execution_count": 62,
     "metadata": {},
     "output_type": "execute_result"
    }
   ],
   "source": [
    "data_preprocessed.columns"
   ]
  },
  {
   "cell_type": "markdown",
   "id": "9a3189ca-e23e-4956-b57e-e55bc253d35e",
   "metadata": {},
   "source": [
    "---\n",
    "\n",
    "Next is `occupation`"
   ]
  },
  {
   "cell_type": "code",
   "execution_count": 64,
   "id": "f4c8ca9c-1144-42b1-b3a4-e922f181c3ab",
   "metadata": {},
   "outputs": [
    {
     "data": {
      "text/plain": [
       "occupation\n",
       "Prof-specialty       4038\n",
       "Craft-repair         4030\n",
       "Exec-managerial      3992\n",
       "Adm-clerical         3721\n",
       "Sales                3584\n",
       "Other-service        3212\n",
       "Machine-op-inspct    1966\n",
       "Transport-moving     1572\n",
       "Handlers-cleaners    1350\n",
       "Farming-fishing       989\n",
       "Tech-support          912\n",
       "Protective-serv       644\n",
       "Priv-house-serv       143\n",
       "Armed-Forces            9\n",
       "Name: count, dtype: int64"
      ]
     },
     "execution_count": 64,
     "metadata": {},
     "output_type": "execute_result"
    }
   ],
   "source": [
    "data_preprocessed[\"occupation\"].value_counts()"
   ]
  },
  {
   "cell_type": "code",
   "execution_count": 65,
   "id": "90d38ad0-cf92-4f52-9e22-e2da56e73a2b",
   "metadata": {},
   "outputs": [
    {
     "data": {
      "text/plain": [
       "occupation\n",
       "Prof-specialty       13.387706\n",
       "Craft-repair         13.361183\n",
       "Exec-managerial      13.235197\n",
       "Adm-clerical         12.336715\n",
       "Sales                11.882501\n",
       "Other-service        10.649161\n",
       "Machine-op-inspct     6.518135\n",
       "Transport-moving      5.211856\n",
       "Handlers-cleaners     4.475831\n",
       "Farming-fishing       3.278960\n",
       "Tech-support          3.023672\n",
       "Protective-serv       2.135137\n",
       "Priv-house-serv       0.474106\n",
       "Armed-Forces          0.029839\n",
       "Name: proportion, dtype: float64"
      ]
     },
     "execution_count": 65,
     "metadata": {},
     "output_type": "execute_result"
    }
   ],
   "source": [
    "data_preprocessed[\"occupation\"].value_counts(normalize=True) * 100"
   ]
  },
  {
   "cell_type": "code",
   "execution_count": 66,
   "id": "db8f23bb-6f8d-4d7c-9075-f53f2a897ad2",
   "metadata": {},
   "outputs": [
    {
     "data": {
      "text/html": [
       "<div>\n",
       "<style scoped>\n",
       "    .dataframe tbody tr th:only-of-type {\n",
       "        vertical-align: middle;\n",
       "    }\n",
       "\n",
       "    .dataframe tbody tr th {\n",
       "        vertical-align: top;\n",
       "    }\n",
       "\n",
       "    .dataframe thead th {\n",
       "        text-align: right;\n",
       "    }\n",
       "</style>\n",
       "<table border=\"1\" class=\"dataframe\">\n",
       "  <thead>\n",
       "    <tr style=\"text-align: right;\">\n",
       "      <th>income</th>\n",
       "      <th>&lt;=50K</th>\n",
       "      <th>&gt;50K</th>\n",
       "    </tr>\n",
       "    <tr>\n",
       "      <th>occupation</th>\n",
       "      <th></th>\n",
       "      <th></th>\n",
       "    </tr>\n",
       "  </thead>\n",
       "  <tbody>\n",
       "    <tr>\n",
       "      <th>Adm-clerical</th>\n",
       "      <td>3223</td>\n",
       "      <td>498</td>\n",
       "    </tr>\n",
       "    <tr>\n",
       "      <th>Armed-Forces</th>\n",
       "      <td>8</td>\n",
       "      <td>1</td>\n",
       "    </tr>\n",
       "    <tr>\n",
       "      <th>Craft-repair</th>\n",
       "      <td>3122</td>\n",
       "      <td>908</td>\n",
       "    </tr>\n",
       "    <tr>\n",
       "      <th>Exec-managerial</th>\n",
       "      <td>2055</td>\n",
       "      <td>1937</td>\n",
       "    </tr>\n",
       "    <tr>\n",
       "      <th>Farming-fishing</th>\n",
       "      <td>874</td>\n",
       "      <td>115</td>\n",
       "    </tr>\n",
       "    <tr>\n",
       "      <th>Handlers-cleaners</th>\n",
       "      <td>1267</td>\n",
       "      <td>83</td>\n",
       "    </tr>\n",
       "    <tr>\n",
       "      <th>Machine-op-inspct</th>\n",
       "      <td>1721</td>\n",
       "      <td>245</td>\n",
       "    </tr>\n",
       "    <tr>\n",
       "      <th>Other-service</th>\n",
       "      <td>3080</td>\n",
       "      <td>132</td>\n",
       "    </tr>\n",
       "    <tr>\n",
       "      <th>Priv-house-serv</th>\n",
       "      <td>142</td>\n",
       "      <td>1</td>\n",
       "    </tr>\n",
       "    <tr>\n",
       "      <th>Prof-specialty</th>\n",
       "      <td>2227</td>\n",
       "      <td>1811</td>\n",
       "    </tr>\n",
       "    <tr>\n",
       "      <th>Protective-serv</th>\n",
       "      <td>434</td>\n",
       "      <td>210</td>\n",
       "    </tr>\n",
       "    <tr>\n",
       "      <th>Sales</th>\n",
       "      <td>2614</td>\n",
       "      <td>970</td>\n",
       "    </tr>\n",
       "    <tr>\n",
       "      <th>Tech-support</th>\n",
       "      <td>634</td>\n",
       "      <td>278</td>\n",
       "    </tr>\n",
       "    <tr>\n",
       "      <th>Transport-moving</th>\n",
       "      <td>1253</td>\n",
       "      <td>319</td>\n",
       "    </tr>\n",
       "  </tbody>\n",
       "</table>\n",
       "</div>"
      ],
      "text/plain": [
       "income             <=50K  >50K\n",
       "occupation                    \n",
       "Adm-clerical        3223   498\n",
       "Armed-Forces           8     1\n",
       "Craft-repair        3122   908\n",
       "Exec-managerial     2055  1937\n",
       "Farming-fishing      874   115\n",
       "Handlers-cleaners   1267    83\n",
       "Machine-op-inspct   1721   245\n",
       "Other-service       3080   132\n",
       "Priv-house-serv      142     1\n",
       "Prof-specialty      2227  1811\n",
       "Protective-serv      434   210\n",
       "Sales               2614   970\n",
       "Tech-support         634   278\n",
       "Transport-moving    1253   319"
      ]
     },
     "execution_count": 66,
     "metadata": {},
     "output_type": "execute_result"
    }
   ],
   "source": [
    "pd.crosstab(data_preprocessed[\"occupation\"], data_preprocessed[\"income\"])"
   ]
  },
  {
   "cell_type": "code",
   "execution_count": 67,
   "id": "721641d7-2578-4374-8005-729efcefabd9",
   "metadata": {},
   "outputs": [
    {
     "data": {
      "text/html": [
       "<div>\n",
       "<style scoped>\n",
       "    .dataframe tbody tr th:only-of-type {\n",
       "        vertical-align: middle;\n",
       "    }\n",
       "\n",
       "    .dataframe tbody tr th {\n",
       "        vertical-align: top;\n",
       "    }\n",
       "\n",
       "    .dataframe thead th {\n",
       "        text-align: right;\n",
       "    }\n",
       "</style>\n",
       "<table border=\"1\" class=\"dataframe\">\n",
       "  <thead>\n",
       "    <tr style=\"text-align: right;\">\n",
       "      <th>income</th>\n",
       "      <th>&lt;=50K</th>\n",
       "      <th>&gt;50K</th>\n",
       "    </tr>\n",
       "    <tr>\n",
       "      <th>occupation</th>\n",
       "      <th></th>\n",
       "      <th></th>\n",
       "    </tr>\n",
       "  </thead>\n",
       "  <tbody>\n",
       "    <tr>\n",
       "      <th>Adm-clerical</th>\n",
       "      <td>86.616501</td>\n",
       "      <td>13.383499</td>\n",
       "    </tr>\n",
       "    <tr>\n",
       "      <th>Armed-Forces</th>\n",
       "      <td>88.888889</td>\n",
       "      <td>11.111111</td>\n",
       "    </tr>\n",
       "    <tr>\n",
       "      <th>Craft-repair</th>\n",
       "      <td>77.468983</td>\n",
       "      <td>22.531017</td>\n",
       "    </tr>\n",
       "    <tr>\n",
       "      <th>Exec-managerial</th>\n",
       "      <td>51.477956</td>\n",
       "      <td>48.522044</td>\n",
       "    </tr>\n",
       "    <tr>\n",
       "      <th>Farming-fishing</th>\n",
       "      <td>88.372093</td>\n",
       "      <td>11.627907</td>\n",
       "    </tr>\n",
       "    <tr>\n",
       "      <th>Handlers-cleaners</th>\n",
       "      <td>93.851852</td>\n",
       "      <td>6.148148</td>\n",
       "    </tr>\n",
       "    <tr>\n",
       "      <th>Machine-op-inspct</th>\n",
       "      <td>87.538149</td>\n",
       "      <td>12.461851</td>\n",
       "    </tr>\n",
       "    <tr>\n",
       "      <th>Other-service</th>\n",
       "      <td>95.890411</td>\n",
       "      <td>4.109589</td>\n",
       "    </tr>\n",
       "    <tr>\n",
       "      <th>Priv-house-serv</th>\n",
       "      <td>99.300699</td>\n",
       "      <td>0.699301</td>\n",
       "    </tr>\n",
       "    <tr>\n",
       "      <th>Prof-specialty</th>\n",
       "      <td>55.151065</td>\n",
       "      <td>44.848935</td>\n",
       "    </tr>\n",
       "    <tr>\n",
       "      <th>Protective-serv</th>\n",
       "      <td>67.391304</td>\n",
       "      <td>32.608696</td>\n",
       "    </tr>\n",
       "    <tr>\n",
       "      <th>Sales</th>\n",
       "      <td>72.935268</td>\n",
       "      <td>27.064732</td>\n",
       "    </tr>\n",
       "    <tr>\n",
       "      <th>Tech-support</th>\n",
       "      <td>69.517544</td>\n",
       "      <td>30.482456</td>\n",
       "    </tr>\n",
       "    <tr>\n",
       "      <th>Transport-moving</th>\n",
       "      <td>79.707379</td>\n",
       "      <td>20.292621</td>\n",
       "    </tr>\n",
       "  </tbody>\n",
       "</table>\n",
       "</div>"
      ],
      "text/plain": [
       "income                 <=50K       >50K\n",
       "occupation                             \n",
       "Adm-clerical       86.616501  13.383499\n",
       "Armed-Forces       88.888889  11.111111\n",
       "Craft-repair       77.468983  22.531017\n",
       "Exec-managerial    51.477956  48.522044\n",
       "Farming-fishing    88.372093  11.627907\n",
       "Handlers-cleaners  93.851852   6.148148\n",
       "Machine-op-inspct  87.538149  12.461851\n",
       "Other-service      95.890411   4.109589\n",
       "Priv-house-serv    99.300699   0.699301\n",
       "Prof-specialty     55.151065  44.848935\n",
       "Protective-serv    67.391304  32.608696\n",
       "Sales              72.935268  27.064732\n",
       "Tech-support       69.517544  30.482456\n",
       "Transport-moving   79.707379  20.292621"
      ]
     },
     "execution_count": 67,
     "metadata": {},
     "output_type": "execute_result"
    }
   ],
   "source": [
    "pd.crosstab(data_preprocessed[\"occupation\"], data_preprocessed[\"income\"], normalize=\"index\") * 100"
   ]
  },
  {
   "cell_type": "code",
   "execution_count": 68,
   "id": "756c887e-dd42-471a-9cbe-47e22170c322",
   "metadata": {},
   "outputs": [
    {
     "data": {
      "image/png": "[encoded data removed]",
      "text/plain": [
       "<Figure size 1000x800 with 1 Axes>"
      ]
     },
     "metadata": {},
     "output_type": "display_data"
    }
   ],
   "source": [
    "plt.figure(figsize=(10,8))\n",
    "sns.countplot(data_preprocessed, x=\"income\", hue=\"occupation\", palette=\"Set1\")\n",
    "plt.show()"
   ]
  },
  {
   "cell_type": "markdown",
   "id": "1f18efc8-e314-478b-8159-471323368135",
   "metadata": {},
   "source": [
    "Occupation is generally correlated with income, and this is evident in this dataset. For example, `Exec-managerial` and `Prof-specialty` are the highest earners, which is consistent with real-world observations, especially given the context of other occupations in this dataset. Additionally, the samples are distributed across the different classes with no markedly dominant class relative to others.\n",
    "\n",
    "Furthermore, each occupation is unique in its nature and semantics. There are no meaningful combinations that can be made, as merging based solely on data pattern similarity would produce arbitrary and unrelated groups. For instance, combining `Farming-fishing` and `Armed-Forces` into a single class such as `Farming-fishing/Armed-Forces` would be confusing. Although such an approach would considerably reduce the cardinality of this feature and might preserve the model’s predictive performance, it would likely do so only for this dataset’s training and testing phases. The generalizability would worsen, and interpretability would be markedly reduced.\n",
    "\n",
    "For this reason, only `Armed-Forces` and `Priv-house-serv`, which together comprise approximately 0.5% of the data, will be combined with `Other-service`, as they share data pattern similarity and represent rare, non-meaningful standalone classes."
   ]
  },
  {
   "cell_type": "code",
   "execution_count": 70,
   "id": "3e8c4558-eb83-4b54-ab88-84729ccf6c3f",
   "metadata": {},
   "outputs": [],
   "source": [
    "data_preprocessed[\"occupation\"] = data_preprocessed[\"occupation\"].replace({\n",
    "    \"Armed-Forces\":\"Other-service\",\n",
    "    \"Priv-house-serv\":\"Other-service\"\n",
    "})"
   ]
  },
  {
   "cell_type": "code",
   "execution_count": 71,
   "id": "7c5d9ee6-bf32-45db-95eb-74b9b7df6746",
   "metadata": {},
   "outputs": [
    {
     "data": {
      "text/plain": [
       "occupation\n",
       "Prof-specialty       4038\n",
       "Craft-repair         4030\n",
       "Exec-managerial      3992\n",
       "Adm-clerical         3721\n",
       "Sales                3584\n",
       "Other-service        3364\n",
       "Machine-op-inspct    1966\n",
       "Transport-moving     1572\n",
       "Handlers-cleaners    1350\n",
       "Farming-fishing       989\n",
       "Tech-support          912\n",
       "Protective-serv       644\n",
       "Name: count, dtype: int64"
      ]
     },
     "execution_count": 71,
     "metadata": {},
     "output_type": "execute_result"
    }
   ],
   "source": [
    "data_preprocessed[\"occupation\"].value_counts()"
   ]
  },
  {
   "cell_type": "markdown",
   "id": "c05ae348-b10c-4f52-b706-e3e82cd525c1",
   "metadata": {},
   "source": [
    "---\n",
    "Next is `relationship`."
   ]
  },
  {
   "cell_type": "code",
   "execution_count": 73,
   "id": "63555e3d-88c7-48cb-9d7c-e84b3d33e885",
   "metadata": {},
   "outputs": [
    {
     "data": {
      "text/plain": [
       "relationship\n",
       "Husband           12463\n",
       "Not-in-family      7726\n",
       "Own-child          4466\n",
       "Unmarried          3212\n",
       "Wife               1406\n",
       "Other-relative      889\n",
       "Name: count, dtype: int64"
      ]
     },
     "execution_count": 73,
     "metadata": {},
     "output_type": "execute_result"
    }
   ],
   "source": [
    "data_preprocessed[\"relationship\"].value_counts()"
   ]
  },
  {
   "cell_type": "code",
   "execution_count": 74,
   "id": "46335769-37ec-418c-ba82-af65062de961",
   "metadata": {},
   "outputs": [
    {
     "data": {
      "text/html": [
       "<div>\n",
       "<style scoped>\n",
       "    .dataframe tbody tr th:only-of-type {\n",
       "        vertical-align: middle;\n",
       "    }\n",
       "\n",
       "    .dataframe tbody tr th {\n",
       "        vertical-align: top;\n",
       "    }\n",
       "\n",
       "    .dataframe thead th {\n",
       "        text-align: right;\n",
       "    }\n",
       "</style>\n",
       "<table border=\"1\" class=\"dataframe\">\n",
       "  <thead>\n",
       "    <tr style=\"text-align: right;\">\n",
       "      <th>marital.status</th>\n",
       "      <th>Divorced/Widowed</th>\n",
       "      <th>Married</th>\n",
       "      <th>Never-married</th>\n",
       "    </tr>\n",
       "    <tr>\n",
       "      <th>relationship</th>\n",
       "      <th></th>\n",
       "      <th></th>\n",
       "      <th></th>\n",
       "    </tr>\n",
       "  </thead>\n",
       "  <tbody>\n",
       "    <tr>\n",
       "      <th>Husband</th>\n",
       "      <td>0</td>\n",
       "      <td>12463</td>\n",
       "      <td>0</td>\n",
       "    </tr>\n",
       "    <tr>\n",
       "      <th>Not-in-family</th>\n",
       "      <td>3264</td>\n",
       "      <td>14</td>\n",
       "      <td>4448</td>\n",
       "    </tr>\n",
       "    <tr>\n",
       "      <th>Other-relative</th>\n",
       "      <td>222</td>\n",
       "      <td>119</td>\n",
       "      <td>548</td>\n",
       "    </tr>\n",
       "    <tr>\n",
       "      <th>Own-child</th>\n",
       "      <td>453</td>\n",
       "      <td>84</td>\n",
       "      <td>3929</td>\n",
       "    </tr>\n",
       "    <tr>\n",
       "      <th>Unmarried</th>\n",
       "      <td>2411</td>\n",
       "      <td>0</td>\n",
       "      <td>801</td>\n",
       "    </tr>\n",
       "    <tr>\n",
       "      <th>Wife</th>\n",
       "      <td>0</td>\n",
       "      <td>1406</td>\n",
       "      <td>0</td>\n",
       "    </tr>\n",
       "  </tbody>\n",
       "</table>\n",
       "</div>"
      ],
      "text/plain": [
       "marital.status  Divorced/Widowed  Married  Never-married\n",
       "relationship                                            \n",
       "Husband                        0    12463              0\n",
       "Not-in-family               3264       14           4448\n",
       "Other-relative               222      119            548\n",
       "Own-child                    453       84           3929\n",
       "Unmarried                   2411        0            801\n",
       "Wife                           0     1406              0"
      ]
     },
     "execution_count": 74,
     "metadata": {},
     "output_type": "execute_result"
    }
   ],
   "source": [
    "pd.crosstab(data_preprocessed[\"relationship\"], data_preprocessed[\"marital.status\"])"
   ]
  },
  {
   "cell_type": "code",
   "execution_count": 75,
   "id": "95ce7fd1-ec17-4c96-8bd2-a6c25be11c6b",
   "metadata": {},
   "outputs": [
    {
     "data": {
      "image/png": "[encoded data removed]",
      "text/plain": [
       "<Figure size 640x480 with 1 Axes>"
      ]
     },
     "metadata": {},
     "output_type": "display_data"
    }
   ],
   "source": [
    "sns.countplot(data_preprocessed, x=\"marital.status\", hue=\"relationship\")\n",
    "plt.show()"
   ]
  },
  {
   "cell_type": "code",
   "execution_count": 76,
   "id": "7436da8a-f92c-47e9-a2cd-0f8fde3a202d",
   "metadata": {},
   "outputs": [
    {
     "data": {
      "image/png": "[encoded data removed]",
      "text/plain": [
       "<Figure size 640x480 with 1 Axes>"
      ]
     },
     "metadata": {},
     "output_type": "display_data"
    }
   ],
   "source": [
    "sns.countplot(data_preprocessed, x=\"income\", hue=\"relationship\")\n",
    "plt.show()"
   ]
  },
  {
   "cell_type": "markdown",
   "id": "94ba2588-9438-44fc-b8da-2084ba472143",
   "metadata": {},
   "source": [
    "This feature will be dropped, as its general meaning and data are redundant, and some of its classes show collinearity with `marital-status`. Moreover, marital status is a more general feature with clearer and more interpretable classes, while the categories of `relationship` can be ambiguous and broad. Additionally, this feature became distorted after the merging performed in marital-status."
   ]
  },
  {
   "cell_type": "code",
   "execution_count": 78,
   "id": "b14fafb1-1ef9-4fd1-b8b6-110d4e401f7c",
   "metadata": {},
   "outputs": [],
   "source": [
    "data_preprocessed = data_preprocessed.drop(columns=\"relationship\")"
   ]
  },
  {
   "cell_type": "code",
   "execution_count": 79,
   "id": "550d0a7f-1488-4a50-9c48-1422d9a5474b",
   "metadata": {},
   "outputs": [
    {
     "data": {
      "text/html": [
       "<div>\n",
       "<style scoped>\n",
       "    .dataframe tbody tr th:only-of-type {\n",
       "        vertical-align: middle;\n",
       "    }\n",
       "\n",
       "    .dataframe tbody tr th {\n",
       "        vertical-align: top;\n",
       "    }\n",
       "\n",
       "    .dataframe thead th {\n",
       "        text-align: right;\n",
       "    }\n",
       "</style>\n",
       "<table border=\"1\" class=\"dataframe\">\n",
       "  <thead>\n",
       "    <tr style=\"text-align: right;\">\n",
       "      <th></th>\n",
       "      <th>age</th>\n",
       "      <th>workclass</th>\n",
       "      <th>education</th>\n",
       "      <th>education.num</th>\n",
       "      <th>marital.status</th>\n",
       "      <th>occupation</th>\n",
       "      <th>race</th>\n",
       "      <th>sex</th>\n",
       "      <th>capital.gain</th>\n",
       "      <th>capital.loss</th>\n",
       "      <th>hours.per.week</th>\n",
       "      <th>native.country</th>\n",
       "      <th>income</th>\n",
       "    </tr>\n",
       "  </thead>\n",
       "  <tbody>\n",
       "    <tr>\n",
       "      <th>1</th>\n",
       "      <td>82</td>\n",
       "      <td>Private</td>\n",
       "      <td>HS-grad</td>\n",
       "      <td>9</td>\n",
       "      <td>Divorced/Widowed</td>\n",
       "      <td>Exec-managerial</td>\n",
       "      <td>White</td>\n",
       "      <td>Female</td>\n",
       "      <td>0</td>\n",
       "      <td>4356</td>\n",
       "      <td>18</td>\n",
       "      <td>United-States</td>\n",
       "      <td>&lt;=50K</td>\n",
       "    </tr>\n",
       "    <tr>\n",
       "      <th>3</th>\n",
       "      <td>54</td>\n",
       "      <td>Private</td>\n",
       "      <td>Other</td>\n",
       "      <td>4</td>\n",
       "      <td>Divorced/Widowed</td>\n",
       "      <td>Machine-op-inspct</td>\n",
       "      <td>White</td>\n",
       "      <td>Female</td>\n",
       "      <td>0</td>\n",
       "      <td>3900</td>\n",
       "      <td>40</td>\n",
       "      <td>United-States</td>\n",
       "      <td>&lt;=50K</td>\n",
       "    </tr>\n",
       "    <tr>\n",
       "      <th>4</th>\n",
       "      <td>41</td>\n",
       "      <td>Private</td>\n",
       "      <td>Undergrad/Associate</td>\n",
       "      <td>10</td>\n",
       "      <td>Divorced/Widowed</td>\n",
       "      <td>Prof-specialty</td>\n",
       "      <td>White</td>\n",
       "      <td>Female</td>\n",
       "      <td>0</td>\n",
       "      <td>3900</td>\n",
       "      <td>40</td>\n",
       "      <td>United-States</td>\n",
       "      <td>&lt;=50K</td>\n",
       "    </tr>\n",
       "    <tr>\n",
       "      <th>5</th>\n",
       "      <td>34</td>\n",
       "      <td>Private</td>\n",
       "      <td>HS-grad</td>\n",
       "      <td>9</td>\n",
       "      <td>Divorced/Widowed</td>\n",
       "      <td>Other-service</td>\n",
       "      <td>White</td>\n",
       "      <td>Female</td>\n",
       "      <td>0</td>\n",
       "      <td>3770</td>\n",
       "      <td>45</td>\n",
       "      <td>United-States</td>\n",
       "      <td>&lt;=50K</td>\n",
       "    </tr>\n",
       "    <tr>\n",
       "      <th>6</th>\n",
       "      <td>38</td>\n",
       "      <td>Private</td>\n",
       "      <td>Other</td>\n",
       "      <td>6</td>\n",
       "      <td>Divorced/Widowed</td>\n",
       "      <td>Adm-clerical</td>\n",
       "      <td>White</td>\n",
       "      <td>Male</td>\n",
       "      <td>0</td>\n",
       "      <td>3770</td>\n",
       "      <td>40</td>\n",
       "      <td>United-States</td>\n",
       "      <td>&lt;=50K</td>\n",
       "    </tr>\n",
       "  </tbody>\n",
       "</table>\n",
       "</div>"
      ],
      "text/plain": [
       "   age workclass            education  education.num    marital.status  \\\n",
       "1   82   Private              HS-grad              9  Divorced/Widowed   \n",
       "3   54   Private                Other              4  Divorced/Widowed   \n",
       "4   41   Private  Undergrad/Associate             10  Divorced/Widowed   \n",
       "5   34   Private              HS-grad              9  Divorced/Widowed   \n",
       "6   38   Private                Other              6  Divorced/Widowed   \n",
       "\n",
       "          occupation   race     sex  capital.gain  capital.loss  \\\n",
       "1    Exec-managerial  White  Female             0          4356   \n",
       "3  Machine-op-inspct  White  Female             0          3900   \n",
       "4     Prof-specialty  White  Female             0          3900   \n",
       "5      Other-service  White  Female             0          3770   \n",
       "6       Adm-clerical  White    Male             0          3770   \n",
       "\n",
       "   hours.per.week native.country income  \n",
       "1              18  United-States  <=50K  \n",
       "3              40  United-States  <=50K  \n",
       "4              40  United-States  <=50K  \n",
       "5              45  United-States  <=50K  \n",
       "6              40  United-States  <=50K  "
      ]
     },
     "execution_count": 79,
     "metadata": {},
     "output_type": "execute_result"
    }
   ],
   "source": [
    "data_preprocessed.head()"
   ]
  },
  {
   "cell_type": "markdown",
   "id": "e3853c34-25f0-4d0f-a79c-613191f70c96",
   "metadata": {},
   "source": [
    "---\n",
    "Next is `race`."
   ]
  },
  {
   "cell_type": "code",
   "execution_count": 81,
   "id": "0c74f534-79a8-4986-aa03-2c18f71b2fba",
   "metadata": {},
   "outputs": [
    {
     "data": {
      "text/plain": [
       "race\n",
       "White                 25933\n",
       "Black                  2817\n",
       "Asian-Pac-Islander      895\n",
       "Amer-Indian-Eskimo      286\n",
       "Other                   231\n",
       "Name: count, dtype: int64"
      ]
     },
     "execution_count": 81,
     "metadata": {},
     "output_type": "execute_result"
    }
   ],
   "source": [
    "data_preprocessed[\"race\"].value_counts()"
   ]
  },
  {
   "cell_type": "code",
   "execution_count": 82,
   "id": "9a2156c2-5f34-43a7-be7d-b01946d93562",
   "metadata": {},
   "outputs": [
    {
     "data": {
      "text/plain": [
       "race\n",
       "White                 85.979046\n",
       "Black                  9.339566\n",
       "Asian-Pac-Islander     2.967310\n",
       "Amer-Indian-Eskimo     0.948213\n",
       "Other                  0.765864\n",
       "Name: proportion, dtype: float64"
      ]
     },
     "execution_count": 82,
     "metadata": {},
     "output_type": "execute_result"
    }
   ],
   "source": [
    "data_preprocessed[\"race\"].value_counts(normalize=True) * 100"
   ]
  },
  {
   "cell_type": "code",
   "execution_count": 83,
   "id": "4de1b611-7bb2-40f1-bfff-e2dcf493ddc6",
   "metadata": {},
   "outputs": [
    {
     "data": {
      "text/html": [
       "<div>\n",
       "<style scoped>\n",
       "    .dataframe tbody tr th:only-of-type {\n",
       "        vertical-align: middle;\n",
       "    }\n",
       "\n",
       "    .dataframe tbody tr th {\n",
       "        vertical-align: top;\n",
       "    }\n",
       "\n",
       "    .dataframe thead th {\n",
       "        text-align: right;\n",
       "    }\n",
       "</style>\n",
       "<table border=\"1\" class=\"dataframe\">\n",
       "  <thead>\n",
       "    <tr style=\"text-align: right;\">\n",
       "      <th>income</th>\n",
       "      <th>&lt;=50K</th>\n",
       "      <th>&gt;50K</th>\n",
       "    </tr>\n",
       "    <tr>\n",
       "      <th>race</th>\n",
       "      <th></th>\n",
       "      <th></th>\n",
       "    </tr>\n",
       "  </thead>\n",
       "  <tbody>\n",
       "    <tr>\n",
       "      <th>Amer-Indian-Eskimo</th>\n",
       "      <td>252</td>\n",
       "      <td>34</td>\n",
       "    </tr>\n",
       "    <tr>\n",
       "      <th>Asian-Pac-Islander</th>\n",
       "      <td>647</td>\n",
       "      <td>248</td>\n",
       "    </tr>\n",
       "    <tr>\n",
       "      <th>Black</th>\n",
       "      <td>2451</td>\n",
       "      <td>366</td>\n",
       "    </tr>\n",
       "    <tr>\n",
       "      <th>Other</th>\n",
       "      <td>210</td>\n",
       "      <td>21</td>\n",
       "    </tr>\n",
       "    <tr>\n",
       "      <th>White</th>\n",
       "      <td>19094</td>\n",
       "      <td>6839</td>\n",
       "    </tr>\n",
       "  </tbody>\n",
       "</table>\n",
       "</div>"
      ],
      "text/plain": [
       "income              <=50K  >50K\n",
       "race                           \n",
       "Amer-Indian-Eskimo    252    34\n",
       "Asian-Pac-Islander    647   248\n",
       "Black                2451   366\n",
       "Other                 210    21\n",
       "White               19094  6839"
      ]
     },
     "execution_count": 83,
     "metadata": {},
     "output_type": "execute_result"
    }
   ],
   "source": [
    "pd.crosstab(data_preprocessed[\"race\"], data_preprocessed[\"income\"])"
   ]
  },
  {
   "cell_type": "code",
   "execution_count": 84,
   "id": "9994765f-61c4-4e1d-8233-3f1e41ea9408",
   "metadata": {},
   "outputs": [
    {
     "data": {
      "text/html": [
       "<div>\n",
       "<style scoped>\n",
       "    .dataframe tbody tr th:only-of-type {\n",
       "        vertical-align: middle;\n",
       "    }\n",
       "\n",
       "    .dataframe tbody tr th {\n",
       "        vertical-align: top;\n",
       "    }\n",
       "\n",
       "    .dataframe thead th {\n",
       "        text-align: right;\n",
       "    }\n",
       "</style>\n",
       "<table border=\"1\" class=\"dataframe\">\n",
       "  <thead>\n",
       "    <tr style=\"text-align: right;\">\n",
       "      <th>income</th>\n",
       "      <th>&lt;=50K</th>\n",
       "      <th>&gt;50K</th>\n",
       "    </tr>\n",
       "    <tr>\n",
       "      <th>race</th>\n",
       "      <th></th>\n",
       "      <th></th>\n",
       "    </tr>\n",
       "  </thead>\n",
       "  <tbody>\n",
       "    <tr>\n",
       "      <th>Amer-Indian-Eskimo</th>\n",
       "      <td>88.111888</td>\n",
       "      <td>11.888112</td>\n",
       "    </tr>\n",
       "    <tr>\n",
       "      <th>Asian-Pac-Islander</th>\n",
       "      <td>72.290503</td>\n",
       "      <td>27.709497</td>\n",
       "    </tr>\n",
       "    <tr>\n",
       "      <th>Black</th>\n",
       "      <td>87.007455</td>\n",
       "      <td>12.992545</td>\n",
       "    </tr>\n",
       "    <tr>\n",
       "      <th>Other</th>\n",
       "      <td>90.909091</td>\n",
       "      <td>9.090909</td>\n",
       "    </tr>\n",
       "    <tr>\n",
       "      <th>White</th>\n",
       "      <td>73.628196</td>\n",
       "      <td>26.371804</td>\n",
       "    </tr>\n",
       "  </tbody>\n",
       "</table>\n",
       "</div>"
      ],
      "text/plain": [
       "income                  <=50K       >50K\n",
       "race                                    \n",
       "Amer-Indian-Eskimo  88.111888  11.888112\n",
       "Asian-Pac-Islander  72.290503  27.709497\n",
       "Black               87.007455  12.992545\n",
       "Other               90.909091   9.090909\n",
       "White               73.628196  26.371804"
      ]
     },
     "execution_count": 84,
     "metadata": {},
     "output_type": "execute_result"
    }
   ],
   "source": [
    "pd.crosstab(data_preprocessed[\"race\"], data_preprocessed[\"income\"], normalize=\"index\") * 100"
   ]
  },
  {
   "cell_type": "code",
   "execution_count": 85,
   "id": "af38e249-d8ac-4eb8-a8c5-b032b6e5f9d9",
   "metadata": {},
   "outputs": [
    {
     "data": {
      "image/png": "[encoded data removed]",
      "text/plain": [
       "<Figure size 640x480 with 1 Axes>"
      ]
     },
     "metadata": {},
     "output_type": "display_data"
    }
   ],
   "source": [
    "sns.countplot(data_preprocessed, x=\"income\", hue=\"race\")\n",
    "plt.show()"
   ]
  },
  {
   "cell_type": "markdown",
   "id": "92dc0bff-463d-448c-9a0f-5ed746f83385",
   "metadata": {},
   "source": [
    "Race will be simplified by combining the rare classes `Amer-Indian-Eskimo` and `Asian-Pac-Islander` into `Other`. These two are already have categories representing diverse subgroups, and merging them might increases the representativeness and robustness of the `Other` class. The `White` and `Black` classes will be left untouched, as they constitute the majority of the dataset and are distinct in both size and socioeconomic distribution."
   ]
  },
  {
   "cell_type": "code",
   "execution_count": 87,
   "id": "198cf06b-9e9b-4ba2-881c-fb46a2ba5b69",
   "metadata": {},
   "outputs": [],
   "source": [
    "data_preprocessed[\"race\"] = data_preprocessed[\"race\"].replace({\"Amer-Indian-Eskimo\":\"Other\",\"Asian-Pac-Islander\":\"Other\"})"
   ]
  },
  {
   "cell_type": "code",
   "execution_count": 88,
   "id": "a230c059-5b13-483c-89a0-f6595f4af463",
   "metadata": {},
   "outputs": [
    {
     "data": {
      "text/plain": [
       "race\n",
       "White    25933\n",
       "Black     2817\n",
       "Other     1412\n",
       "Name: count, dtype: int64"
      ]
     },
     "execution_count": 88,
     "metadata": {},
     "output_type": "execute_result"
    }
   ],
   "source": [
    "data_preprocessed[\"race\"].value_counts()"
   ]
  },
  {
   "cell_type": "markdown",
   "id": "d2b6fee7-3a53-441c-b13d-697cf28816f0",
   "metadata": {},
   "source": [
    "---"
   ]
  },
  {
   "cell_type": "code",
   "execution_count": 90,
   "id": "5615b445-952d-4d13-86ac-d854c3566f95",
   "metadata": {},
   "outputs": [
    {
     "data": {
      "text/plain": [
       "sex\n",
       "Male      20380\n",
       "Female     9782\n",
       "Name: count, dtype: int64"
      ]
     },
     "execution_count": 90,
     "metadata": {},
     "output_type": "execute_result"
    }
   ],
   "source": [
    "data_preprocessed[\"sex\"].value_counts()"
   ]
  },
  {
   "cell_type": "markdown",
   "id": "c63b9f06-1c43-4345-a063-9c1d282817bb",
   "metadata": {},
   "source": [
    "Regarding `sex`, it will be left untouched, as it is already binary and well-defined."
   ]
  },
  {
   "cell_type": "markdown",
   "id": "a0234540-90d0-41ae-9434-6f53515cc6d4",
   "metadata": {},
   "source": [
    "---\n",
    "Next is `native.country`."
   ]
  },
  {
   "cell_type": "code",
   "execution_count": 93,
   "id": "a66811ed-faf0-4fee-8164-31282a4e3420",
   "metadata": {},
   "outputs": [
    {
     "data": {
      "text/plain": [
       "native.country\n",
       "United-States                 27504\n",
       "Mexico                          610\n",
       "Philippines                     188\n",
       "Germany                         128\n",
       "Puerto-Rico                     109\n",
       "Canada                          107\n",
       "El-Salvador                     100\n",
       "India                           100\n",
       "Cuba                             92\n",
       "England                          86\n",
       "Jamaica                          80\n",
       "South                            71\n",
       "Italy                            68\n",
       "China                            68\n",
       "Dominican-Republic               67\n",
       "Vietnam                          64\n",
       "Guatemala                        63\n",
       "Japan                            59\n",
       "Poland                           56\n",
       "Columbia                         56\n",
       "Iran                             42\n",
       "Taiwan                           42\n",
       "Haiti                            42\n",
       "Portugal                         34\n",
       "Nicaragua                        33\n",
       "Peru                             30\n",
       "Greece                           29\n",
       "Ecuador                          27\n",
       "France                           27\n",
       "Ireland                          24\n",
       "Hong                             19\n",
       "Cambodia                         18\n",
       "Trinadad&Tobago                  18\n",
       "Thailand                         17\n",
       "Laos                             17\n",
       "Yugoslavia                       16\n",
       "Outlying-US(Guam-USVI-etc)       14\n",
       "Hungary                          13\n",
       "Honduras                         12\n",
       "Scotland                         11\n",
       "Holand-Netherlands                1\n",
       "Name: count, dtype: int64"
      ]
     },
     "execution_count": 93,
     "metadata": {},
     "output_type": "execute_result"
    }
   ],
   "source": [
    "data_preprocessed[\"native.country\"].value_counts()"
   ]
  },
  {
   "cell_type": "code",
   "execution_count": 94,
   "id": "47cbce1c-b6e6-42d5-81eb-ed3b599cfc9c",
   "metadata": {},
   "outputs": [
    {
     "data": {
      "text/plain": [
       "41"
      ]
     },
     "execution_count": 94,
     "metadata": {},
     "output_type": "execute_result"
    }
   ],
   "source": [
    "data_preprocessed[\"native.country\"].value_counts().size"
   ]
  },
  {
   "cell_type": "code",
   "execution_count": 95,
   "id": "33cae4c7-6ce3-4c0f-ade4-9ca1579b7386",
   "metadata": {},
   "outputs": [
    {
     "data": {
      "text/plain": [
       "native.country\n",
       "United-States                 91.187587\n",
       "Mexico                         2.022412\n",
       "Philippines                    0.623301\n",
       "Germany                        0.424375\n",
       "Puerto-Rico                    0.361382\n",
       "Canada                         0.354751\n",
       "El-Salvador                    0.331543\n",
       "India                          0.331543\n",
       "Cuba                           0.305020\n",
       "England                        0.285127\n",
       "Jamaica                        0.265234\n",
       "South                          0.235396\n",
       "Italy                          0.225449\n",
       "China                          0.225449\n",
       "Dominican-Republic             0.222134\n",
       "Vietnam                        0.212188\n",
       "Guatemala                      0.208872\n",
       "Japan                          0.195610\n",
       "Poland                         0.185664\n",
       "Columbia                       0.185664\n",
       "Iran                           0.139248\n",
       "Taiwan                         0.139248\n",
       "Haiti                          0.139248\n",
       "Portugal                       0.112725\n",
       "Nicaragua                      0.109409\n",
       "Peru                           0.099463\n",
       "Greece                         0.096147\n",
       "Ecuador                        0.089517\n",
       "France                         0.089517\n",
       "Ireland                        0.079570\n",
       "Hong                           0.062993\n",
       "Cambodia                       0.059678\n",
       "Trinadad&Tobago                0.059678\n",
       "Thailand                       0.056362\n",
       "Laos                           0.056362\n",
       "Yugoslavia                     0.053047\n",
       "Outlying-US(Guam-USVI-etc)     0.046416\n",
       "Hungary                        0.043101\n",
       "Honduras                       0.039785\n",
       "Scotland                       0.036470\n",
       "Holand-Netherlands             0.003315\n",
       "Name: proportion, dtype: float64"
      ]
     },
     "execution_count": 95,
     "metadata": {},
     "output_type": "execute_result"
    }
   ],
   "source": [
    "data_preprocessed[\"native.country\"].value_counts(normalize=True) * 100"
   ]
  },
  {
   "cell_type": "code",
   "execution_count": 96,
   "id": "7545e7e9-6c42-4766-9fe3-a2e8551e6702",
   "metadata": {},
   "outputs": [
    {
     "data": {
      "text/html": [
       "<div>\n",
       "<style scoped>\n",
       "    .dataframe tbody tr th:only-of-type {\n",
       "        vertical-align: middle;\n",
       "    }\n",
       "\n",
       "    .dataframe tbody tr th {\n",
       "        vertical-align: top;\n",
       "    }\n",
       "\n",
       "    .dataframe thead th {\n",
       "        text-align: right;\n",
       "    }\n",
       "</style>\n",
       "<table border=\"1\" class=\"dataframe\">\n",
       "  <thead>\n",
       "    <tr style=\"text-align: right;\">\n",
       "      <th>income</th>\n",
       "      <th>&lt;=50K</th>\n",
       "      <th>&gt;50K</th>\n",
       "    </tr>\n",
       "    <tr>\n",
       "      <th>native.country</th>\n",
       "      <th></th>\n",
       "      <th></th>\n",
       "    </tr>\n",
       "  </thead>\n",
       "  <tbody>\n",
       "    <tr>\n",
       "      <th>Cambodia</th>\n",
       "      <td>11</td>\n",
       "      <td>7</td>\n",
       "    </tr>\n",
       "    <tr>\n",
       "      <th>Canada</th>\n",
       "      <td>71</td>\n",
       "      <td>36</td>\n",
       "    </tr>\n",
       "    <tr>\n",
       "      <th>China</th>\n",
       "      <td>48</td>\n",
       "      <td>20</td>\n",
       "    </tr>\n",
       "    <tr>\n",
       "      <th>Columbia</th>\n",
       "      <td>54</td>\n",
       "      <td>2</td>\n",
       "    </tr>\n",
       "    <tr>\n",
       "      <th>Cuba</th>\n",
       "      <td>67</td>\n",
       "      <td>25</td>\n",
       "    </tr>\n",
       "    <tr>\n",
       "      <th>Dominican-Republic</th>\n",
       "      <td>65</td>\n",
       "      <td>2</td>\n",
       "    </tr>\n",
       "    <tr>\n",
       "      <th>Ecuador</th>\n",
       "      <td>23</td>\n",
       "      <td>4</td>\n",
       "    </tr>\n",
       "    <tr>\n",
       "      <th>El-Salvador</th>\n",
       "      <td>91</td>\n",
       "      <td>9</td>\n",
       "    </tr>\n",
       "    <tr>\n",
       "      <th>England</th>\n",
       "      <td>56</td>\n",
       "      <td>30</td>\n",
       "    </tr>\n",
       "    <tr>\n",
       "      <th>France</th>\n",
       "      <td>15</td>\n",
       "      <td>12</td>\n",
       "    </tr>\n",
       "    <tr>\n",
       "      <th>Germany</th>\n",
       "      <td>84</td>\n",
       "      <td>44</td>\n",
       "    </tr>\n",
       "    <tr>\n",
       "      <th>Greece</th>\n",
       "      <td>21</td>\n",
       "      <td>8</td>\n",
       "    </tr>\n",
       "    <tr>\n",
       "      <th>Guatemala</th>\n",
       "      <td>60</td>\n",
       "      <td>3</td>\n",
       "    </tr>\n",
       "    <tr>\n",
       "      <th>Haiti</th>\n",
       "      <td>38</td>\n",
       "      <td>4</td>\n",
       "    </tr>\n",
       "    <tr>\n",
       "      <th>Holand-Netherlands</th>\n",
       "      <td>1</td>\n",
       "      <td>0</td>\n",
       "    </tr>\n",
       "    <tr>\n",
       "      <th>Honduras</th>\n",
       "      <td>11</td>\n",
       "      <td>1</td>\n",
       "    </tr>\n",
       "    <tr>\n",
       "      <th>Hong</th>\n",
       "      <td>13</td>\n",
       "      <td>6</td>\n",
       "    </tr>\n",
       "    <tr>\n",
       "      <th>Hungary</th>\n",
       "      <td>10</td>\n",
       "      <td>3</td>\n",
       "    </tr>\n",
       "    <tr>\n",
       "      <th>India</th>\n",
       "      <td>60</td>\n",
       "      <td>40</td>\n",
       "    </tr>\n",
       "    <tr>\n",
       "      <th>Iran</th>\n",
       "      <td>24</td>\n",
       "      <td>18</td>\n",
       "    </tr>\n",
       "    <tr>\n",
       "      <th>Ireland</th>\n",
       "      <td>19</td>\n",
       "      <td>5</td>\n",
       "    </tr>\n",
       "    <tr>\n",
       "      <th>Italy</th>\n",
       "      <td>44</td>\n",
       "      <td>24</td>\n",
       "    </tr>\n",
       "    <tr>\n",
       "      <th>Jamaica</th>\n",
       "      <td>70</td>\n",
       "      <td>10</td>\n",
       "    </tr>\n",
       "    <tr>\n",
       "      <th>Japan</th>\n",
       "      <td>36</td>\n",
       "      <td>23</td>\n",
       "    </tr>\n",
       "    <tr>\n",
       "      <th>Laos</th>\n",
       "      <td>15</td>\n",
       "      <td>2</td>\n",
       "    </tr>\n",
       "    <tr>\n",
       "      <th>Mexico</th>\n",
       "      <td>577</td>\n",
       "      <td>33</td>\n",
       "    </tr>\n",
       "    <tr>\n",
       "      <th>Nicaragua</th>\n",
       "      <td>31</td>\n",
       "      <td>2</td>\n",
       "    </tr>\n",
       "    <tr>\n",
       "      <th>Outlying-US(Guam-USVI-etc)</th>\n",
       "      <td>14</td>\n",
       "      <td>0</td>\n",
       "    </tr>\n",
       "    <tr>\n",
       "      <th>Peru</th>\n",
       "      <td>28</td>\n",
       "      <td>2</td>\n",
       "    </tr>\n",
       "    <tr>\n",
       "      <th>Philippines</th>\n",
       "      <td>128</td>\n",
       "      <td>60</td>\n",
       "    </tr>\n",
       "    <tr>\n",
       "      <th>Poland</th>\n",
       "      <td>45</td>\n",
       "      <td>11</td>\n",
       "    </tr>\n",
       "    <tr>\n",
       "      <th>Portugal</th>\n",
       "      <td>30</td>\n",
       "      <td>4</td>\n",
       "    </tr>\n",
       "    <tr>\n",
       "      <th>Puerto-Rico</th>\n",
       "      <td>97</td>\n",
       "      <td>12</td>\n",
       "    </tr>\n",
       "    <tr>\n",
       "      <th>Scotland</th>\n",
       "      <td>9</td>\n",
       "      <td>2</td>\n",
       "    </tr>\n",
       "    <tr>\n",
       "      <th>South</th>\n",
       "      <td>57</td>\n",
       "      <td>14</td>\n",
       "    </tr>\n",
       "    <tr>\n",
       "      <th>Taiwan</th>\n",
       "      <td>23</td>\n",
       "      <td>19</td>\n",
       "    </tr>\n",
       "    <tr>\n",
       "      <th>Thailand</th>\n",
       "      <td>14</td>\n",
       "      <td>3</td>\n",
       "    </tr>\n",
       "    <tr>\n",
       "      <th>Trinadad&amp;Tobago</th>\n",
       "      <td>16</td>\n",
       "      <td>2</td>\n",
       "    </tr>\n",
       "    <tr>\n",
       "      <th>United-States</th>\n",
       "      <td>20509</td>\n",
       "      <td>6995</td>\n",
       "    </tr>\n",
       "    <tr>\n",
       "      <th>Vietnam</th>\n",
       "      <td>59</td>\n",
       "      <td>5</td>\n",
       "    </tr>\n",
       "    <tr>\n",
       "      <th>Yugoslavia</th>\n",
       "      <td>10</td>\n",
       "      <td>6</td>\n",
       "    </tr>\n",
       "  </tbody>\n",
       "</table>\n",
       "</div>"
      ],
      "text/plain": [
       "income                      <=50K  >50K\n",
       "native.country                         \n",
       "Cambodia                       11     7\n",
       "Canada                         71    36\n",
       "China                          48    20\n",
       "Columbia                       54     2\n",
       "Cuba                           67    25\n",
       "Dominican-Republic             65     2\n",
       "Ecuador                        23     4\n",
       "El-Salvador                    91     9\n",
       "England                        56    30\n",
       "France                         15    12\n",
       "Germany                        84    44\n",
       "Greece                         21     8\n",
       "Guatemala                      60     3\n",
       "Haiti                          38     4\n",
       "Holand-Netherlands              1     0\n",
       "Honduras                       11     1\n",
       "Hong                           13     6\n",
       "Hungary                        10     3\n",
       "India                          60    40\n",
       "Iran                           24    18\n",
       "Ireland                        19     5\n",
       "Italy                          44    24\n",
       "Jamaica                        70    10\n",
       "Japan                          36    23\n",
       "Laos                           15     2\n",
       "Mexico                        577    33\n",
       "Nicaragua                      31     2\n",
       "Outlying-US(Guam-USVI-etc)     14     0\n",
       "Peru                           28     2\n",
       "Philippines                   128    60\n",
       "Poland                         45    11\n",
       "Portugal                       30     4\n",
       "Puerto-Rico                    97    12\n",
       "Scotland                        9     2\n",
       "South                          57    14\n",
       "Taiwan                         23    19\n",
       "Thailand                       14     3\n",
       "Trinadad&Tobago                16     2\n",
       "United-States               20509  6995\n",
       "Vietnam                        59     5\n",
       "Yugoslavia                     10     6"
      ]
     },
     "execution_count": 96,
     "metadata": {},
     "output_type": "execute_result"
    }
   ],
   "source": [
    "pd.crosstab(data_preprocessed[\"native.country\"], data_preprocessed[\"income\"])"
   ]
  },
  {
   "cell_type": "code",
   "execution_count": 97,
   "id": "b4fba9e4-37bc-44e0-baab-8e422879c7ae",
   "metadata": {},
   "outputs": [
    {
     "data": {
      "text/html": [
       "<div>\n",
       "<style scoped>\n",
       "    .dataframe tbody tr th:only-of-type {\n",
       "        vertical-align: middle;\n",
       "    }\n",
       "\n",
       "    .dataframe tbody tr th {\n",
       "        vertical-align: top;\n",
       "    }\n",
       "\n",
       "    .dataframe thead th {\n",
       "        text-align: right;\n",
       "    }\n",
       "</style>\n",
       "<table border=\"1\" class=\"dataframe\">\n",
       "  <thead>\n",
       "    <tr style=\"text-align: right;\">\n",
       "      <th>income</th>\n",
       "      <th>&lt;=50K</th>\n",
       "      <th>&gt;50K</th>\n",
       "    </tr>\n",
       "    <tr>\n",
       "      <th>native.country</th>\n",
       "      <th></th>\n",
       "      <th></th>\n",
       "    </tr>\n",
       "  </thead>\n",
       "  <tbody>\n",
       "    <tr>\n",
       "      <th>Cambodia</th>\n",
       "      <td>61.111111</td>\n",
       "      <td>38.888889</td>\n",
       "    </tr>\n",
       "    <tr>\n",
       "      <th>Canada</th>\n",
       "      <td>66.355140</td>\n",
       "      <td>33.644860</td>\n",
       "    </tr>\n",
       "    <tr>\n",
       "      <th>China</th>\n",
       "      <td>70.588235</td>\n",
       "      <td>29.411765</td>\n",
       "    </tr>\n",
       "    <tr>\n",
       "      <th>Columbia</th>\n",
       "      <td>96.428571</td>\n",
       "      <td>3.571429</td>\n",
       "    </tr>\n",
       "    <tr>\n",
       "      <th>Cuba</th>\n",
       "      <td>72.826087</td>\n",
       "      <td>27.173913</td>\n",
       "    </tr>\n",
       "    <tr>\n",
       "      <th>Dominican-Republic</th>\n",
       "      <td>97.014925</td>\n",
       "      <td>2.985075</td>\n",
       "    </tr>\n",
       "    <tr>\n",
       "      <th>Ecuador</th>\n",
       "      <td>85.185185</td>\n",
       "      <td>14.814815</td>\n",
       "    </tr>\n",
       "    <tr>\n",
       "      <th>El-Salvador</th>\n",
       "      <td>91.000000</td>\n",
       "      <td>9.000000</td>\n",
       "    </tr>\n",
       "    <tr>\n",
       "      <th>England</th>\n",
       "      <td>65.116279</td>\n",
       "      <td>34.883721</td>\n",
       "    </tr>\n",
       "    <tr>\n",
       "      <th>France</th>\n",
       "      <td>55.555556</td>\n",
       "      <td>44.444444</td>\n",
       "    </tr>\n",
       "    <tr>\n",
       "      <th>Germany</th>\n",
       "      <td>65.625000</td>\n",
       "      <td>34.375000</td>\n",
       "    </tr>\n",
       "    <tr>\n",
       "      <th>Greece</th>\n",
       "      <td>72.413793</td>\n",
       "      <td>27.586207</td>\n",
       "    </tr>\n",
       "    <tr>\n",
       "      <th>Guatemala</th>\n",
       "      <td>95.238095</td>\n",
       "      <td>4.761905</td>\n",
       "    </tr>\n",
       "    <tr>\n",
       "      <th>Haiti</th>\n",
       "      <td>90.476190</td>\n",
       "      <td>9.523810</td>\n",
       "    </tr>\n",
       "    <tr>\n",
       "      <th>Holand-Netherlands</th>\n",
       "      <td>100.000000</td>\n",
       "      <td>0.000000</td>\n",
       "    </tr>\n",
       "    <tr>\n",
       "      <th>Honduras</th>\n",
       "      <td>91.666667</td>\n",
       "      <td>8.333333</td>\n",
       "    </tr>\n",
       "    <tr>\n",
       "      <th>Hong</th>\n",
       "      <td>68.421053</td>\n",
       "      <td>31.578947</td>\n",
       "    </tr>\n",
       "    <tr>\n",
       "      <th>Hungary</th>\n",
       "      <td>76.923077</td>\n",
       "      <td>23.076923</td>\n",
       "    </tr>\n",
       "    <tr>\n",
       "      <th>India</th>\n",
       "      <td>60.000000</td>\n",
       "      <td>40.000000</td>\n",
       "    </tr>\n",
       "    <tr>\n",
       "      <th>Iran</th>\n",
       "      <td>57.142857</td>\n",
       "      <td>42.857143</td>\n",
       "    </tr>\n",
       "    <tr>\n",
       "      <th>Ireland</th>\n",
       "      <td>79.166667</td>\n",
       "      <td>20.833333</td>\n",
       "    </tr>\n",
       "    <tr>\n",
       "      <th>Italy</th>\n",
       "      <td>64.705882</td>\n",
       "      <td>35.294118</td>\n",
       "    </tr>\n",
       "    <tr>\n",
       "      <th>Jamaica</th>\n",
       "      <td>87.500000</td>\n",
       "      <td>12.500000</td>\n",
       "    </tr>\n",
       "    <tr>\n",
       "      <th>Japan</th>\n",
       "      <td>61.016949</td>\n",
       "      <td>38.983051</td>\n",
       "    </tr>\n",
       "    <tr>\n",
       "      <th>Laos</th>\n",
       "      <td>88.235294</td>\n",
       "      <td>11.764706</td>\n",
       "    </tr>\n",
       "    <tr>\n",
       "      <th>Mexico</th>\n",
       "      <td>94.590164</td>\n",
       "      <td>5.409836</td>\n",
       "    </tr>\n",
       "    <tr>\n",
       "      <th>Nicaragua</th>\n",
       "      <td>93.939394</td>\n",
       "      <td>6.060606</td>\n",
       "    </tr>\n",
       "    <tr>\n",
       "      <th>Outlying-US(Guam-USVI-etc)</th>\n",
       "      <td>100.000000</td>\n",
       "      <td>0.000000</td>\n",
       "    </tr>\n",
       "    <tr>\n",
       "      <th>Peru</th>\n",
       "      <td>93.333333</td>\n",
       "      <td>6.666667</td>\n",
       "    </tr>\n",
       "    <tr>\n",
       "      <th>Philippines</th>\n",
       "      <td>68.085106</td>\n",
       "      <td>31.914894</td>\n",
       "    </tr>\n",
       "    <tr>\n",
       "      <th>Poland</th>\n",
       "      <td>80.357143</td>\n",
       "      <td>19.642857</td>\n",
       "    </tr>\n",
       "    <tr>\n",
       "      <th>Portugal</th>\n",
       "      <td>88.235294</td>\n",
       "      <td>11.764706</td>\n",
       "    </tr>\n",
       "    <tr>\n",
       "      <th>Puerto-Rico</th>\n",
       "      <td>88.990826</td>\n",
       "      <td>11.009174</td>\n",
       "    </tr>\n",
       "    <tr>\n",
       "      <th>Scotland</th>\n",
       "      <td>81.818182</td>\n",
       "      <td>18.181818</td>\n",
       "    </tr>\n",
       "    <tr>\n",
       "      <th>South</th>\n",
       "      <td>80.281690</td>\n",
       "      <td>19.718310</td>\n",
       "    </tr>\n",
       "    <tr>\n",
       "      <th>Taiwan</th>\n",
       "      <td>54.761905</td>\n",
       "      <td>45.238095</td>\n",
       "    </tr>\n",
       "    <tr>\n",
       "      <th>Thailand</th>\n",
       "      <td>82.352941</td>\n",
       "      <td>17.647059</td>\n",
       "    </tr>\n",
       "    <tr>\n",
       "      <th>Trinadad&amp;Tobago</th>\n",
       "      <td>88.888889</td>\n",
       "      <td>11.111111</td>\n",
       "    </tr>\n",
       "    <tr>\n",
       "      <th>United-States</th>\n",
       "      <td>74.567336</td>\n",
       "      <td>25.432664</td>\n",
       "    </tr>\n",
       "    <tr>\n",
       "      <th>Vietnam</th>\n",
       "      <td>92.187500</td>\n",
       "      <td>7.812500</td>\n",
       "    </tr>\n",
       "    <tr>\n",
       "      <th>Yugoslavia</th>\n",
       "      <td>62.500000</td>\n",
       "      <td>37.500000</td>\n",
       "    </tr>\n",
       "  </tbody>\n",
       "</table>\n",
       "</div>"
      ],
      "text/plain": [
       "income                           <=50K       >50K\n",
       "native.country                                   \n",
       "Cambodia                     61.111111  38.888889\n",
       "Canada                       66.355140  33.644860\n",
       "China                        70.588235  29.411765\n",
       "Columbia                     96.428571   3.571429\n",
       "Cuba                         72.826087  27.173913\n",
       "Dominican-Republic           97.014925   2.985075\n",
       "Ecuador                      85.185185  14.814815\n",
       "El-Salvador                  91.000000   9.000000\n",
       "England                      65.116279  34.883721\n",
       "France                       55.555556  44.444444\n",
       "Germany                      65.625000  34.375000\n",
       "Greece                       72.413793  27.586207\n",
       "Guatemala                    95.238095   4.761905\n",
       "Haiti                        90.476190   9.523810\n",
       "Holand-Netherlands          100.000000   0.000000\n",
       "Honduras                     91.666667   8.333333\n",
       "Hong                         68.421053  31.578947\n",
       "Hungary                      76.923077  23.076923\n",
       "India                        60.000000  40.000000\n",
       "Iran                         57.142857  42.857143\n",
       "Ireland                      79.166667  20.833333\n",
       "Italy                        64.705882  35.294118\n",
       "Jamaica                      87.500000  12.500000\n",
       "Japan                        61.016949  38.983051\n",
       "Laos                         88.235294  11.764706\n",
       "Mexico                       94.590164   5.409836\n",
       "Nicaragua                    93.939394   6.060606\n",
       "Outlying-US(Guam-USVI-etc)  100.000000   0.000000\n",
       "Peru                         93.333333   6.666667\n",
       "Philippines                  68.085106  31.914894\n",
       "Poland                       80.357143  19.642857\n",
       "Portugal                     88.235294  11.764706\n",
       "Puerto-Rico                  88.990826  11.009174\n",
       "Scotland                     81.818182  18.181818\n",
       "South                        80.281690  19.718310\n",
       "Taiwan                       54.761905  45.238095\n",
       "Thailand                     82.352941  17.647059\n",
       "Trinadad&Tobago              88.888889  11.111111\n",
       "United-States                74.567336  25.432664\n",
       "Vietnam                      92.187500   7.812500\n",
       "Yugoslavia                   62.500000  37.500000"
      ]
     },
     "execution_count": 97,
     "metadata": {},
     "output_type": "execute_result"
    }
   ],
   "source": [
    "pd.crosstab(data_preprocessed[\"native.country\"], data_preprocessed[\"income\"], normalize=\"index\") * 100"
   ]
  },
  {
   "cell_type": "markdown",
   "id": "fd6fed57-cb39-43eb-ab36-b0edac40df52",
   "metadata": {},
   "source": [
    "Approximately 91% of the data belongs to `United-States`, while the remaining ~9% is spread thinly across 40 other classes. Among them, 39 categories each represent less than ~0.8% of the data. This high sparsity makes the feature less meaningful for modeling and potentially introduces noise, especially given its high cardinality. Even if the feature carries some signal, the resulting model would likely be fragile and sensitive to slight shifts in the data. Also, combining these classes is not a valid option, as it would be difficult to establish meaningful relationships without introducing artificial patterns. Therefore, this feature will be removed."
   ]
  },
  {
   "cell_type": "code",
   "execution_count": 99,
   "id": "a430a47b-11e8-43ae-8229-aaff6d147bc0",
   "metadata": {},
   "outputs": [],
   "source": [
    "data_preprocessed = data_preprocessed.drop(columns=\"native.country\")"
   ]
  },
  {
   "cell_type": "code",
   "execution_count": 100,
   "id": "058878c4-0e38-4e28-8cbf-acca41356a87",
   "metadata": {},
   "outputs": [
    {
     "data": {
      "text/html": [
       "<div>\n",
       "<style scoped>\n",
       "    .dataframe tbody tr th:only-of-type {\n",
       "        vertical-align: middle;\n",
       "    }\n",
       "\n",
       "    .dataframe tbody tr th {\n",
       "        vertical-align: top;\n",
       "    }\n",
       "\n",
       "    .dataframe thead th {\n",
       "        text-align: right;\n",
       "    }\n",
       "</style>\n",
       "<table border=\"1\" class=\"dataframe\">\n",
       "  <thead>\n",
       "    <tr style=\"text-align: right;\">\n",
       "      <th></th>\n",
       "      <th>age</th>\n",
       "      <th>workclass</th>\n",
       "      <th>education</th>\n",
       "      <th>education.num</th>\n",
       "      <th>marital.status</th>\n",
       "      <th>occupation</th>\n",
       "      <th>race</th>\n",
       "      <th>sex</th>\n",
       "      <th>capital.gain</th>\n",
       "      <th>capital.loss</th>\n",
       "      <th>hours.per.week</th>\n",
       "      <th>income</th>\n",
       "    </tr>\n",
       "  </thead>\n",
       "  <tbody>\n",
       "    <tr>\n",
       "      <th>1</th>\n",
       "      <td>82</td>\n",
       "      <td>Private</td>\n",
       "      <td>HS-grad</td>\n",
       "      <td>9</td>\n",
       "      <td>Divorced/Widowed</td>\n",
       "      <td>Exec-managerial</td>\n",
       "      <td>White</td>\n",
       "      <td>Female</td>\n",
       "      <td>0</td>\n",
       "      <td>4356</td>\n",
       "      <td>18</td>\n",
       "      <td>&lt;=50K</td>\n",
       "    </tr>\n",
       "    <tr>\n",
       "      <th>3</th>\n",
       "      <td>54</td>\n",
       "      <td>Private</td>\n",
       "      <td>Other</td>\n",
       "      <td>4</td>\n",
       "      <td>Divorced/Widowed</td>\n",
       "      <td>Machine-op-inspct</td>\n",
       "      <td>White</td>\n",
       "      <td>Female</td>\n",
       "      <td>0</td>\n",
       "      <td>3900</td>\n",
       "      <td>40</td>\n",
       "      <td>&lt;=50K</td>\n",
       "    </tr>\n",
       "    <tr>\n",
       "      <th>4</th>\n",
       "      <td>41</td>\n",
       "      <td>Private</td>\n",
       "      <td>Undergrad/Associate</td>\n",
       "      <td>10</td>\n",
       "      <td>Divorced/Widowed</td>\n",
       "      <td>Prof-specialty</td>\n",
       "      <td>White</td>\n",
       "      <td>Female</td>\n",
       "      <td>0</td>\n",
       "      <td>3900</td>\n",
       "      <td>40</td>\n",
       "      <td>&lt;=50K</td>\n",
       "    </tr>\n",
       "    <tr>\n",
       "      <th>5</th>\n",
       "      <td>34</td>\n",
       "      <td>Private</td>\n",
       "      <td>HS-grad</td>\n",
       "      <td>9</td>\n",
       "      <td>Divorced/Widowed</td>\n",
       "      <td>Other-service</td>\n",
       "      <td>White</td>\n",
       "      <td>Female</td>\n",
       "      <td>0</td>\n",
       "      <td>3770</td>\n",
       "      <td>45</td>\n",
       "      <td>&lt;=50K</td>\n",
       "    </tr>\n",
       "    <tr>\n",
       "      <th>6</th>\n",
       "      <td>38</td>\n",
       "      <td>Private</td>\n",
       "      <td>Other</td>\n",
       "      <td>6</td>\n",
       "      <td>Divorced/Widowed</td>\n",
       "      <td>Adm-clerical</td>\n",
       "      <td>White</td>\n",
       "      <td>Male</td>\n",
       "      <td>0</td>\n",
       "      <td>3770</td>\n",
       "      <td>40</td>\n",
       "      <td>&lt;=50K</td>\n",
       "    </tr>\n",
       "  </tbody>\n",
       "</table>\n",
       "</div>"
      ],
      "text/plain": [
       "   age workclass            education  education.num    marital.status  \\\n",
       "1   82   Private              HS-grad              9  Divorced/Widowed   \n",
       "3   54   Private                Other              4  Divorced/Widowed   \n",
       "4   41   Private  Undergrad/Associate             10  Divorced/Widowed   \n",
       "5   34   Private              HS-grad              9  Divorced/Widowed   \n",
       "6   38   Private                Other              6  Divorced/Widowed   \n",
       "\n",
       "          occupation   race     sex  capital.gain  capital.loss  \\\n",
       "1    Exec-managerial  White  Female             0          4356   \n",
       "3  Machine-op-inspct  White  Female             0          3900   \n",
       "4     Prof-specialty  White  Female             0          3900   \n",
       "5      Other-service  White  Female             0          3770   \n",
       "6       Adm-clerical  White    Male             0          3770   \n",
       "\n",
       "   hours.per.week income  \n",
       "1              18  <=50K  \n",
       "3              40  <=50K  \n",
       "4              40  <=50K  \n",
       "5              45  <=50K  \n",
       "6              40  <=50K  "
      ]
     },
     "execution_count": 100,
     "metadata": {},
     "output_type": "execute_result"
    }
   ],
   "source": [
    "data_preprocessed.head()"
   ]
  },
  {
   "cell_type": "markdown",
   "id": "5f8eb038-9997-4f9c-8f94-55cdf17e42e8",
   "metadata": {},
   "source": [
    "---\n",
    "Next are the numerical features."
   ]
  },
  {
   "cell_type": "code",
   "execution_count": 102,
   "id": "d668afd0-e1ff-4a3e-956a-e8335a622f4c",
   "metadata": {},
   "outputs": [
    {
     "data": {
      "text/html": [
       "<div>\n",
       "<style scoped>\n",
       "    .dataframe tbody tr th:only-of-type {\n",
       "        vertical-align: middle;\n",
       "    }\n",
       "\n",
       "    .dataframe tbody tr th {\n",
       "        vertical-align: top;\n",
       "    }\n",
       "\n",
       "    .dataframe thead th {\n",
       "        text-align: right;\n",
       "    }\n",
       "</style>\n",
       "<table border=\"1\" class=\"dataframe\">\n",
       "  <thead>\n",
       "    <tr style=\"text-align: right;\">\n",
       "      <th></th>\n",
       "      <th>age</th>\n",
       "      <th>education.num</th>\n",
       "      <th>capital.gain</th>\n",
       "      <th>capital.loss</th>\n",
       "      <th>hours.per.week</th>\n",
       "    </tr>\n",
       "  </thead>\n",
       "  <tbody>\n",
       "    <tr>\n",
       "      <th>age</th>\n",
       "      <td>1.000000</td>\n",
       "      <td>0.043526</td>\n",
       "      <td>0.080154</td>\n",
       "      <td>0.060165</td>\n",
       "      <td>0.101599</td>\n",
       "    </tr>\n",
       "    <tr>\n",
       "      <th>education.num</th>\n",
       "      <td>0.043526</td>\n",
       "      <td>1.000000</td>\n",
       "      <td>0.124416</td>\n",
       "      <td>0.079646</td>\n",
       "      <td>0.152522</td>\n",
       "    </tr>\n",
       "    <tr>\n",
       "      <th>capital.gain</th>\n",
       "      <td>0.080154</td>\n",
       "      <td>0.124416</td>\n",
       "      <td>1.000000</td>\n",
       "      <td>-0.032229</td>\n",
       "      <td>0.080432</td>\n",
       "    </tr>\n",
       "    <tr>\n",
       "      <th>capital.loss</th>\n",
       "      <td>0.060165</td>\n",
       "      <td>0.079646</td>\n",
       "      <td>-0.032229</td>\n",
       "      <td>1.000000</td>\n",
       "      <td>0.052417</td>\n",
       "    </tr>\n",
       "    <tr>\n",
       "      <th>hours.per.week</th>\n",
       "      <td>0.101599</td>\n",
       "      <td>0.152522</td>\n",
       "      <td>0.080432</td>\n",
       "      <td>0.052417</td>\n",
       "      <td>1.000000</td>\n",
       "    </tr>\n",
       "  </tbody>\n",
       "</table>\n",
       "</div>"
      ],
      "text/plain": [
       "                     age  education.num  capital.gain  capital.loss  \\\n",
       "age             1.000000       0.043526      0.080154      0.060165   \n",
       "education.num   0.043526       1.000000      0.124416      0.079646   \n",
       "capital.gain    0.080154       0.124416      1.000000     -0.032229   \n",
       "capital.loss    0.060165       0.079646     -0.032229      1.000000   \n",
       "hours.per.week  0.101599       0.152522      0.080432      0.052417   \n",
       "\n",
       "                hours.per.week  \n",
       "age                   0.101599  \n",
       "education.num         0.152522  \n",
       "capital.gain          0.080432  \n",
       "capital.loss          0.052417  \n",
       "hours.per.week        1.000000  "
      ]
     },
     "execution_count": 102,
     "metadata": {},
     "output_type": "execute_result"
    }
   ],
   "source": [
    "data_preprocessed.corr(numeric_only=True)"
   ]
  },
  {
   "cell_type": "code",
   "execution_count": 103,
   "id": "66db68fb-e550-4192-b357-3073742fe251",
   "metadata": {},
   "outputs": [
    {
     "data": {
      "text/html": [
       "<div>\n",
       "<style scoped>\n",
       "    .dataframe tbody tr th:only-of-type {\n",
       "        vertical-align: middle;\n",
       "    }\n",
       "\n",
       "    .dataframe tbody tr th {\n",
       "        vertical-align: top;\n",
       "    }\n",
       "\n",
       "    .dataframe thead th {\n",
       "        text-align: right;\n",
       "    }\n",
       "</style>\n",
       "<table border=\"1\" class=\"dataframe\">\n",
       "  <thead>\n",
       "    <tr style=\"text-align: right;\">\n",
       "      <th></th>\n",
       "      <th>age</th>\n",
       "      <th>education.num</th>\n",
       "      <th>capital.gain</th>\n",
       "      <th>capital.loss</th>\n",
       "      <th>hours.per.week</th>\n",
       "    </tr>\n",
       "  </thead>\n",
       "  <tbody>\n",
       "    <tr>\n",
       "      <th>count</th>\n",
       "      <td>30162.000000</td>\n",
       "      <td>30162.000000</td>\n",
       "      <td>30162.000000</td>\n",
       "      <td>30162.000000</td>\n",
       "      <td>30162.000000</td>\n",
       "    </tr>\n",
       "    <tr>\n",
       "      <th>mean</th>\n",
       "      <td>38.437902</td>\n",
       "      <td>10.121312</td>\n",
       "      <td>1092.007858</td>\n",
       "      <td>88.372489</td>\n",
       "      <td>40.931238</td>\n",
       "    </tr>\n",
       "    <tr>\n",
       "      <th>std</th>\n",
       "      <td>13.134665</td>\n",
       "      <td>2.549995</td>\n",
       "      <td>7406.346497</td>\n",
       "      <td>404.298370</td>\n",
       "      <td>11.979984</td>\n",
       "    </tr>\n",
       "    <tr>\n",
       "      <th>min</th>\n",
       "      <td>17.000000</td>\n",
       "      <td>1.000000</td>\n",
       "      <td>0.000000</td>\n",
       "      <td>0.000000</td>\n",
       "      <td>1.000000</td>\n",
       "    </tr>\n",
       "    <tr>\n",
       "      <th>25%</th>\n",
       "      <td>28.000000</td>\n",
       "      <td>9.000000</td>\n",
       "      <td>0.000000</td>\n",
       "      <td>0.000000</td>\n",
       "      <td>40.000000</td>\n",
       "    </tr>\n",
       "    <tr>\n",
       "      <th>50%</th>\n",
       "      <td>37.000000</td>\n",
       "      <td>10.000000</td>\n",
       "      <td>0.000000</td>\n",
       "      <td>0.000000</td>\n",
       "      <td>40.000000</td>\n",
       "    </tr>\n",
       "    <tr>\n",
       "      <th>75%</th>\n",
       "      <td>47.000000</td>\n",
       "      <td>13.000000</td>\n",
       "      <td>0.000000</td>\n",
       "      <td>0.000000</td>\n",
       "      <td>45.000000</td>\n",
       "    </tr>\n",
       "    <tr>\n",
       "      <th>max</th>\n",
       "      <td>90.000000</td>\n",
       "      <td>16.000000</td>\n",
       "      <td>99999.000000</td>\n",
       "      <td>4356.000000</td>\n",
       "      <td>99.000000</td>\n",
       "    </tr>\n",
       "  </tbody>\n",
       "</table>\n",
       "</div>"
      ],
      "text/plain": [
       "                age  education.num  capital.gain  capital.loss  hours.per.week\n",
       "count  30162.000000   30162.000000  30162.000000  30162.000000    30162.000000\n",
       "mean      38.437902      10.121312   1092.007858     88.372489       40.931238\n",
       "std       13.134665       2.549995   7406.346497    404.298370       11.979984\n",
       "min       17.000000       1.000000      0.000000      0.000000        1.000000\n",
       "25%       28.000000       9.000000      0.000000      0.000000       40.000000\n",
       "50%       37.000000      10.000000      0.000000      0.000000       40.000000\n",
       "75%       47.000000      13.000000      0.000000      0.000000       45.000000\n",
       "max       90.000000      16.000000  99999.000000   4356.000000       99.000000"
      ]
     },
     "execution_count": 103,
     "metadata": {},
     "output_type": "execute_result"
    }
   ],
   "source": [
    "data_preprocessed.describe()"
   ]
  },
  {
   "cell_type": "markdown",
   "id": "3d80b212-4732-4da8-ad0d-be241b285c92",
   "metadata": {},
   "source": [
    "First are `age` and `hours.per.week`."
   ]
  },
  {
   "cell_type": "code",
   "execution_count": 105,
   "id": "4d44fb21-0e70-4769-82ed-bb6997f7bce6",
   "metadata": {},
   "outputs": [
    {
     "data": {
      "image/png": "[encoded data removed]",
      "text/plain": [
       "<Figure size 640x480 with 1 Axes>"
      ]
     },
     "metadata": {},
     "output_type": "display_data"
    }
   ],
   "source": [
    "sns.violinplot(data_preprocessed, x=\"age\")\n",
    "plt.show()"
   ]
  },
  {
   "cell_type": "code",
   "execution_count": 106,
   "id": "05766c97-62ec-4e1f-89d1-fd839211721f",
   "metadata": {},
   "outputs": [
    {
     "data": {
      "text/plain": [
       "age               384\n",
       "workclass         384\n",
       "education         384\n",
       "education.num     384\n",
       "marital.status    384\n",
       "occupation        384\n",
       "race              384\n",
       "sex               384\n",
       "capital.gain      384\n",
       "capital.loss      384\n",
       "hours.per.week    384\n",
       "income            384\n",
       "dtype: int64"
      ]
     },
     "execution_count": 106,
     "metadata": {},
     "output_type": "execute_result"
    }
   ],
   "source": [
    "data_preprocessed[data_preprocessed[\"age\"] > 70].count()"
   ]
  },
  {
   "cell_type": "code",
   "execution_count": 107,
   "id": "035cd479-dac7-41c6-8541-bbd658d15d7a",
   "metadata": {},
   "outputs": [
    {
     "data": {
      "image/png": "[encoded data removed]",
      "text/plain": [
       "<Figure size 640x480 with 1 Axes>"
      ]
     },
     "metadata": {},
     "output_type": "display_data"
    }
   ],
   "source": [
    "sns.violinplot(data_preprocessed, x=\"hours.per.week\")\n",
    "plt.show()"
   ]
  },
  {
   "cell_type": "code",
   "execution_count": 108,
   "id": "5cd7f117-de2a-45de-8d62-052844b80ab4",
   "metadata": {},
   "outputs": [
    {
     "data": {
      "text/plain": [
       "age               103\n",
       "workclass         103\n",
       "education         103\n",
       "education.num     103\n",
       "marital.status    103\n",
       "occupation        103\n",
       "race              103\n",
       "sex               103\n",
       "capital.gain      103\n",
       "capital.loss      103\n",
       "hours.per.week    103\n",
       "income            103\n",
       "dtype: int64"
      ]
     },
     "execution_count": 108,
     "metadata": {},
     "output_type": "execute_result"
    }
   ],
   "source": [
    "data_preprocessed[data_preprocessed[\"hours.per.week\"] > 90].count()"
   ]
  },
  {
   "cell_type": "markdown",
   "id": "d29188f9-f1bf-460d-85e1-1fae8d10863f",
   "metadata": {},
   "source": [
    "Since they have rare outliers, they will be retained. They are unlikely to affect the stability of the model and may represent actual individuals. Therefore, removing or capping these values would likely have minimal impact on model performance."
   ]
  },
  {
   "cell_type": "markdown",
   "id": "4a234e66-1955-4e6c-8db2-f4c64eeaf4de",
   "metadata": {},
   "source": [
    "Next is `education.num`. "
   ]
  },
  {
   "cell_type": "code",
   "execution_count": 111,
   "id": "b6f755b8-b1f6-4634-8a64-fd5d74563d56",
   "metadata": {},
   "outputs": [
    {
     "data": {
      "text/html": [
       "<div>\n",
       "<style scoped>\n",
       "    .dataframe tbody tr th:only-of-type {\n",
       "        vertical-align: middle;\n",
       "    }\n",
       "\n",
       "    .dataframe tbody tr th {\n",
       "        vertical-align: top;\n",
       "    }\n",
       "\n",
       "    .dataframe thead th {\n",
       "        text-align: right;\n",
       "    }\n",
       "</style>\n",
       "<table border=\"1\" class=\"dataframe\">\n",
       "  <thead>\n",
       "    <tr style=\"text-align: right;\">\n",
       "      <th>education</th>\n",
       "      <th>Bacheloars/Masters</th>\n",
       "      <th>HS-grad</th>\n",
       "      <th>Other</th>\n",
       "      <th>Prof-school/Doctorate</th>\n",
       "      <th>Undergrad/Associate</th>\n",
       "    </tr>\n",
       "    <tr>\n",
       "      <th>education.num</th>\n",
       "      <th></th>\n",
       "      <th></th>\n",
       "      <th></th>\n",
       "      <th></th>\n",
       "      <th></th>\n",
       "    </tr>\n",
       "  </thead>\n",
       "  <tbody>\n",
       "    <tr>\n",
       "      <th>1</th>\n",
       "      <td>0</td>\n",
       "      <td>0</td>\n",
       "      <td>45</td>\n",
       "      <td>0</td>\n",
       "      <td>0</td>\n",
       "    </tr>\n",
       "    <tr>\n",
       "      <th>2</th>\n",
       "      <td>0</td>\n",
       "      <td>0</td>\n",
       "      <td>151</td>\n",
       "      <td>0</td>\n",
       "      <td>0</td>\n",
       "    </tr>\n",
       "    <tr>\n",
       "      <th>3</th>\n",
       "      <td>0</td>\n",
       "      <td>0</td>\n",
       "      <td>288</td>\n",
       "      <td>0</td>\n",
       "      <td>0</td>\n",
       "    </tr>\n",
       "    <tr>\n",
       "      <th>4</th>\n",
       "      <td>0</td>\n",
       "      <td>0</td>\n",
       "      <td>557</td>\n",
       "      <td>0</td>\n",
       "      <td>0</td>\n",
       "    </tr>\n",
       "    <tr>\n",
       "      <th>5</th>\n",
       "      <td>0</td>\n",
       "      <td>0</td>\n",
       "      <td>455</td>\n",
       "      <td>0</td>\n",
       "      <td>0</td>\n",
       "    </tr>\n",
       "    <tr>\n",
       "      <th>6</th>\n",
       "      <td>0</td>\n",
       "      <td>0</td>\n",
       "      <td>820</td>\n",
       "      <td>0</td>\n",
       "      <td>0</td>\n",
       "    </tr>\n",
       "    <tr>\n",
       "      <th>7</th>\n",
       "      <td>0</td>\n",
       "      <td>0</td>\n",
       "      <td>1048</td>\n",
       "      <td>0</td>\n",
       "      <td>0</td>\n",
       "    </tr>\n",
       "    <tr>\n",
       "      <th>8</th>\n",
       "      <td>0</td>\n",
       "      <td>0</td>\n",
       "      <td>377</td>\n",
       "      <td>0</td>\n",
       "      <td>0</td>\n",
       "    </tr>\n",
       "    <tr>\n",
       "      <th>9</th>\n",
       "      <td>0</td>\n",
       "      <td>9840</td>\n",
       "      <td>0</td>\n",
       "      <td>0</td>\n",
       "      <td>0</td>\n",
       "    </tr>\n",
       "    <tr>\n",
       "      <th>10</th>\n",
       "      <td>0</td>\n",
       "      <td>0</td>\n",
       "      <td>0</td>\n",
       "      <td>0</td>\n",
       "      <td>6678</td>\n",
       "    </tr>\n",
       "    <tr>\n",
       "      <th>11</th>\n",
       "      <td>0</td>\n",
       "      <td>0</td>\n",
       "      <td>0</td>\n",
       "      <td>0</td>\n",
       "      <td>1307</td>\n",
       "    </tr>\n",
       "    <tr>\n",
       "      <th>12</th>\n",
       "      <td>0</td>\n",
       "      <td>0</td>\n",
       "      <td>0</td>\n",
       "      <td>0</td>\n",
       "      <td>1008</td>\n",
       "    </tr>\n",
       "    <tr>\n",
       "      <th>13</th>\n",
       "      <td>5044</td>\n",
       "      <td>0</td>\n",
       "      <td>0</td>\n",
       "      <td>0</td>\n",
       "      <td>0</td>\n",
       "    </tr>\n",
       "    <tr>\n",
       "      <th>14</th>\n",
       "      <td>1627</td>\n",
       "      <td>0</td>\n",
       "      <td>0</td>\n",
       "      <td>0</td>\n",
       "      <td>0</td>\n",
       "    </tr>\n",
       "    <tr>\n",
       "      <th>15</th>\n",
       "      <td>0</td>\n",
       "      <td>0</td>\n",
       "      <td>0</td>\n",
       "      <td>542</td>\n",
       "      <td>0</td>\n",
       "    </tr>\n",
       "    <tr>\n",
       "      <th>16</th>\n",
       "      <td>0</td>\n",
       "      <td>0</td>\n",
       "      <td>0</td>\n",
       "      <td>375</td>\n",
       "      <td>0</td>\n",
       "    </tr>\n",
       "  </tbody>\n",
       "</table>\n",
       "</div>"
      ],
      "text/plain": [
       "education      Bacheloars/Masters  HS-grad  Other  Prof-school/Doctorate  \\\n",
       "education.num                                                              \n",
       "1                               0        0     45                      0   \n",
       "2                               0        0    151                      0   \n",
       "3                               0        0    288                      0   \n",
       "4                               0        0    557                      0   \n",
       "5                               0        0    455                      0   \n",
       "6                               0        0    820                      0   \n",
       "7                               0        0   1048                      0   \n",
       "8                               0        0    377                      0   \n",
       "9                               0     9840      0                      0   \n",
       "10                              0        0      0                      0   \n",
       "11                              0        0      0                      0   \n",
       "12                              0        0      0                      0   \n",
       "13                           5044        0      0                      0   \n",
       "14                           1627        0      0                      0   \n",
       "15                              0        0      0                    542   \n",
       "16                              0        0      0                    375   \n",
       "\n",
       "education      Undergrad/Associate  \n",
       "education.num                       \n",
       "1                                0  \n",
       "2                                0  \n",
       "3                                0  \n",
       "4                                0  \n",
       "5                                0  \n",
       "6                                0  \n",
       "7                                0  \n",
       "8                                0  \n",
       "9                                0  \n",
       "10                            6678  \n",
       "11                            1307  \n",
       "12                            1008  \n",
       "13                               0  \n",
       "14                               0  \n",
       "15                               0  \n",
       "16                               0  "
      ]
     },
     "execution_count": 111,
     "metadata": {},
     "output_type": "execute_result"
    }
   ],
   "source": [
    "pd.crosstab(data_preprocessed[\"education.num\"], data_preprocessed[\"education\"])"
   ]
  },
  {
   "cell_type": "markdown",
   "id": "0ed57ee9-0832-40c5-9f73-260321d0c67c",
   "metadata": {},
   "source": [
    "This feature will be dropped for the following reasons\n",
    "- It does not provide unique information that the model can meaningfully utilize; its interpretation is limited to representing the numeric encoding of education levels.\n",
    "- It is ambiguous in meaning and in distinction compared to `education`.\n",
    "- It is redundant with the `education` feature, as both convey the same information.\n",
    "-  It shows a hierarchical relationship with the classes of `education`, which may introduce collinearity into the model."
   ]
  },
  {
   "cell_type": "code",
   "execution_count": 113,
   "id": "6b4222b7-2cc6-4c13-a7b4-beb0eeb7b431",
   "metadata": {},
   "outputs": [],
   "source": [
    "data_preprocessed = data_preprocessed.drop(columns=\"education.num\")"
   ]
  },
  {
   "cell_type": "code",
   "execution_count": 114,
   "id": "b0daa04f-32d5-40ca-ab15-2316102699b3",
   "metadata": {},
   "outputs": [
    {
     "data": {
      "text/html": [
       "<div>\n",
       "<style scoped>\n",
       "    .dataframe tbody tr th:only-of-type {\n",
       "        vertical-align: middle;\n",
       "    }\n",
       "\n",
       "    .dataframe tbody tr th {\n",
       "        vertical-align: top;\n",
       "    }\n",
       "\n",
       "    .dataframe thead th {\n",
       "        text-align: right;\n",
       "    }\n",
       "</style>\n",
       "<table border=\"1\" class=\"dataframe\">\n",
       "  <thead>\n",
       "    <tr style=\"text-align: right;\">\n",
       "      <th></th>\n",
       "      <th>age</th>\n",
       "      <th>workclass</th>\n",
       "      <th>education</th>\n",
       "      <th>marital.status</th>\n",
       "      <th>occupation</th>\n",
       "      <th>race</th>\n",
       "      <th>sex</th>\n",
       "      <th>capital.gain</th>\n",
       "      <th>capital.loss</th>\n",
       "      <th>hours.per.week</th>\n",
       "      <th>income</th>\n",
       "    </tr>\n",
       "  </thead>\n",
       "  <tbody>\n",
       "    <tr>\n",
       "      <th>1</th>\n",
       "      <td>82</td>\n",
       "      <td>Private</td>\n",
       "      <td>HS-grad</td>\n",
       "      <td>Divorced/Widowed</td>\n",
       "      <td>Exec-managerial</td>\n",
       "      <td>White</td>\n",
       "      <td>Female</td>\n",
       "      <td>0</td>\n",
       "      <td>4356</td>\n",
       "      <td>18</td>\n",
       "      <td>&lt;=50K</td>\n",
       "    </tr>\n",
       "    <tr>\n",
       "      <th>3</th>\n",
       "      <td>54</td>\n",
       "      <td>Private</td>\n",
       "      <td>Other</td>\n",
       "      <td>Divorced/Widowed</td>\n",
       "      <td>Machine-op-inspct</td>\n",
       "      <td>White</td>\n",
       "      <td>Female</td>\n",
       "      <td>0</td>\n",
       "      <td>3900</td>\n",
       "      <td>40</td>\n",
       "      <td>&lt;=50K</td>\n",
       "    </tr>\n",
       "    <tr>\n",
       "      <th>4</th>\n",
       "      <td>41</td>\n",
       "      <td>Private</td>\n",
       "      <td>Undergrad/Associate</td>\n",
       "      <td>Divorced/Widowed</td>\n",
       "      <td>Prof-specialty</td>\n",
       "      <td>White</td>\n",
       "      <td>Female</td>\n",
       "      <td>0</td>\n",
       "      <td>3900</td>\n",
       "      <td>40</td>\n",
       "      <td>&lt;=50K</td>\n",
       "    </tr>\n",
       "    <tr>\n",
       "      <th>5</th>\n",
       "      <td>34</td>\n",
       "      <td>Private</td>\n",
       "      <td>HS-grad</td>\n",
       "      <td>Divorced/Widowed</td>\n",
       "      <td>Other-service</td>\n",
       "      <td>White</td>\n",
       "      <td>Female</td>\n",
       "      <td>0</td>\n",
       "      <td>3770</td>\n",
       "      <td>45</td>\n",
       "      <td>&lt;=50K</td>\n",
       "    </tr>\n",
       "    <tr>\n",
       "      <th>6</th>\n",
       "      <td>38</td>\n",
       "      <td>Private</td>\n",
       "      <td>Other</td>\n",
       "      <td>Divorced/Widowed</td>\n",
       "      <td>Adm-clerical</td>\n",
       "      <td>White</td>\n",
       "      <td>Male</td>\n",
       "      <td>0</td>\n",
       "      <td>3770</td>\n",
       "      <td>40</td>\n",
       "      <td>&lt;=50K</td>\n",
       "    </tr>\n",
       "  </tbody>\n",
       "</table>\n",
       "</div>"
      ],
      "text/plain": [
       "   age workclass            education    marital.status         occupation  \\\n",
       "1   82   Private              HS-grad  Divorced/Widowed    Exec-managerial   \n",
       "3   54   Private                Other  Divorced/Widowed  Machine-op-inspct   \n",
       "4   41   Private  Undergrad/Associate  Divorced/Widowed     Prof-specialty   \n",
       "5   34   Private              HS-grad  Divorced/Widowed      Other-service   \n",
       "6   38   Private                Other  Divorced/Widowed       Adm-clerical   \n",
       "\n",
       "    race     sex  capital.gain  capital.loss  hours.per.week income  \n",
       "1  White  Female             0          4356              18  <=50K  \n",
       "3  White  Female             0          3900              40  <=50K  \n",
       "4  White  Female             0          3900              40  <=50K  \n",
       "5  White  Female             0          3770              45  <=50K  \n",
       "6  White    Male             0          3770              40  <=50K  "
      ]
     },
     "execution_count": 114,
     "metadata": {},
     "output_type": "execute_result"
    }
   ],
   "source": [
    "data_preprocessed.head()"
   ]
  },
  {
   "cell_type": "markdown",
   "id": "3e552e42-bbf4-4de6-be98-5225afa52df4",
   "metadata": {},
   "source": [
    "Now, `capital.gain` and `capital.loss`."
   ]
  },
  {
   "cell_type": "code",
   "execution_count": 116,
   "id": "55ec2151-5aa1-4c12-8ecd-639aa25192d1",
   "metadata": {},
   "outputs": [
    {
     "data": {
      "text/plain": [
       "2512"
      ]
     },
     "execution_count": 116,
     "metadata": {},
     "output_type": "execute_result"
    }
   ],
   "source": [
    "data_preprocessed[(data_preprocessed[\"capital.gain\"] > 0)].value_counts().size"
   ]
  },
  {
   "cell_type": "code",
   "execution_count": 117,
   "id": "4ed58207-b790-41fb-a35d-309a6b3cc0b9",
   "metadata": {},
   "outputs": [
    {
     "data": {
      "text/plain": [
       "1415"
      ]
     },
     "execution_count": 117,
     "metadata": {},
     "output_type": "execute_result"
    }
   ],
   "source": [
    "data_preprocessed[(data_preprocessed[\"capital.loss\"] > 0)].value_counts().size"
   ]
  },
  {
   "cell_type": "markdown",
   "id": "94eac227-7620-4caa-b06b-b08215ac4134",
   "metadata": {},
   "source": [
    "Although those who have any capital gain or loss are rare, a new feature will be created, named `Net_capital_gain`, which follows the formula:\n",
    "$$\n",
    "\\text{Net capital gain} = \\text{capital gain} - \\text{capital loss}\n",
    "$$\n",
    "After that, more analysis will be done to assess its impact and predictive potential."
   ]
  },
  {
   "cell_type": "code",
   "execution_count": 119,
   "id": "6f87d383-bc2e-457f-a930-866e658d127e",
   "metadata": {},
   "outputs": [],
   "source": [
    "data_preprocessed = data_preprocessed.rename(columns={\"capital.gain\":\"Net_Capital_Gain\"})"
   ]
  },
  {
   "cell_type": "code",
   "execution_count": 120,
   "id": "f178b2be-dea2-4ed9-a9d2-7255bc5d2028",
   "metadata": {},
   "outputs": [],
   "source": [
    "data_preprocessed[\"Net_Capital_Gain\"] = data_preprocessed[\"Net_Capital_Gain\"] - data_preprocessed[\"capital.loss\"]"
   ]
  },
  {
   "cell_type": "code",
   "execution_count": 121,
   "id": "707ecf1e-fa00-4813-bcce-692d30c96a4e",
   "metadata": {},
   "outputs": [],
   "source": [
    "data_preprocessed = data_preprocessed.drop(columns=\"capital.loss\")"
   ]
  },
  {
   "cell_type": "code",
   "execution_count": 122,
   "id": "f5543ad8-ef63-4a0a-8da3-878d367f1432",
   "metadata": {},
   "outputs": [
    {
     "data": {
      "text/html": [
       "<div>\n",
       "<style scoped>\n",
       "    .dataframe tbody tr th:only-of-type {\n",
       "        vertical-align: middle;\n",
       "    }\n",
       "\n",
       "    .dataframe tbody tr th {\n",
       "        vertical-align: top;\n",
       "    }\n",
       "\n",
       "    .dataframe thead th {\n",
       "        text-align: right;\n",
       "    }\n",
       "</style>\n",
       "<table border=\"1\" class=\"dataframe\">\n",
       "  <thead>\n",
       "    <tr style=\"text-align: right;\">\n",
       "      <th></th>\n",
       "      <th>count</th>\n",
       "      <th>mean</th>\n",
       "      <th>std</th>\n",
       "      <th>min</th>\n",
       "      <th>25%</th>\n",
       "      <th>50%</th>\n",
       "      <th>75%</th>\n",
       "      <th>max</th>\n",
       "    </tr>\n",
       "    <tr>\n",
       "      <th>income</th>\n",
       "      <th></th>\n",
       "      <th></th>\n",
       "      <th></th>\n",
       "      <th></th>\n",
       "      <th></th>\n",
       "      <th></th>\n",
       "      <th></th>\n",
       "      <th></th>\n",
       "    </tr>\n",
       "  </thead>\n",
       "  <tbody>\n",
       "    <tr>\n",
       "      <th>&lt;=50K</th>\n",
       "      <td>22654.0</td>\n",
       "      <td>95.445837</td>\n",
       "      <td>994.492331</td>\n",
       "      <td>-4356.0</td>\n",
       "      <td>0.0</td>\n",
       "      <td>0.0</td>\n",
       "      <td>0.0</td>\n",
       "      <td>41310.0</td>\n",
       "    </tr>\n",
       "    <tr>\n",
       "      <th>&gt;50K</th>\n",
       "      <td>7508.0</td>\n",
       "      <td>3743.929142</td>\n",
       "      <td>14451.166890</td>\n",
       "      <td>-3683.0</td>\n",
       "      <td>0.0</td>\n",
       "      <td>0.0</td>\n",
       "      <td>0.0</td>\n",
       "      <td>99999.0</td>\n",
       "    </tr>\n",
       "  </tbody>\n",
       "</table>\n",
       "</div>"
      ],
      "text/plain": [
       "          count         mean           std     min  25%  50%  75%      max\n",
       "income                                                                    \n",
       "<=50K   22654.0    95.445837    994.492331 -4356.0  0.0  0.0  0.0  41310.0\n",
       ">50K     7508.0  3743.929142  14451.166890 -3683.0  0.0  0.0  0.0  99999.0"
      ]
     },
     "execution_count": 122,
     "metadata": {},
     "output_type": "execute_result"
    }
   ],
   "source": [
    "data_preprocessed.groupby('income')['Net_Capital_Gain'].describe()"
   ]
  },
  {
   "cell_type": "code",
   "execution_count": 123,
   "id": "e335f571-6a11-4dbb-8d3d-4e3f1152b954",
   "metadata": {},
   "outputs": [
    {
     "data": {
      "text/plain": [
       "146"
      ]
     },
     "execution_count": 123,
     "metadata": {},
     "output_type": "execute_result"
    }
   ],
   "source": [
    "data_preprocessed[(data_preprocessed[\"Net_Capital_Gain\"] > 90000)].value_counts().size"
   ]
  },
  {
   "cell_type": "markdown",
   "id": "1f77bdb0-08ac-42b0-a0fa-1319e7351668",
   "metadata": {},
   "source": [
    "Although individuals with capital gains and losses are rare, these two concepts are indicators of income. This new feature shows a predictive signal, as those with higher net capital gains are more likely to have an income >50K."
   ]
  },
  {
   "cell_type": "code",
   "execution_count": 125,
   "id": "8da25954-d0c2-420e-a6eb-b90f7af35a47",
   "metadata": {},
   "outputs": [
    {
     "data": {
      "text/html": [
       "<div>\n",
       "<style scoped>\n",
       "    .dataframe tbody tr th:only-of-type {\n",
       "        vertical-align: middle;\n",
       "    }\n",
       "\n",
       "    .dataframe tbody tr th {\n",
       "        vertical-align: top;\n",
       "    }\n",
       "\n",
       "    .dataframe thead th {\n",
       "        text-align: right;\n",
       "    }\n",
       "</style>\n",
       "<table border=\"1\" class=\"dataframe\">\n",
       "  <thead>\n",
       "    <tr style=\"text-align: right;\">\n",
       "      <th></th>\n",
       "      <th>age</th>\n",
       "      <th>workclass</th>\n",
       "      <th>education</th>\n",
       "      <th>marital.status</th>\n",
       "      <th>occupation</th>\n",
       "      <th>race</th>\n",
       "      <th>sex</th>\n",
       "      <th>Net_Capital_Gain</th>\n",
       "      <th>hours.per.week</th>\n",
       "      <th>income</th>\n",
       "    </tr>\n",
       "  </thead>\n",
       "  <tbody>\n",
       "    <tr>\n",
       "      <th>1</th>\n",
       "      <td>82</td>\n",
       "      <td>Private</td>\n",
       "      <td>HS-grad</td>\n",
       "      <td>Divorced/Widowed</td>\n",
       "      <td>Exec-managerial</td>\n",
       "      <td>White</td>\n",
       "      <td>Female</td>\n",
       "      <td>-4356</td>\n",
       "      <td>18</td>\n",
       "      <td>&lt;=50K</td>\n",
       "    </tr>\n",
       "    <tr>\n",
       "      <th>3</th>\n",
       "      <td>54</td>\n",
       "      <td>Private</td>\n",
       "      <td>Other</td>\n",
       "      <td>Divorced/Widowed</td>\n",
       "      <td>Machine-op-inspct</td>\n",
       "      <td>White</td>\n",
       "      <td>Female</td>\n",
       "      <td>-3900</td>\n",
       "      <td>40</td>\n",
       "      <td>&lt;=50K</td>\n",
       "    </tr>\n",
       "    <tr>\n",
       "      <th>4</th>\n",
       "      <td>41</td>\n",
       "      <td>Private</td>\n",
       "      <td>Undergrad/Associate</td>\n",
       "      <td>Divorced/Widowed</td>\n",
       "      <td>Prof-specialty</td>\n",
       "      <td>White</td>\n",
       "      <td>Female</td>\n",
       "      <td>-3900</td>\n",
       "      <td>40</td>\n",
       "      <td>&lt;=50K</td>\n",
       "    </tr>\n",
       "    <tr>\n",
       "      <th>5</th>\n",
       "      <td>34</td>\n",
       "      <td>Private</td>\n",
       "      <td>HS-grad</td>\n",
       "      <td>Divorced/Widowed</td>\n",
       "      <td>Other-service</td>\n",
       "      <td>White</td>\n",
       "      <td>Female</td>\n",
       "      <td>-3770</td>\n",
       "      <td>45</td>\n",
       "      <td>&lt;=50K</td>\n",
       "    </tr>\n",
       "    <tr>\n",
       "      <th>6</th>\n",
       "      <td>38</td>\n",
       "      <td>Private</td>\n",
       "      <td>Other</td>\n",
       "      <td>Divorced/Widowed</td>\n",
       "      <td>Adm-clerical</td>\n",
       "      <td>White</td>\n",
       "      <td>Male</td>\n",
       "      <td>-3770</td>\n",
       "      <td>40</td>\n",
       "      <td>&lt;=50K</td>\n",
       "    </tr>\n",
       "  </tbody>\n",
       "</table>\n",
       "</div>"
      ],
      "text/plain": [
       "   age workclass            education    marital.status         occupation  \\\n",
       "1   82   Private              HS-grad  Divorced/Widowed    Exec-managerial   \n",
       "3   54   Private                Other  Divorced/Widowed  Machine-op-inspct   \n",
       "4   41   Private  Undergrad/Associate  Divorced/Widowed     Prof-specialty   \n",
       "5   34   Private              HS-grad  Divorced/Widowed      Other-service   \n",
       "6   38   Private                Other  Divorced/Widowed       Adm-clerical   \n",
       "\n",
       "    race     sex  Net_Capital_Gain  hours.per.week income  \n",
       "1  White  Female             -4356              18  <=50K  \n",
       "3  White  Female             -3900              40  <=50K  \n",
       "4  White  Female             -3900              40  <=50K  \n",
       "5  White  Female             -3770              45  <=50K  \n",
       "6  White    Male             -3770              40  <=50K  "
      ]
     },
     "execution_count": 125,
     "metadata": {},
     "output_type": "execute_result"
    }
   ],
   "source": [
    "data_preprocessed.head()"
   ]
  },
  {
   "cell_type": "markdown",
   "id": "3621b2b9-e468-4803-b300-43cc9f31d297",
   "metadata": {},
   "source": [
    "Now, the features will be one-hot encoded."
   ]
  },
  {
   "cell_type": "code",
   "execution_count": 127,
   "id": "1342e966-cf80-4529-9de7-6f899dabde04",
   "metadata": {},
   "outputs": [],
   "source": [
    "columns = data_preprocessed.select_dtypes(include=\"object\").columns"
   ]
  },
  {
   "cell_type": "code",
   "execution_count": 128,
   "id": "017bd675-4bde-4766-a576-70991a79b39c",
   "metadata": {
    "scrolled": true
   },
   "outputs": [
    {
     "name": "stdout",
     "output_type": "stream",
     "text": [
      "workclass\n",
      "Private          22286\n",
      "Public            6802\n",
      "Self-employed     1074\n",
      "Name: count, dtype: int64\n",
      "education\n",
      "HS-grad                  9840\n",
      "Undergrad/Associate      8993\n",
      "Bacheloars/Masters       6671\n",
      "Other                    3741\n",
      "Prof-school/Doctorate     917\n",
      "Name: count, dtype: int64\n",
      "marital.status\n",
      "Married             14086\n",
      "Never-married        9726\n",
      "Divorced/Widowed     6350\n",
      "Name: count, dtype: int64\n",
      "occupation\n",
      "Prof-specialty       4038\n",
      "Craft-repair         4030\n",
      "Exec-managerial      3992\n",
      "Adm-clerical         3721\n",
      "Sales                3584\n",
      "Other-service        3364\n",
      "Machine-op-inspct    1966\n",
      "Transport-moving     1572\n",
      "Handlers-cleaners    1350\n",
      "Farming-fishing       989\n",
      "Tech-support          912\n",
      "Protective-serv       644\n",
      "Name: count, dtype: int64\n",
      "race\n",
      "White    25933\n",
      "Black     2817\n",
      "Other     1412\n",
      "Name: count, dtype: int64\n",
      "sex\n",
      "Male      20380\n",
      "Female     9782\n",
      "Name: count, dtype: int64\n",
      "income\n",
      "<=50K    22654\n",
      ">50K      7508\n",
      "Name: count, dtype: int64\n"
     ]
    }
   ],
   "source": [
    "for col in columns:\n",
    "    print(data_preprocessed[col].value_counts())"
   ]
  },
  {
   "cell_type": "code",
   "execution_count": 129,
   "id": "af2af259-7870-4040-9a93-346a3f9364cf",
   "metadata": {},
   "outputs": [],
   "source": [
    "data_preprocessed = pd.get_dummies(data_preprocessed, columns=[\"sex\",\"income\"], drop_first=True, dtype=\"float32\")"
   ]
  },
  {
   "cell_type": "code",
   "execution_count": 130,
   "id": "059a6900-641f-40df-919e-76df45b8ea66",
   "metadata": {},
   "outputs": [],
   "source": [
    "data_preprocessed = pd.get_dummies(data_preprocessed, columns=[\"workclass\",\"education\",\"marital.status\",\"occupation\",\"race\"], dtype=\"float32\")"
   ]
  },
  {
   "cell_type": "code",
   "execution_count": 131,
   "id": "77578b38-65a0-441e-ab5f-873ec89dd657",
   "metadata": {},
   "outputs": [
    {
     "data": {
      "text/plain": [
       "(30162, 31)"
      ]
     },
     "execution_count": 131,
     "metadata": {},
     "output_type": "execute_result"
    }
   ],
   "source": [
    "data_preprocessed.shape"
   ]
  },
  {
   "cell_type": "code",
   "execution_count": 132,
   "id": "da846825-2fb1-4993-8bd5-c404392daf9f",
   "metadata": {
    "scrolled": true
   },
   "outputs": [
    {
     "name": "stdout",
     "output_type": "stream",
     "text": [
      "<class 'pandas.core.frame.DataFrame'>\n",
      "Index: 30162 entries, 1 to 32560\n",
      "Data columns (total 31 columns):\n",
      " #   Column                           Non-Null Count  Dtype  \n",
      "---  ------                           --------------  -----  \n",
      " 0   age                              30162 non-null  int64  \n",
      " 1   Net_Capital_Gain                 30162 non-null  int64  \n",
      " 2   hours.per.week                   30162 non-null  int64  \n",
      " 3   sex_Male                         30162 non-null  float32\n",
      " 4   income_>50K                      30162 non-null  float32\n",
      " 5   workclass_Private                30162 non-null  float32\n",
      " 6   workclass_Public                 30162 non-null  float32\n",
      " 7   workclass_Self-employed          30162 non-null  float32\n",
      " 8   education_Bacheloars/Masters     30162 non-null  float32\n",
      " 9   education_HS-grad                30162 non-null  float32\n",
      " 10  education_Other                  30162 non-null  float32\n",
      " 11  education_Prof-school/Doctorate  30162 non-null  float32\n",
      " 12  education_Undergrad/Associate    30162 non-null  float32\n",
      " 13  marital.status_Divorced/Widowed  30162 non-null  float32\n",
      " 14  marital.status_Married           30162 non-null  float32\n",
      " 15  marital.status_Never-married     30162 non-null  float32\n",
      " 16  occupation_Adm-clerical          30162 non-null  float32\n",
      " 17  occupation_Craft-repair          30162 non-null  float32\n",
      " 18  occupation_Exec-managerial       30162 non-null  float32\n",
      " 19  occupation_Farming-fishing       30162 non-null  float32\n",
      " 20  occupation_Handlers-cleaners     30162 non-null  float32\n",
      " 21  occupation_Machine-op-inspct     30162 non-null  float32\n",
      " 22  occupation_Other-service         30162 non-null  float32\n",
      " 23  occupation_Prof-specialty        30162 non-null  float32\n",
      " 24  occupation_Protective-serv       30162 non-null  float32\n",
      " 25  occupation_Sales                 30162 non-null  float32\n",
      " 26  occupation_Tech-support          30162 non-null  float32\n",
      " 27  occupation_Transport-moving      30162 non-null  float32\n",
      " 28  race_Black                       30162 non-null  float32\n",
      " 29  race_Other                       30162 non-null  float32\n",
      " 30  race_White                       30162 non-null  float32\n",
      "dtypes: float32(28), int64(3)\n",
      "memory usage: 4.1 MB\n"
     ]
    }
   ],
   "source": [
    "data_preprocessed.info()"
   ]
  },
  {
   "cell_type": "markdown",
   "id": "748659f7-35a7-4c66-b16e-0397bbeb2736",
   "metadata": {
    "jp-MarkdownHeadingCollapsed": true
   },
   "source": [
    "##### **2.3.2 - Feature Engineering (data_full_encoding and data_robust)**"
   ]
  },
  {
   "cell_type": "markdown",
   "id": "c22612a7-f355-4f19-b5bd-e2ee1cfc5543",
   "metadata": {},
   "source": [
    "For data_full_encoding and data_robust, the columns `relationship`, `education.num`, and `native.country` will be retained to test how the original features perform compared to the engineered version in data_preprocessed. One-hot encoding will be applied to all categorical features in data_full_encoding."
   ]
  },
  {
   "cell_type": "code",
   "execution_count": 135,
   "id": "e10f720a-805c-43da-914b-f21f7be5aa81",
   "metadata": {},
   "outputs": [],
   "source": [
    "categorical_columns = data_full_encoding.select_dtypes(include=\"object\").columns\n",
    "categorical_columns = categorical_columns.drop([\"sex\",\"income\"])"
   ]
  },
  {
   "cell_type": "code",
   "execution_count": 136,
   "id": "00a03abd-05a9-437c-82db-de75432f81d3",
   "metadata": {},
   "outputs": [],
   "source": [
    "data_full_encoding = pd.get_dummies(data_full_encoding, columns=categorical_columns, drop_first=False, dtype=\"float32\")"
   ]
  },
  {
   "cell_type": "code",
   "execution_count": 137,
   "id": "9f9ad731-f93d-477e-9161-6dc23f413f94",
   "metadata": {},
   "outputs": [],
   "source": [
    "data_full_encoding = pd.get_dummies(data_full_encoding, columns=[\"sex\",\"income\"], drop_first=True, dtype=\"float32\")"
   ]
  },
  {
   "cell_type": "code",
   "execution_count": 138,
   "id": "68e2d993-e610-4d6f-b9ab-5b23ec40f104",
   "metadata": {},
   "outputs": [
    {
     "data": {
      "text/plain": [
       "(30162, 103)"
      ]
     },
     "execution_count": 138,
     "metadata": {},
     "output_type": "execute_result"
    }
   ],
   "source": [
    "data_full_encoding.shape"
   ]
  },
  {
   "cell_type": "code",
   "execution_count": 139,
   "id": "952087fa-15fd-4f63-b68a-0e38ea53977c",
   "metadata": {
    "scrolled": true
   },
   "outputs": [
    {
     "data": {
      "text/html": [
       "<div>\n",
       "<style scoped>\n",
       "    .dataframe tbody tr th:only-of-type {\n",
       "        vertical-align: middle;\n",
       "    }\n",
       "\n",
       "    .dataframe tbody tr th {\n",
       "        vertical-align: top;\n",
       "    }\n",
       "\n",
       "    .dataframe thead th {\n",
       "        text-align: right;\n",
       "    }\n",
       "</style>\n",
       "<table border=\"1\" class=\"dataframe\">\n",
       "  <thead>\n",
       "    <tr style=\"text-align: right;\">\n",
       "      <th></th>\n",
       "      <th>age</th>\n",
       "      <th>education.num</th>\n",
       "      <th>capital.gain</th>\n",
       "      <th>capital.loss</th>\n",
       "      <th>hours.per.week</th>\n",
       "    </tr>\n",
       "  </thead>\n",
       "  <tbody>\n",
       "    <tr>\n",
       "      <th>1</th>\n",
       "      <td>82</td>\n",
       "      <td>9</td>\n",
       "      <td>0</td>\n",
       "      <td>4356</td>\n",
       "      <td>18</td>\n",
       "    </tr>\n",
       "    <tr>\n",
       "      <th>3</th>\n",
       "      <td>54</td>\n",
       "      <td>4</td>\n",
       "      <td>0</td>\n",
       "      <td>3900</td>\n",
       "      <td>40</td>\n",
       "    </tr>\n",
       "    <tr>\n",
       "      <th>4</th>\n",
       "      <td>41</td>\n",
       "      <td>10</td>\n",
       "      <td>0</td>\n",
       "      <td>3900</td>\n",
       "      <td>40</td>\n",
       "    </tr>\n",
       "    <tr>\n",
       "      <th>5</th>\n",
       "      <td>34</td>\n",
       "      <td>9</td>\n",
       "      <td>0</td>\n",
       "      <td>3770</td>\n",
       "      <td>45</td>\n",
       "    </tr>\n",
       "    <tr>\n",
       "      <th>6</th>\n",
       "      <td>38</td>\n",
       "      <td>6</td>\n",
       "      <td>0</td>\n",
       "      <td>3770</td>\n",
       "      <td>40</td>\n",
       "    </tr>\n",
       "    <tr>\n",
       "      <th>...</th>\n",
       "      <td>...</td>\n",
       "      <td>...</td>\n",
       "      <td>...</td>\n",
       "      <td>...</td>\n",
       "      <td>...</td>\n",
       "    </tr>\n",
       "    <tr>\n",
       "      <th>32556</th>\n",
       "      <td>22</td>\n",
       "      <td>10</td>\n",
       "      <td>0</td>\n",
       "      <td>0</td>\n",
       "      <td>40</td>\n",
       "    </tr>\n",
       "    <tr>\n",
       "      <th>32557</th>\n",
       "      <td>27</td>\n",
       "      <td>12</td>\n",
       "      <td>0</td>\n",
       "      <td>0</td>\n",
       "      <td>38</td>\n",
       "    </tr>\n",
       "    <tr>\n",
       "      <th>32558</th>\n",
       "      <td>40</td>\n",
       "      <td>9</td>\n",
       "      <td>0</td>\n",
       "      <td>0</td>\n",
       "      <td>40</td>\n",
       "    </tr>\n",
       "    <tr>\n",
       "      <th>32559</th>\n",
       "      <td>58</td>\n",
       "      <td>9</td>\n",
       "      <td>0</td>\n",
       "      <td>0</td>\n",
       "      <td>40</td>\n",
       "    </tr>\n",
       "    <tr>\n",
       "      <th>32560</th>\n",
       "      <td>22</td>\n",
       "      <td>9</td>\n",
       "      <td>0</td>\n",
       "      <td>0</td>\n",
       "      <td>20</td>\n",
       "    </tr>\n",
       "  </tbody>\n",
       "</table>\n",
       "<p>30162 rows × 5 columns</p>\n",
       "</div>"
      ],
      "text/plain": [
       "       age  education.num  capital.gain  capital.loss  hours.per.week\n",
       "1       82              9             0          4356              18\n",
       "3       54              4             0          3900              40\n",
       "4       41             10             0          3900              40\n",
       "5       34              9             0          3770              45\n",
       "6       38              6             0          3770              40\n",
       "...    ...            ...           ...           ...             ...\n",
       "32556   22             10             0             0              40\n",
       "32557   27             12             0             0              38\n",
       "32558   40              9             0             0              40\n",
       "32559   58              9             0             0              40\n",
       "32560   22              9             0             0              20\n",
       "\n",
       "[30162 rows x 5 columns]"
      ]
     },
     "execution_count": 139,
     "metadata": {},
     "output_type": "execute_result"
    }
   ],
   "source": [
    "data_full_encoding.select_dtypes(include=\"int64\")"
   ]
  },
  {
   "cell_type": "code",
   "execution_count": 140,
   "id": "1c8be7b0-e33a-464b-b663-564471f895fb",
   "metadata": {},
   "outputs": [],
   "source": [
    "data_robust = pd.get_dummies(data_robust, columns=[\"income\"], drop_first=True)"
   ]
  },
  {
   "cell_type": "markdown",
   "id": "5450cfc2-b3cf-4e99-9bec-d02b0fab9f89",
   "metadata": {},
   "source": [
    "### **3 - Model Tranining and Evaluaion**"
   ]
  },
  {
   "cell_type": "markdown",
   "id": "23af44d6-425e-4765-a052-3c56b3f75aa9",
   "metadata": {},
   "source": [
    "Two functions will be built: one to split the data, and the other for training and evaluation."
   ]
  },
  {
   "cell_type": "code",
   "execution_count": 143,
   "id": "925fb82f-8ec6-4451-a48c-d01c2c5cd699",
   "metadata": {},
   "outputs": [],
   "source": [
    "#Takes the dataset and split it into a tranining and testing sets\n",
    "def split_data(dataset, target):\n",
    "    \"\"\"\n",
    "    Split the dataset into training and testing sets.\n",
    "    \n",
    "    Parameters:\n",
    "    - dataset: The speicific dataset that needs spliting\n",
    "    - target: The target label\n",
    "\n",
    "    \n",
    "    Returns:\n",
    "    - X_train, X_test, Y_train, Y_test: Sets which will be used to train and test the models\n",
    "    \"\"\"\n",
    "\n",
    "    \n",
    "    X = dataset.drop(target, axis=1)\n",
    "    Y = dataset[target]\n",
    "    X_train, X_test, Y_train, Y_test = train_test_split(\n",
    "        X, Y, test_size=0.2, stratify=Y, random_state=1\n",
    "    )\n",
    "    \n",
    "    return X_train, X_test, Y_train, Y_test"
   ]
  },
  {
   "cell_type": "code",
   "execution_count": 144,
   "id": "b3b75f1b-3f81-4621-ae98-823aaa353ccf",
   "metadata": {},
   "outputs": [],
   "source": [
    "def train_and_evaluate(X_train, X_test, Y_train, Y_test, model, dataset_type, scaling=True):\n",
    "    \"\"\"\n",
    "    Trains and evaluates a model on given data.\n",
    "    \n",
    "    Parameters:\n",
    "    - X_train, X_test, Y_train, Y_test: Tranining and testing sets\n",
    "    - model: Any estimator that supports fit and predict methods\n",
    "    - data_type: String to indicate dataset type (preprocessed, fully one-hot endoded, or raw)\n",
    "    - scaling: Boolean, whether to scale features\n",
    "    \n",
    "    \"\"\"\n",
    "    \n",
    "    # Scale only numerical (int64) columns if scaling is True\n",
    "    if scaling:\n",
    "        scaler = StandardScaler()\n",
    "\n",
    "        num_cols = X_train.select_dtypes(include=\"int64\").columns\n",
    "        X_train[num_cols] = scaler.fit_transform(X_train[num_cols])\n",
    "        X_test[num_cols] = scaler.transform(X_test[num_cols])\n",
    "\n",
    "    # Fit the model and calculate the time required for training\n",
    "    start_train_time = time.time()\n",
    "    model.fit(X_train, Y_train)\n",
    "    end_train_time = time.time()\n",
    "    elapsed_train_time = end_train_time - start_train_time\n",
    "\n",
    "    \n",
    "    # Make predictions and end calculate the time required for inference\n",
    "    start_inference_time = time.time()\n",
    "    prediction = model.predict(X_test)\n",
    "    end_inference_time = time.time()\n",
    "    elapsed_inference_time = end_inference_time - start_inference_time\n",
    "    \n",
    "    # Print evaluation metrics\n",
    "    print(f\"--- {dataset_type} ---\")\n",
    "    print(f\"Accuracy: {round(accuracy_score(Y_test, prediction), 3)}\")\n",
    "    print(f\"Precision: {round(precision_score(Y_test, prediction), 3)}\")\n",
    "    print(f\"Recall: {round(recall_score(Y_test, prediction), 3)}\")\n",
    "    print(f\"F1-score: {round(f1_score(Y_test, prediction), 3)}\")\n",
    "    print(f\"Training time: {elapsed_train_time:.3f} seconds\")\n",
    "    print(f\"Inference time: {elapsed_inference_time:.3f} seconds\")\n",
    "\n"
   ]
  },
  {
   "cell_type": "markdown",
   "id": "70bd0cfe-1012-494e-a811-f551b3783835",
   "metadata": {},
   "source": [
    "Three models will be defined:\n",
    "\n",
    "- `model_preprocessed`: a logistic regression model that will use `data_preprocessed` for training and evaluation.\n",
    "- `model_full_encoding`: a logistic regression model that will use `data_full_encoding` for training and evaluation.\n",
    "- `model_robust`: a CatBoost model that will use `data_robust` for training and evaluation.\n"
   ]
  },
  {
   "cell_type": "code",
   "execution_count": 146,
   "id": "cc3c4e5c-31f6-465f-8e0a-a21a60ccc59d",
   "metadata": {},
   "outputs": [],
   "source": [
    "model_preprocessed = LogisticRegression(max_iter=1000)"
   ]
  },
  {
   "cell_type": "code",
   "execution_count": 147,
   "id": "c6c17721-b215-42ef-a115-5045ede068a8",
   "metadata": {},
   "outputs": [],
   "source": [
    "model_full_encoding = LogisticRegression(max_iter=1000)"
   ]
  },
  {
   "cell_type": "code",
   "execution_count": 148,
   "id": "d65f6ed8-f351-4423-a10c-1fcf0ed3ce8a",
   "metadata": {},
   "outputs": [],
   "source": [
    "cat_columns = data_robust.select_dtypes(include=\"object\").columns.tolist()"
   ]
  },
  {
   "cell_type": "code",
   "execution_count": 149,
   "id": "c6f5ec5d-7ac4-48f1-ab85-ae5001b70b3b",
   "metadata": {},
   "outputs": [],
   "source": [
    "model_robust = CatBoostClassifier(silent=True, cat_features=cat_columns )"
   ]
  },
  {
   "cell_type": "markdown",
   "id": "8404a464-304a-4248-b510-9e04437be3aa",
   "metadata": {},
   "source": [
    "The the three datasets will be split."
   ]
  },
  {
   "cell_type": "code",
   "execution_count": 151,
   "id": "6672e395-64d7-4f19-9d08-9ff210bd4335",
   "metadata": {},
   "outputs": [],
   "source": [
    "X_train1, X_test1, Y_train1, Y_test1 = split_data(data_preprocessed, \"income_>50K\")"
   ]
  },
  {
   "cell_type": "code",
   "execution_count": 152,
   "id": "6f95b788-4e22-486c-af24-f5d745ad6995",
   "metadata": {},
   "outputs": [],
   "source": [
    "X_train2, X_test2, Y_train2, Y_test2 = split_data(data_full_encoding, \"income_>50K\")"
   ]
  },
  {
   "cell_type": "code",
   "execution_count": 153,
   "id": "aac62336-bd48-4b29-9d9d-b1c76b08fe4a",
   "metadata": {},
   "outputs": [],
   "source": [
    "X_train3, X_test3, Y_train3, Y_test3 = split_data(data_robust, \"income_>50K\")"
   ]
  },
  {
   "cell_type": "markdown",
   "id": "37c79ba0-d5b7-427a-9abb-871873a560c8",
   "metadata": {},
   "source": [
    "Now, the three models will be trained and evaluated."
   ]
  },
  {
   "cell_type": "code",
   "execution_count": 155,
   "id": "f8dbf2be-8fb1-4538-b176-624c29ccf4c5",
   "metadata": {},
   "outputs": [
    {
     "name": "stdout",
     "output_type": "stream",
     "text": [
      "--- Featured-Engineered Dataset ---\n",
      "Accuracy: 0.837\n",
      "Precision: 0.716\n",
      "Recall: 0.573\n",
      "F1-score: 0.636\n",
      "Training time: 0.025 seconds\n",
      "Inference time: 0.000 seconds\n",
      "--- Fully One-Hot Encoded Dataset ---\n",
      "Accuracy: 0.846\n",
      "Precision: 0.726\n",
      "Recall: 0.61\n",
      "F1-score: 0.663\n",
      "Training time: 0.434 seconds\n",
      "Inference time: 0.008 seconds\n",
      "--- Raw Dataset ---\n",
      "Accuracy: 0.871\n",
      "Precision: 0.777\n",
      "Recall: 0.674\n",
      "F1-score: 0.722\n",
      "Training time: 44.144 seconds\n",
      "Inference time: 0.026 seconds\n"
     ]
    }
   ],
   "source": [
    "train_and_evaluate(X_train1, X_test1, Y_train1, Y_test1, model_preprocessed, \"Featured-Engineered Dataset\", scaling=True)\n",
    "\n",
    "train_and_evaluate(X_train2, X_test2, Y_train2, Y_test2, model_full_encoding, \"Fully One-Hot Encoded Dataset\", scaling=True)\n",
    "\n",
    "train_and_evaluate(X_train3, X_test3, Y_train3, Y_test3, model_robust, \"Raw Dataset\", scaling=False)"
   ]
  },
  {
   "cell_type": "markdown",
   "id": "461bacd9-6ae1-47fa-90b4-7efa496b6453",
   "metadata": {},
   "source": [
    "### **4 - Discussion and Conclusion**"
   ]
  },
  {
   "cell_type": "markdown",
   "id": "2d9f4247-ee24-4cf4-87df-c6ed44e12b16",
   "metadata": {},
   "source": [
    "The feature-engineered dataset achived a predictive performance of ~F1-score: 0.636 with only 30 features, demonstrating that reducing cardinality and simplifying categorical features can retain meaningful predictive power when done carefully, while improving interpretability and computational efficiency. This approach represents a balance between performance and explainability, which might make it more suitable for scenarios where model transparency and maintainability are prioritized.\n",
    "\n",
    "The fully one-hot encoded dataset achieved an F1-score of ~0.663 with 103 features. It performed slightly better, but at the cost of higher model complexity, with ~70% more features compared to the feature-engineered model.\n",
    "\n",
    "The raw dataset achieved the highest F1-score of 0.722. However, it required substantially more training time (over 1200 times longer than the feature-engineered model).\n",
    "\n",
    "The choice depends on the context and intended usage:\n",
    "\n",
    "- If interpretability, simplicity, and fast inference are key, the feature-engineered dataset might offers an optimal trade-off.\n",
    "\n",
    "- If maximum accuracy and predictive power are the primary goals, computation and inference times are acceptable, and the increased integraion complexity is manageable, then the CatBoost model may be the preferred choice.\n",
    "\n",
    "\n",
    "In conclusion, this notebook shows the trade-offs between feature complexity, performance, and practicality. Feature engineering produced a compact, interpretable model with competitive accuracy. Full one-hot encoding improved performance slightly but with increased dimensionality, complexity and perhaps fragility. The raw dataset with CatBoost achieved the highest predictive power but required the most resources and might pose the highest techinical complexity.\n",
    "\n"
   ]
  },
  {
   "cell_type": "code",
   "execution_count": null,
   "id": "e27d33fd-392b-466e-8c52-caf011648575",
   "metadata": {},
   "outputs": [],
   "source": []
  }
 ],
 "metadata": {
  "kernelspec": {
   "display_name": "Python [conda env:base] *",
   "language": "python",
   "name": "conda-base-py"
  },
  "language_info": {
   "codemirror_mode": {
    "name": "ipython",
    "version": 3
   },
   "file_extension": ".py",
   "mimetype": "text/x-python",
   "name": "python",
   "nbconvert_exporter": "python",
   "pygments_lexer": "ipython3",
   "version": "3.12.7"
  }
 },
 "nbformat": 4,
 "nbformat_minor": 5
}
